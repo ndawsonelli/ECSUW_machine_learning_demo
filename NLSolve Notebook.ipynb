{
 "cells": [
  {
   "cell_type": "code",
   "execution_count": 3,
   "metadata": {
    "collapsed": false
   },
   "outputs": [
    {
     "name": "stderr",
     "output_type": "stream",
     "text": [
      "WARNING: Method definition f!(Any, Any"
     ]
    },
    {
     "data": {
      "text/plain": [
       "Results of Nonlinear Solver Algorithm\n",
       " * Algorithm: Trust-region with dogleg and autoscaling\n",
       " * Starting Point: [0.1,1.2]\n",
       " * Zero: [-3.7818e-16,1.0]\n",
       " * Inf-norm of residuals: 0.000000\n",
       " * Iterations: 4\n",
       " * Convergence: true\n",
       "   * |x - x'| < 0.0e+00: false\n",
       "   * |f(x)| < 1.0e-08: true\n",
       " * Function Calls (f): 5\n",
       " * Jacobian Calls (df/dx): 5"
      ]
     },
     "execution_count": 3,
     "metadata": {},
     "output_type": "execute_result"
    },
    {
     "name": "stderr",
     "output_type": "stream",
     "text": [
      ") in module Main at In[1]:5 overwritten at In[3]:6.\n",
      "WARNING: Method definition g!(Any, Any) in module Main at In[1]:10 overwritten at In[3]:11.\n"
     ]
    }
   ],
   "source": [
    "#you can use NL solve to find the jacobians and solve things using finite difference methods\n",
    "using NLsolve\n",
    "using BenchmarkTools\n",
    "\n",
    "function f!(x, fvec)\n",
    "    fvec[1] = (x[1]+3)*(x[2]^3-7)+18\n",
    "    fvec[2] = sin(x[2]*exp(x[1])-1)\n",
    "end\n",
    "\n",
    "function g!(x, fjac)\n",
    "    fjac[1, 1] = x[2]^3-7\n",
    "    fjac[1, 2] = 3*x[2]^2*(x[1]+3)\n",
    "    u = exp(x[1])*cos(x[2]*exp(x[1])-1)\n",
    "    fjac[2, 1] = x[2]*u\n",
    "    fjac[2, 2] = u\n",
    "end\n",
    "\n",
    "nlsolve(f!, g!, [ 0.1; 1.2])"
   ]
  },
  {
   "cell_type": "code",
   "execution_count": 4,
   "metadata": {
    "collapsed": false
   },
   "outputs": [
    {
     "data": {
      "text/plain": [
       "BenchmarkTools.Trial: \n",
       "  memory estimate:  4.34 kb\n",
       "  allocs estimate:  91\n",
       "  --------------\n",
       "  minimum time:     11.196 μs (0.00% GC)\n",
       "  median time:      12.130 μs (0.00% GC)\n",
       "  mean time:        14.071 μs (3.79% GC)\n",
       "  maximum time:     2.883 ms (96.88% GC)\n",
       "  --------------\n",
       "  samples:          10000\n",
       "  evals/sample:     1\n",
       "  time tolerance:   5.00%\n",
       "  memory tolerance: 1.00%"
      ]
     },
     "execution_count": 4,
     "metadata": {},
     "output_type": "execute_result"
    }
   ],
   "source": [
    "@benchmark nlsolve(f!, g!, [0.1,1.2])"
   ]
  },
  {
   "cell_type": "code",
   "execution_count": 7,
   "metadata": {
    "collapsed": false
   },
   "outputs": [
    {
     "data": {
      "text/plain": [
       "Results of Nonlinear Solver Algorithm\n",
       " * Algorithm: Trust-region with dogleg and autoscaling\n",
       " * Starting Point: [0.1,1.2]\n",
       " * Zero: [-7.77555e-17,1.0]\n",
       " * Inf-norm of residuals: 0.000000\n",
       " * Iterations: 4\n",
       " * Convergence: true\n",
       "   * |x - x'| < 0.0e+00: false\n",
       "   * |f(x)| < 1.0e-08: true\n",
       " * Function Calls (f): 5\n",
       " * Jacobian Calls (df/dx): 5"
      ]
     },
     "execution_count": 7,
     "metadata": {},
     "output_type": "execute_result"
    }
   ],
   "source": [
    "initial_x = [ 0.1; 1.2]\n",
    "nlsolve(f!, initial_x)"
   ]
  },
  {
   "cell_type": "code",
   "execution_count": 8,
   "metadata": {
    "collapsed": false
   },
   "outputs": [
    {
     "data": {
      "text/plain": [
       "BenchmarkTools.Trial: \n",
       "  memory estimate:  9.22 kb\n",
       "  allocs estimate:  188\n",
       "  --------------\n",
       "  minimum time:     17.729 μs (0.00% GC)\n",
       "  median time:      19.594 μs (0.00% GC)\n",
       "  mean time:        22.743 μs (5.21% GC)\n",
       "  maximum time:     3.204 ms (97.15% GC)\n",
       "  --------------\n",
       "  samples:          10000\n",
       "  evals/sample:     1\n",
       "  time tolerance:   5.00%\n",
       "  memory tolerance: 1.00%"
      ]
     },
     "execution_count": 8,
     "metadata": {},
     "output_type": "execute_result"
    }
   ],
   "source": [
    "@benchmark nlsolve(f!, initial_x)"
   ]
  },
  {
   "cell_type": "code",
   "execution_count": 11,
   "metadata": {
    "collapsed": false
   },
   "outputs": [
    {
     "data": {
      "text/plain": [
       "0.36852791878172597"
      ]
     },
     "execution_count": 11,
     "metadata": {},
     "output_type": "execute_result"
    }
   ],
   "source": [
    "1-11.196/17.73"
   ]
  },
  {
   "cell_type": "code",
   "execution_count": 13,
   "metadata": {
    "collapsed": false
   },
   "outputs": [
    {
     "data": {
      "text/plain": [
       "(::#5) (generic function with 1 method)"
      ]
     },
     "execution_count": 13,
     "metadata": {},
     "output_type": "execute_result"
    }
   ],
   "source": [
    "using ForwardDiff\n",
    "g = x -> ForwardDiff.gradient(f!, x); # g = ∇f\n",
    "# g(x)"
   ]
  },
  {
   "cell_type": "code",
   "execution_count": 15,
   "metadata": {
    "collapsed": false
   },
   "outputs": [
    {
     "ename": "LoadError",
     "evalue": "LoadError: MethodError: no method matching (::##5#6)(::Array{Float64,1}, ::Array{Float64,2})\nClosest candidates are:\n  #5(::Any) at In[13]:2\nwhile loading In[15], in expression starting on line 1",
     "output_type": "error",
     "traceback": [
      "LoadError: MethodError: no method matching (::##5#6)(::Array{Float64,1}, ::Array{Float64,2})\nClosest candidates are:\n  #5(::Any) at In[13]:2\nwhile loading In[15], in expression starting on line 1",
      "",
      " in (::NLsolve.#fg!#1{#f!,##5#6})(::Array{Float64,1}, ::Array{Float64,1}, ::Array{Float64,2}) at C:\\Users\\Neal\\.julia\\v0.5\\NLsolve\\src\\differentiable_functions.jl:14",
      " in trust_region_(::NLsolve.DifferentiableMultivariateFunction, ::Array{Float64,1}, ::Float64, ::Float64, ::Int64, ::Bool, ::Bool, ::Bool, ::Float64, ::Bool) at C:\\Users\\Neal\\.julia\\v0.5\\NLsolve\\src\\trust_region.jl:87",
      " in #nlsolve#17(::Symbol, ::Float64, ::Float64, ::Int64, ::Bool, ::Bool, ::Bool, ::Function, ::Float64, ::Bool, ::NLsolve.#nlsolve, ::NLsolve.DifferentiableMultivariateFunction, ::Array{Float64,1}) at C:\\Users\\Neal\\.julia\\v0.5\\NLsolve\\src\\nlsolve_func_defs.jl:24",
      " in (::NLsolve.#kw##nlsolve)(::Array{Any,1}, ::NLsolve.#nlsolve, ::NLsolve.DifferentiableMultivariateFunction, ::Array{Float64,1}) at .\\<missing>:0",
      " in nlsolve(::Function, ::Function, ::Array{Float64,1}) at C:\\Users\\Neal\\.julia\\v0.5\\NLsolve\\src\\nlsolve_func_defs.jl:45"
     ]
    }
   ],
   "source": []
  },
  {
   "cell_type": "code",
   "execution_count": null,
   "metadata": {
    "collapsed": true
   },
   "outputs": [],
   "source": []
  }
 ],
 "metadata": {
  "kernelspec": {
   "display_name": "Julia 0.5.0",
   "language": "julia",
   "name": "julia-0.5"
  },
  "language_info": {
   "file_extension": ".jl",
   "mimetype": "application/julia",
   "name": "julia",
   "version": "0.5.0"
  }
 },
 "nbformat": 4,
 "nbformat_minor": 0
}
