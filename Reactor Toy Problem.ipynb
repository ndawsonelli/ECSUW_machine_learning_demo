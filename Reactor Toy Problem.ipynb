{
 "cells": [
  {
   "cell_type": "markdown",
   "metadata": {},
   "source": [
    "# Machine Learning on Reactor Toy Model: Import and Split into Training / Test Sets"
   ]
  },
  {
   "cell_type": "code",
   "execution_count": 74,
   "metadata": {
    "collapsed": false
   },
   "outputs": [
    {
     "name": "stdout",
     "output_type": "stream",
     "text": [
      "0 0.509999990463\n",
      "1 0.68499994278\n",
      "2 0.810000181198\n",
      "3 0.835000038147\n",
      "4 1.76999998093\n",
      "5 1.30999994278\n",
      "6 1.5529999733\n",
      "7 1.24900007248\n",
      "8 1.22600007057\n",
      "done\n",
      "11.3280000687 seconds for 1k\n"
     ]
    }
   ],
   "source": [
    "import os\n",
    "import numpy as np\n",
    "import pandas as pd\n",
    "import time\n",
    "import matplotlib.pyplot as plt\n",
    "import random\n",
    "\n",
    "%matplotlib inline\n",
    "\n",
    "# n_mult=1\n",
    "# noise_level=.05\n",
    "\n",
    "directory= './data_gen3/'\n",
    "# directory= './Data/Local Sensitivity Expanded/'\n",
    "# directory = './Data/Global Sensitivity/'\n",
    "runs = []\n",
    "for filename in os.listdir(directory):\n",
    "    if filename.startswith('data'):\n",
    "#         run = int(filename.split('_')[2].split('.')[0])\n",
    "        run = int(filename.split('data')[1].split('.')[0])\n",
    "#         print run\n",
    "        runs.append(run)\n",
    "# print runs[0] \n",
    "\n",
    "# for i in range(1000):\n",
    "#     runs.append(random.randint(0,10000))\n",
    "count=0\n",
    "\n",
    "lintimes = np.linspace(1,500,500)\n",
    "# set up the Pandas Dataframes\n",
    "c1=pd.DataFrame(columns=range(500),dtype=np.float64)\n",
    "temps=pd.DataFrame(columns=range(500),dtype=np.float64)\n",
    "# times=pd.DataFrame(columns=range(500),dtype=np.float64)\n",
    "vals=pd.DataFrame(columns=range(10),dtype=np.float64)\n",
    "# temp1=[]\n",
    "# temp2=[]\n",
    "# temp3=[]\n",
    "# names=[]\n",
    "count=0\n",
    "count2=0\n",
    "# Iterate through the files\n",
    "import time\n",
    "st=time.time()\n",
    "st1=time.time()\n",
    "for run in sorted(runs):\n",
    "#     print run\n",
    "#     count=count+1\n",
    "    if True:\n",
    "        filename = 'data' + str(run) + '.csv'\n",
    "        data = pd.read_csv(directory + filename, sep=',')\n",
    "        temp1=[float(data.columns[0])] #time\n",
    "        temp2=[float(data.columns[2])] #Cr\n",
    "        temp3=[float(data.columns[3])] #temp\n",
    "        temp4=[float(data.columns[4])] #input\n",
    "        c1out=[]\n",
    "        Tout=[]\n",
    "        # parse the data\n",
    "        count+=1\n",
    "        for column in data.columns:\n",
    "            if column == data.columns[0]: #pull out time\n",
    "                temp1=np.concatenate((temp1,data[column].tolist()))\n",
    "            if column == data.columns[2]: #pull out CR\n",
    "                temp2=np.concatenate((temp2,data[column].tolist()))\n",
    "            if column == data.columns[3]: #pull out temp\n",
    "                temp3=np.concatenate((temp3,data[column].tolist()))\n",
    "            if column == data.columns[4]: #pull out Ti values\n",
    "                temp4=np.concatenate((temp4,data[column].tolist()))[0:10]\n",
    "        \n",
    "        #Impose a linear fit on each data set to ensure the same number of points per trial\n",
    "        c1out=np.interp(lintimes,temp1,temp2)\n",
    "        Tout=np.interp(lintimes,temp1,temp3)\n",
    "        #Assign to dataframes\n",
    "#         times.loc[run,:]=temp1\n",
    "        c1.loc[run,:]=c1out\n",
    "        temps.loc[run,:]=Tout\n",
    "        vals.loc[run,:]=temp4\n",
    "        if count==100:\n",
    "            count=0\n",
    "            print count2, time.time()-st1\n",
    "            count2+=1\n",
    "            st1=time.time()\n",
    "        \n",
    "\n",
    "\n",
    "# for column in data.columns:\n",
    "#     if column.find('olts') + column.find('urrent') + column.find('ime') < -2:\n",
    "#         if data[column][0]!=0:\n",
    "#             names.append(column) \n",
    "\n",
    "# # Split the data into 'test' and 'training' sets\n",
    "train = sorted(random.sample(range(c1.shape[0]), int(c1.shape[0]*(3.0/4))))\n",
    "test = [x for x in range(c1.shape[0]) if x not in train]\n",
    "P=vals\n",
    "P_mean = P.mean()\n",
    "P_std = P.std()\n",
    "\n",
    "# # Normalize the data\n",
    "# P = (P - P.mean())/P.std()\n",
    "\n",
    "# times_train=times.iloc[train,:]\n",
    "ZZ_train = temps.iloc[train,:]\n",
    "Z_train = c1.iloc[train,:]\n",
    "P_train = P.iloc[train,:]\n",
    "\n",
    "# times_test = times.iloc[test,:]\n",
    "ZZ_test = temps.iloc[test,:]\n",
    "Z_test = c1.iloc[test,:]\n",
    "P_test = P.iloc[test,:]\n",
    "\n",
    "X2_train = pd.DataFrame()\n",
    "X_train = pd.DataFrame()\n",
    "Y_train = pd.DataFrame()\n",
    "\n",
    "# X_train_noise = pd.DataFrame()\n",
    "# X_test_noise = pd.DataFrame()\n",
    "\n",
    "X2_test = pd.DataFrame()\n",
    "X_test = pd.DataFrame()\n",
    "Y_test = pd.DataFrame()\n",
    "\n",
    "# # Add noise and possibly duplicate\n",
    "# for _ in range(n_mult):\n",
    "                      \n",
    "#     X_test_noise = pd.concat((X_test, Z_test + np.random.randn(Z_test.shape[0],Z_test.shape[1])*noise_level))\n",
    "#     X_train_noise = pd.concat((X_train, Z_train + np.random.randn(Z_train.shape[0],Z_train.shape[1])*noise_level))\n",
    "X2_train = pd.concat((X2_train, ZZ_train))    \n",
    "Y_train = pd.concat((Y_train, P_train))\n",
    "X_train = pd.concat((X_train, Z_train))\n",
    "\n",
    "X2_test = pd.concat((X2_test, ZZ_test)) \n",
    "X_test = pd.concat((X_test, Z_test))  \n",
    "Y_test = pd.concat((Y_test, P_test))\n",
    "\n",
    "# Swap these to train the model forwards\n",
    "\n",
    "# times_train=np.array(times_train)    \n",
    "# X_train_noise = np.array(X_train_noise)\n",
    "X2_train = np.array(X2_train)\n",
    "X_train = np.array(X_train)\n",
    "Y_train = np.array(Y_train)\n",
    "\n",
    "\n",
    "# times_test=np.array(times_test)\n",
    "# X_test_noise = np.array(X_test_noise)\n",
    "X2_test = np.array(X2_test)\n",
    "X_test = np.array(X_test)\n",
    "Y_test = np.array(Y_test)\n",
    "\n",
    "\n",
    "# YY_train = Y_train\n",
    "# XX_train = X_train\n",
    "print('done')\n",
    "print (time.time()-st), \"seconds for 1k\"\n",
    "# X_full = np.array(volts)\n",
    "# Y_full = np.array(vals)\n",
    "# print(count)"
   ]
  },
  {
   "cell_type": "code",
   "execution_count": 75,
   "metadata": {
    "collapsed": false
   },
   "outputs": [],
   "source": [
    "# print runs[len(runs)-1]\n",
    "# print 13./3600*263, 'hours for 263k'\n",
    "# print temp1[len(temp1)-1]\n",
    "# outx = np.linspace(1,temp1[len(temp1)-1],500)\n",
    "# # print outx\n",
    "# output1=np.interp(outx,temp1,temp2)\n",
    "# # print output1\n",
    "# plt.plot(temp1,temp2)\n",
    "# plt.plot(outx,output1)\n",
    "# plt.show"
   ]
  },
  {
   "cell_type": "code",
   "execution_count": 76,
   "metadata": {
    "collapsed": false
   },
   "outputs": [
    {
     "data": {
      "image/png": "[encoded data removed]",
      "text/plain": [
       "<matplotlib.figure.Figure at 0xa320668>"
      ]
     },
     "metadata": {},
     "output_type": "display_data"
    }
   ],
   "source": [
    "y_1=[]\n",
    "for i in range(500):\n",
    "    y_1.append(i)\n",
    "for i in range(749):\n",
    "    plt.plot(y_1,X_train[i])\n",
    "#     plt.plot(y_1,X_train_noise[i][153:204])\n",
    "\n",
    "plt.xlim()\n",
    "plt.show()"
   ]
  },
  {
   "cell_type": "code",
   "execution_count": null,
   "metadata": {
    "collapsed": false
   },
   "outputs": [],
   "source": []
  },
  {
   "cell_type": "code",
   "execution_count": 77,
   "metadata": {
    "collapsed": false
   },
   "outputs": [
    {
     "name": "stdout",
     "output_type": "stream",
     "text": [
      "extra trees\n",
      "--- 0.935000181198 seconds ---\n",
      "('Test:', 0.71115966208110926, 'Train:', 0.99998731814645514)\n",
      "decision tree\n",
      "--- 0.309000015259 seconds ---\n",
      "('Test:', 0.22181911526370116, 'Train:', 1.0)\n",
      "KNN\n",
      "--- 0.00399994850159 seconds ---\n",
      "('Test:', 0.81819602024179516, 'Train:', 1.0)\n",
      "linear\n",
      "--- 0.0190000534058 seconds ---\n",
      "('Test:', 0.90177077988200161, 'Train:', 0.89538077297332319)\n"
     ]
    }
   ],
   "source": [
    "# Running different Regression methods\n",
    "from sklearn.ensemble import ExtraTreesRegressor, GradientBoostingRegressor, AdaBoostRegressor\n",
    "from sklearn.tree import DecisionTreeRegressor\n",
    "from sklearn.neighbors import KNeighborsRegressor\n",
    "from sklearn import linear_model\n",
    "\n",
    "import time\n",
    "print(\"extra trees\")\n",
    "start_time = time.time()\n",
    "etr1 = ExtraTreesRegressor(n_estimators=10, n_jobs=-1,max_depth=16)\n",
    "etr1.fit(Y_train,X_train)\n",
    "print(\"--- %s seconds ---\" % (time.time() - start_time))\n",
    "print('Test:', etr1.score(Y_test,X_test), 'Train:', etr1.score(Y_train,X_train))\n",
    "start_time = time.time()\n",
    "\n",
    "#Decision tree\n",
    "import time\n",
    "print(\"decision tree\")\n",
    "start_time = time.time()\n",
    "dt = DecisionTreeRegressor()\n",
    "dt.fit(Y_train,X_train)\n",
    "print(\"--- %s seconds ---\" % (time.time() - start_time))\n",
    "print('Test:', dt.score(Y_test,X_test), 'Train:', dt.score(Y_train,X_train))\n",
    "start_time = time.time()\n",
    "\n",
    "# import time\n",
    "# print(\"extra trees\")\n",
    "# start_time = time.time()\n",
    "# ada = AdaBoostRegressor(DecisionTreeRegressor(max_depth=4),n_estimators=100)\n",
    "# ada.fit(X_train[1],Y_train[1])\n",
    "# print(\"--- %s seconds ---\" % (time.time() - start_time))\n",
    "# print('Test:', ada.score(X_test,Y_test), 'Train:', ada.score(X_train,Y_train))\n",
    "# start_time = time.time()\n",
    "\n",
    "print(\"KNN\")\n",
    "start_time = time.time()\n",
    "knn = KNeighborsRegressor(n_neighbors=6,weights = 'distance')\n",
    "knn.fit(Y_train,X_train)\n",
    "print(\"--- %s seconds ---\" % (time.time() - start_time))\n",
    "print('Test:', knn.score(Y_test,X_test), 'Train:', knn.score(Y_train,X_train))\n",
    "\n",
    "print(\"linear\")\n",
    "start_time = time.time()\n",
    "lin = linear_model.LinearRegression()\n",
    "lin.fit(Y_train,X_train)\n",
    "print(\"--- %s seconds ---\" % (time.time() - start_time))\n",
    "print('Test:', lin.score(Y_test,X_test), 'Train:', lin.score(Y_train,X_train))\n",
    "\n",
    "# print 'GBR'\n",
    "# start_time=time.time()\n",
    "# params = {'n_estimators': 500, 'max_depth': 4, 'min_samples_split': 2,\n",
    "#           'learning_rate': 0.01, 'loss': 'ls'}\n",
    "# gbr = GradientBoostingRegressor(**params)\n",
    "# gbr.fit(X_train, Y_train)\n"
   ]
  },
  {
   "cell_type": "code",
   "execution_count": 78,
   "metadata": {
    "collapsed": false
   },
   "outputs": [],
   "source": [
    "# import time\n",
    "# start_time = time.time()\n",
    "# for i in range(100):\n",
    "#     etr1.predict(X_test[1].reshape(1,-1))\n",
    "# print (time.time()-start_time)/100, 'seconds per prediction'"
   ]
  },
  {
   "cell_type": "code",
   "execution_count": 79,
   "metadata": {
    "collapsed": false
   },
   "outputs": [],
   "source": [
    "# import time\n",
    "# start_time = time.time()\n",
    "# for i in range(100):\n",
    "#     dt.predict(X_test[1].reshape(1,-1))\n",
    "# print (time.time()-start_time)/100, 'seconds per prediction'"
   ]
  },
  {
   "cell_type": "code",
   "execution_count": 80,
   "metadata": {
    "collapsed": false,
    "scrolled": true
   },
   "outputs": [],
   "source": [
    "# import time\n",
    "# start_time = time.time()\n",
    "# for i in range(100):\n",
    "#     knn.predict(X_test[1].reshape(1,-1))\n",
    "# print (time.time()-start_time)/100, 'seconds per prediction'"
   ]
  },
  {
   "cell_type": "code",
   "execution_count": 81,
   "metadata": {
    "collapsed": false
   },
   "outputs": [],
   "source": [
    "# clf2 = ExtraTreesRegressor(bootstrap=False, criterion='mse', max_depth=20,\n",
    "#           max_features=1, max_leaf_nodes=None, min_impurity_split=1e-07,\n",
    "#           min_samples_leaf=7, min_samples_split=2,\n",
    "#           min_weight_fraction_leaf=0.0, n_estimators=500, n_jobs=1,\n",
    "#           oob_score=False, random_state=12, verbose=0, warm_start=False)\n",
    "# clf2.fit(X_train,Y_train)\n",
    "# print clf2.score(X_train,Y_train)\n",
    "# print clf2.score(X_test, Y_test)"
   ]
  },
  {
   "cell_type": "code",
   "execution_count": 82,
   "metadata": {
    "collapsed": false
   },
   "outputs": [],
   "source": [
    "# clf3 = ExtraTreesRegressor(n_jobs=-1,n_estimators=500,random_state=12)\n",
    "# clf3.fit(X_train,Y_train)\n",
    "# print clf3.score(X_train,Y_train)\n",
    "# print clf3.score(X_test, Y_test)\n",
    "# print clf3.predict(X_test[5].reshape(1,-1))-Y_test[5]"
   ]
  },
  {
   "cell_type": "code",
   "execution_count": 83,
   "metadata": {
    "collapsed": false
   },
   "outputs": [],
   "source": [
    "# print clf2.predict(X_test[5].reshape(1,-1))-Y_test[5]"
   ]
  },
  {
   "cell_type": "code",
   "execution_count": 84,
   "metadata": {
    "collapsed": false
   },
   "outputs": [],
   "source": [
    "# r.grid_scores_[6].cv_validation_scores"
   ]
  },
  {
   "cell_type": "code",
   "execution_count": 85,
   "metadata": {
    "collapsed": false
   },
   "outputs": [],
   "source": [
    "# print r.best_estimator_\n",
    "# print r.best_estimator_.score(X_test,Y_test)\n",
    "# test1 = r.best_estimator_.predict(X_test[1].reshape(1,-1))-Y_test[1]\n",
    "# test2 = etr1.predict(X_test[1].reshape(1,-1))-Y_test[1]\n"
   ]
  },
  {
   "cell_type": "markdown",
   "metadata": {},
   "source": [
    "### Learn about Hyperparameters"
   ]
  },
  {
   "cell_type": "code",
   "execution_count": 86,
   "metadata": {
    "collapsed": false
   },
   "outputs": [],
   "source": [
    "#list hyperparameters\n",
    "# etr.get_params()"
   ]
  },
  {
   "cell_type": "code",
   "execution_count": 87,
   "metadata": {
    "collapsed": false
   },
   "outputs": [
    {
     "data": {
      "image/png": "[encoded data removed]",
      "text/plain": [
       "<matplotlib.figure.Figure at 0x4864b2b0>"
      ]
     },
     "metadata": {},
     "output_type": "display_data"
    }
   ],
   "source": [
    "# print etr1.predict(Y_train[2].reshape(1,-1)).tolist()[0]\n",
    "# print \n",
    "n=140\n",
    "q=Y_test[n].reshape(1,-1)\n",
    "# print (Y_test[n]*P_std)+P_mean\n",
    "plt.plot(y_1,etr1.predict(q).tolist()[0],label='etr')\n",
    "plt.plot(y_1,X_test[n],label='true')\n",
    "plt.plot(y_1,lin.predict(q).tolist()[0],label='linear')\n",
    "plt.plot(y_1,dt.predict(q).tolist()[0],label='dt')\n",
    "plt.plot(y_1,knn.predict(q).tolist()[0],label='knn')\n",
    "plt.legend()\n",
    "plt.show()"
   ]
  },
  {
   "cell_type": "markdown",
   "metadata": {},
   "source": [
    "# Time to practice fitting a learning algorithm to the outputs of learning algorithms!!"
   ]
  },
  {
   "cell_type": "code",
   "execution_count": 88,
   "metadata": {
    "collapsed": false
   },
   "outputs": [
    {
     "name": "stdout",
     "output_type": "stream",
     "text": [
      "(749L, 2000L)\n"
     ]
    }
   ],
   "source": [
    "# Set up the y_train dataset, which is the outputs of all the data sets...\n",
    "qq=lin.predict(Y_train)\n",
    "qq = np.concatenate((qq,etr1.predict(Y_train)),axis=1)\n",
    "qq = np.concatenate((qq,dt.predict(Y_train)),axis=1)\n",
    "qq = np.concatenate((qq,knn.predict(Y_train)),axis=1)\n",
    "\n",
    "qqq=lin.predict(Y_test)\n",
    "qqq = np.concatenate((qqq,etr1.predict(Y_test)),axis=1)\n",
    "qqq = np.concatenate((qqq,dt.predict(Y_test)),axis=1)\n",
    "qqq = np.concatenate((qqq,knn.predict(Y_test)),axis=1)\n",
    "print qq.shape\n"
   ]
  },
  {
   "cell_type": "code",
   "execution_count": 89,
   "metadata": {
    "collapsed": false
   },
   "outputs": [
    {
     "name": "stdout",
     "output_type": "stream",
     "text": [
      "linear\n",
      "--- 21.7749998569 seconds ---\n",
      "('Test:', 0.7689160825397322, 'Train:', 0.9989826964620202)\n"
     ]
    }
   ],
   "source": [
    "print(\"linear\")\n",
    "start_time = time.time()\n",
    "# lin2 = linear_model.LinearRegression()\n",
    "lin2=ExtraTreesRegressor(n_estimators=10, n_jobs=-1,max_depth=10)\n",
    "lin2.fit(qq,X_train)\n",
    "print(\"--- %s seconds ---\" % (time.time() - start_time))\n",
    "print('Test:', lin2.score(qqq,X_test), 'Train:', lin2.score(qq,X_train))"
   ]
  },
  {
   "cell_type": "code",
   "execution_count": 90,
   "metadata": {
    "collapsed": false
   },
   "outputs": [
    {
     "data": {
      "image/png": "[encoded data removed]",
      "text/plain": [
       "<matplotlib.figure.Figure at 0x10d2fd68>"
      ]
     },
     "metadata": {},
     "output_type": "display_data"
    }
   ],
   "source": [
    "n=173\n",
    "q=Y_test[n].reshape(1,-1)\n",
    "# print (Y_test[n]*P_std)+P_mean\n",
    "plt.plot(y_1,etr1.predict(q).tolist()[0],label='etr')\n",
    "plt.plot(y_1,X_test[n],label='true')\n",
    "# plt.plot(y_1,lin.predict(q).tolist()[0],label='linear')\n",
    "# plt.plot(y_1,dt.predict(q).tolist()[0],label='dt')\n",
    "# plt.plot(y_1,knn.predict(q).tolist()[0],label='knn')\n",
    "plt.plot(y_1,lin2.predict(qqq[n].reshape(1,-1)).tolist()[0],label='superlin')\n",
    "plt.legend()\n",
    "plt.show()"
   ]
  },
  {
   "cell_type": "markdown",
   "metadata": {},
   "source": [
    "# Time to write a poopy optimizer (maybe a genetic algorithm?)"
   ]
  },
  {
   "cell_type": "code",
   "execution_count": 91,
   "metadata": {
    "collapsed": false
   },
   "outputs": [
    {
     "data": {
      "image/png": "[encoded data removed]",
      "text/plain": [
       "<matplotlib.figure.Figure at 0x10cdb6a0>"
      ]
     },
     "metadata": {},
     "output_type": "display_data"
    }
   ],
   "source": [
    "#import target curve:\n",
    "targetdata = pd.read_csv(directory + 'target2.csv', sep=',')\n",
    "temp6=[float(data.columns[0])] #time\n",
    "temp5=[float(targetdata.columns[1])] #CR\n",
    "temp6=np.concatenate((temp6,targetdata[targetdata.columns[0]].tolist()))\n",
    "temp5=np.concatenate((temp5,targetdata[targetdata.columns[1]].tolist()))\n",
    "y_2=np.linspace(1,500,500)\n",
    "c1out=np.interp(y_2,temp6,temp5)\n",
    "targetdata=c1out.tolist()\n",
    "# print len(temp5), len(y_1)\n",
    "# print targetdata = np.arr\n",
    "plt.plot(y_1,targetdata)\n",
    "plt.show()"
   ]
  },
  {
   "cell_type": "code",
   "execution_count": 104,
   "metadata": {
    "collapsed": false
   },
   "outputs": [
    {
     "name": "stdout",
     "output_type": "stream",
     "text": [
      "done\n"
     ]
    }
   ],
   "source": [
    "from sklearn.metrics import mean_squared_error\n",
    "from math import sqrt\n",
    "#Set up genetic algorithm component\n",
    "#create a random string for the individual\n",
    "def individual(length, min, max):\n",
    "    'Create a member of the population.'\n",
    "    return [ random.randint(min,max) for x in xrange(length) ]\n",
    "\n",
    "#assemble them into a population\n",
    "def population(count, length, min, max):\n",
    "    \"\"\"\n",
    "    Create a number of individuals (i.e. a population).\n",
    "\n",
    "    count: the number of individuals in the population\n",
    "    length: the number of values per individual\n",
    "    min: the min possible value in an individual's list of values\n",
    "    max: the max possible value in an individual's list of values\n",
    " \n",
    "    \"\"\"\n",
    "    return [ individual(length, min, max) for x in xrange(count) ]\n",
    "def fitness(individual1, target):\n",
    "#     print etr1.predict(individual1)[0]\n",
    "    rms=sqrt(mean_squared_error(etr1.predict(np.asarray(individual1).reshape(1,-1))[0], target))\n",
    "    return rms\n",
    "from operator import add\n",
    "def grade(pop, target):\n",
    "    'find average fitness for population'\n",
    "    summed = reduce(add, (fitness(x,target) for x in pop), 0)\n",
    "    return summed/(len(pop)*1.0)\n",
    "x=population(3,10,0,600)\n",
    "# print etr1.predict(np.asarray(x[0]).reshape(1,-1))\n",
    "# grade(x,targetdata)\n",
    "# chance_to_mutate = 0.01\n",
    "\n",
    "\n",
    "def evolve(pop, target, retain=0.3, random_select=0.05, mutate=0.2):\n",
    "    st=time.time()\n",
    "#     print 'startingg'\n",
    "    graded = [ (fitness(x, target), x) for x in pop]\n",
    "    graded = [ x[1] for x in sorted(graded)]\n",
    "    retain_length = int(len(graded)*retain)\n",
    "    parents = graded[:retain_length]\n",
    "#     print time.time()-st, 1\n",
    "    # randomly add other individuals to promote genetic diversity\n",
    "    for individual in graded[retain_length:]:\n",
    "        if random_select > random.random():\n",
    "            parents.append(individual)\n",
    "#     print time.time()-st, 2\n",
    "    # mutate some individuals\n",
    "    for individual in parents:\n",
    "        if mutate > random.random():\n",
    "            pos_to_mutate = random.randint(0, len(individual)-1)\n",
    "            # this mutation is not ideal, because it\n",
    "            # restricts the range of possible values,\n",
    "            # but the function is unaware of the min/max\n",
    "            # values used to create the individuals,\n",
    "            individual[pos_to_mutate] = random.randint(\n",
    "                0, 600)\n",
    "#     print time.time()-st, 3\n",
    "    # crossover parents to create children\n",
    "    parents_length = len(parents)\n",
    "    desired_length = len(pop) - parents_length\n",
    "    children = []\n",
    "    while len(children) < desired_length:\n",
    "#         print len(children), desired_length, parents_length\n",
    "        male = random.randint(0, parents_length-1)\n",
    "        female = random.randint(0, parents_length-1)\n",
    "#         print male, female\n",
    "        if male != female:\n",
    "#             print male\n",
    "            male = parents[male]\n",
    "            female = parents[female]\n",
    "            half = len(male) / 2\n",
    "            child = male[:half] + female[half:]\n",
    "            children.append(child)\n",
    "#             print 'ok'\n",
    "#     print time.time()-st, 4\n",
    "    parents.extend(children)\n",
    "#     print time.time()-st, 5\n",
    "    return parents\n",
    "\n",
    "print 'done'\n"
   ]
  },
  {
   "cell_type": "code",
   "execution_count": 105,
   "metadata": {
    "collapsed": false,
    "scrolled": true
   },
   "outputs": [
    {
     "name": "stderr",
     "output_type": "stream",
     "text": [
      "100%|██████████████████████████████████████████████████████████████████████████████████| 10/10 [01:47<00:00, 10.72s/it]\n"
     ]
    },
    {
     "name": "stdout",
     "output_type": "stream",
     "text": [
      "0.0742139497943\n",
      "0.0551144568247\n",
      "0.0329010538188\n",
      "0.0263126736359\n",
      "0.0239001766369\n",
      "0.0200350686415\n",
      "0.0193224788315\n",
      "0.0188722123794\n",
      "0.0193447347988\n",
      "0.0215632530862\n",
      "0.0187492333779\n",
      "[[249, 61, 46, 408, 459, 365, 282, 534, 229, 46], [249, 61, 46, 408, 459, 365, 282, 534, 229, 46], [249, 61, 46, 408, 459, 365, 282, 534, 229, 46], [249, 61, 46, 408, 459, 365, 282, 534, 229, 46], [249, 61, 46, 408, 459, 365, 282, 534, 229, 46], [249, 61, 46, 408, 459, 365, 282, 596, 218, 46], [249, 61, 46, 408, 459, 365, 282, 596, 229, 46], [249, 61, 46, 408, 459, 365, 282, 596, 229, 46], [239, 61, 46, 227, 459, 365, 282, 534, 229, 46], [239, 61, 46, 227, 459, 365, 282, 534, 229, 46], [239, 61, 46, 227, 459, 365, 282, 534, 229, 46], [239, 61, 46, 227, 459, 365, 282, 534, 229, 46], [239, 61, 46, 227, 101, 365, 282, 534, 229, 46], [249, 61, 46, 408, 459, 365, 282, 596, 229, 46], [239, 61, 46, 227, 459, 365, 282, 534, 229, 46], [249, 61, 46, 408, 459, 365, 282, 534, 229, 46], [239, 61, 46, 227, 459, 365, 282, 596, 229, 46], [249, 61, 46, 408, 459, 365, 282, 534, 229, 46], [239, 61, 46, 227, 459, 365, 282, 534, 229, 46], [249, 61, 46, 408, 459, 365, 282, 534, 229, 46], [239, 61, 46, 227, 459, 365, 282, 534, 229, 46], [249, 61, 46, 408, 459, 365, 282, 534, 229, 46], [249, 61, 46, 408, 459, 365, 282, 534, 229, 46], [239, 61, 46, 227, 459, 365, 282, 596, 229, 46], [249, 61, 46, 408, 459, 365, 282, 534, 229, 46], [249, 61, 46, 408, 459, 365, 282, 534, 229, 46], [249, 61, 46, 408, 459, 365, 282, 534, 229, 46], [249, 61, 46, 408, 459, 365, 282, 534, 229, 46], [239, 61, 46, 227, 459, 365, 282, 534, 229, 46], [249, 61, 46, 408, 459, 365, 282, 534, 229, 46], [239, 61, 46, 227, 101, 365, 282, 534, 229, 46], [249, 61, 46, 408, 459, 365, 282, 534, 229, 46], [249, 61, 46, 408, 459, 365, 282, 534, 229, 46], [239, 61, 46, 227, 459, 365, 282, 596, 229, 46], [239, 61, 46, 227, 459, 365, 282, 534, 229, 46], [249, 61, 46, 408, 459, 365, 282, 534, 229, 46], [249, 61, 46, 408, 459, 365, 282, 534, 229, 46], [249, 61, 46, 408, 459, 365, 282, 534, 229, 46], [239, 61, 46, 227, 459, 365, 282, 534, 229, 46], [249, 61, 46, 408, 459, 365, 282, 534, 229, 46]]\n"
     ]
    }
   ],
   "source": [
    "from tqdm import *\n",
    "p_count=40\n",
    "i_length=10\n",
    "i_min=0\n",
    "i_max=500\n",
    "p=population(p_count, i_length, i_min, i_max)\n",
    "fitness_history = [grade(p,targetdata),]\n",
    "# print 'starting'\n",
    "# print p\n",
    "for i in tqdm(range(100)):\n",
    "#     time.sleep(0.01)\n",
    "# for i in xrange(10):\n",
    "# print p\n",
    "    p=evolve(p,targetdata)\n",
    "# print p\n",
    "    fitness_history.append(grade(p,targetdata))\n",
    "#     print i\n",
    "for datum in fitness_history:\n",
    "    print datum\n",
    "print p"
   ]
  },
  {
   "cell_type": "code",
   "execution_count": 94,
   "metadata": {
    "collapsed": false
   },
   "outputs": [
    {
     "name": "stdout",
     "output_type": "stream",
     "text": [
      "extra trees\n",
      "--- 4.96900010109 seconds ---\n",
      "('Test:', 0.48356614499703621, 'Train:', 1.0)\n",
      "linear\n",
      "--- 0.115999937057 seconds ---\n",
      "('Test:', 0.82468075863216128, 'Train:', 0.91762312549016301)\n"
     ]
    },
    {
     "name": "stderr",
     "output_type": "stream",
     "text": [
      "C:\\Users\\Neal\\Anaconda2\\lib\\site-packages\\sklearn\\utils\\validation.py:395: DeprecationWarning: Passing 1d arrays as data is deprecated in 0.17 and will raise ValueError in 0.19. Reshape your data either using X.reshape(-1, 1) if your data has a single feature or X.reshape(1, -1) if it contains a single sample.\n",
      "  DeprecationWarning)\n",
      "C:\\Users\\Neal\\Anaconda2\\lib\\site-packages\\sklearn\\utils\\validation.py:395: DeprecationWarning: Passing 1d arrays as data is deprecated in 0.17 and will raise ValueError in 0.19. Reshape your data either using X.reshape(-1, 1) if your data has a single feature or X.reshape(1, -1) if it contains a single sample.\n",
      "  DeprecationWarning)\n"
     ]
    },
    {
     "name": "stdout",
     "output_type": "stream",
     "text": [
      "[[  59.174311   82.788413  172.23602   352.03636   393.27584   213.17028\n",
      "   339.76714   406.91549   439.1198    400.      ]]\n",
      "[[  7.70219197e+00   4.57576020e+02   1.26560752e+03  -3.81151587e+03\n",
      "   -1.42029939e+04  -9.63898988e+02   5.27367354e+03  -1.01294373e+03\n",
      "    1.54916559e+03   4.00000000e+02]]\n"
     ]
    }
   ],
   "source": [
    "#What about if we train a model in reverse and feed in our ideal curve?\n",
    "# print X_test\n",
    "# print Y_test\n",
    "print(\"extra trees\")\n",
    "start_time = time.time()\n",
    "etr2 = ExtraTreesRegressor(n_estimators=100, n_jobs=-1,max_depth=16)\n",
    "etr2.fit(X_train,Y_train)\n",
    "print(\"--- %s seconds ---\" % (time.time() - start_time))\n",
    "print('Test:', etr2.score(X_test,Y_test), 'Train:', etr2.score(X_train,Y_train))\n",
    "\n",
    "print(\"linear\")\n",
    "start_time = time.time()\n",
    "lin3 = linear_model.LinearRegression()\n",
    "lin3.fit(X_train,Y_train)\n",
    "print(\"--- %s seconds ---\" % (time.time() - start_time))\n",
    "print('Test:', lin3.score(X_test,Y_test), 'Train:', lin3.score(X_train,Y_train))\n",
    "\n",
    "targetpred = etr2.predict(np.asarray(targetdata))\n",
    "linpred = lin3.predict(np.asarray(targetdata))\n",
    "\n",
    "print targetpred\n",
    "print linpred"
   ]
  },
  {
   "cell_type": "code",
   "execution_count": 106,
   "metadata": {
    "collapsed": false
   },
   "outputs": [
    {
     "data": {
      "image/png": "[encoded data removed]",
      "text/plain": [
       "<matplotlib.figure.Figure at 0x981add8>"
      ]
     },
     "metadata": {},
     "output_type": "display_data"
    }
   ],
   "source": [
    "plt.plot(y_1,etr1.predict(np.asarray(targetpred).reshape(1,-1))[0],label='reverse')\n",
    "plt.plot(y_1,etr1.predict(np.asarray(p[0]).reshape(1,-1))[0],label='genetic')\n",
    "# plt.plot(y_1,etr1.predict(np.asarray(linpred).reshape(1,-1))[0],label='linear')\n",
    "plt.plot(y_1,targetdata,label='true')\n",
    "plt.legend()\n",
    "plt.show()"
   ]
  },
  {
   "cell_type": "code",
   "execution_count": 96,
   "metadata": {
    "collapsed": false
   },
   "outputs": [
    {
     "name": "stderr",
     "output_type": "stream",
     "text": [
      "C:\\Users\\Neal\\Anaconda2\\lib\\site-packages\\sklearn\\utils\\validation.py:395: DeprecationWarning: Passing 1d arrays as data is deprecated in 0.17 and will raise ValueError in 0.19. Reshape your data either using X.reshape(-1, 1) if your data has a single feature or X.reshape(1, -1) if it contains a single sample.\n",
      "  DeprecationWarning)\n"
     ]
    },
    {
     "data": {
      "image/png": "[encoded data removed]",
      "text/plain": [
       "<matplotlib.figure.Figure at 0x456a1550>"
      ]
     },
     "metadata": {},
     "output_type": "display_data"
    }
   ],
   "source": [
    "plt.plot(y_1,etr1.predict([0,0,150,200,400,400,400,400,400,400]).tolist()[0])\n",
    "plt.show()"
   ]
  },
  {
   "cell_type": "markdown",
   "metadata": {},
   "source": [
    "# Visualizing the Data\n",
    "## How do the different types of algorithms compare?"
   ]
  },
  {
   "cell_type": "code",
   "execution_count": 97,
   "metadata": {
    "collapsed": false,
    "scrolled": false
   },
   "outputs": [],
   "source": [
    "# ### plot all 3 on the same chart\n",
    "# import prettyplotlib as ppl\n",
    "# print len(data.columns)\n",
    "# a = []\n",
    "# aa = []\n",
    "# aaa = []\n",
    "\n",
    "# predicted1 = etr1.predict(Y_test)\n",
    "# predicted2 = dt.predict(Y_test)\n",
    "# predicted3 = lin.predict(Y_test)\n",
    "# for j in range(X_test.shape[1]):\n",
    "#     re = []\n",
    "#     for i in range(len(X_test)):\n",
    "#         predicted = predicted1[i][j]*P_std[j] + P_mean[j]\n",
    "#         true = Y_test[i][j]*P_std[j] + P_mean[j]\n",
    "#         re.append(np.abs((predicted - true)/true))\n",
    "#     a.append(re)\n",
    "#     re=[]\n",
    "#     for i in range(len(X_test)):\n",
    "#         predicted = predicted2[i][j]*P_std[j] + P_mean[j]\n",
    "#         true = Y_test[i][j]*P_std[j] + P_mean[j]\n",
    "#         re.append(np.abs((predicted - true)/true))\n",
    "#     aa.append(re)\n",
    "#     re=[]\n",
    "#     for i in range(len(X_test)):\n",
    "#         predicted = predicted3[i][j]*P_std[j] + P_mean[j]\n",
    "#         true = Y_test[i][j]*P_std[j] + P_mean[j]\n",
    "#         re.append(np.abs((predicted - true)/true))\n",
    "#     aaa.append(re)\n",
    "    \n",
    "# results1 = np.array(a)\n",
    "# means1 = np.ndarray(shape=(P.shape[1],))\n",
    "# stds1 = np.ndarray(shape=(P.shape[1],))\n",
    "# results2 = np.array(aa)\n",
    "# means2 = np.ndarray(shape=(P.shape[1],))\n",
    "# stds2 = np.ndarray(shape=(P.shape[1],))\n",
    "# results3 = np.array(aaa)\n",
    "# means3 = np.ndarray(shape=(P.shape[1],))\n",
    "# stds3 = np.ndarray(shape=(P.shape[1],))\n",
    "\n",
    "\n",
    "# for p in range(results1.shape[0]):\n",
    "#     mean1 = results1[p].mean()\n",
    "#     std1 = results1[p].std()\n",
    "#     mean2 = results2[p].mean()\n",
    "#     std2 = results2[p].std()\n",
    "#     mean3 = results3[p].mean()\n",
    "#     std3 = results3[p].std()\n",
    "    \n",
    "#     means1[p] = mean1\n",
    "#     stds1[p] = std1/np.sqrt(results1.shape[1])\n",
    "#     means2[p] = mean2\n",
    "#     stds2[p] = std2/np.sqrt(results2.shape[1])\n",
    "#     means3[p] = mean3\n",
    "#     stds3[p] = std3/np.sqrt(results3.shape[1])\n",
    "# fig = plt.figure(1, figsize=(8,5))\n",
    "# ppl.bar(range(results1.shape[0]), means1*100,\n",
    "#         xticklabels=names, grid='y', alpha=0.7,label='Random Forest') # etr\n",
    "# ppl.bar(range(results2.shape[0]), means2*100, \n",
    "#         grid='y', color='b', alpha=0.4,label='Decision tree') # knn\n",
    "# ppl.bar(range(results3.shape[0]), means3*100,\n",
    "#         grid='y', color='r', alpha=0.1, label='Linear') # lin\n",
    "# # plt.ylim(0,1.2)\n",
    "# plt.legend()\n",
    "# plt.ylabel('Mean % Relative Error \\n on Test Data', fontsize=20)\n",
    "# plt.xticks(rotation='vertical', ha='center')\n",
    "# plt.xlim(0,500)\n",
    "# plt.show()"
   ]
  },
  {
   "cell_type": "markdown",
   "metadata": {},
   "source": [
    "### How long does it take to predict?"
   ]
  },
  {
   "cell_type": "code",
   "execution_count": 98,
   "metadata": {
    "collapsed": false
   },
   "outputs": [],
   "source": [
    "# import time\n",
    "# temp5 = X_test[1].reshape(1,-1)\n",
    "# st=time.time()\n",
    "# temp4=etr1.predict(temp5)\n",
    "# print \"prediction time:\", (time.time()-st)\n",
    "# print (temp4-Y_test[1])*100"
   ]
  },
  {
   "cell_type": "markdown",
   "metadata": {},
   "source": [
    "# What about giving each variable its own Random Forest?"
   ]
  },
  {
   "cell_type": "code",
   "execution_count": 99,
   "metadata": {
    "collapsed": false
   },
   "outputs": [],
   "source": [
    "# from sklearn.ensemble import ExtraTreesRegressor\n",
    "# aaaa = []\n",
    "# for j in range(P.shape[1]):\n",
    "#     Y_temp = np.zeros((len(YY_train),))\n",
    "#     Y_temp2 = np.zeros((len(Y_test),))\n",
    "\n",
    "#     for i in range(len(Y_test)):\n",
    "#         Y_temp2[i]=Y_test[i][j]\n",
    "#     start_time = time.time()\n",
    "#     etr7 = ExtraTreesRegressor(n_estimators=200, n_jobs=-1)\n",
    "#     etr7.fit(X_train,Y_temp)\n",
    "#     print names[j], \"Test score:\", etr7.score(X_test,Y_temp2)\n",
    "#     predicted3 = etr7.predict(X_test)\n",
    "#     re = []\n",
    "#     for i in range(len(Y_test)):\n",
    "#         predicted = predicted3[i]*P_std[j] + P_mean[j]\n",
    "#         true = Y_test[i][j]*P_std[j] + P_mean[j]\n",
    "#         re.append(np.abs((predicted - true)/true))\n",
    "#     aaaa.append(re)"
   ]
  },
  {
   "cell_type": "code",
   "execution_count": 100,
   "metadata": {
    "collapsed": false,
    "scrolled": false
   },
   "outputs": [],
   "source": [
    "# results=np.array(a)\n",
    "# results2 = np.array(aaaa)\n",
    "# means = np.ndarray(shape=(P.shape[1],))\n",
    "# stds = np.ndarray(shape=(P.shape[1],))\n",
    "# means2 = np.ndarray(shape=(P.shape[1],))\n",
    "# stds2 = np.ndarray(shape=(P.shape[1],))\n",
    "\n",
    "# for p in range(results.shape[0]):\n",
    "#     mean = results[p].mean()\n",
    "#     std = results[p].std()\n",
    "    \n",
    "#     means[p] = mean\n",
    "#     stds[p] = std/np.sqrt(results.shape[1])\n",
    "\n",
    "# for p in range(results2.shape[0]):  \n",
    "#     mean2 = results2[p].mean()\n",
    "#     std2 = results2[p].std()\n",
    "    \n",
    "#     means2[p] = mean2\n",
    "#     stds2[p] = std2/np.sqrt(results2.shape[1])\n",
    "# import prettyplotlib as ppl\n",
    "\n",
    "# fig = plt.figure(1, figsize=(8,5))\n",
    "# ppl.bar(range(results.shape[0]), means*100,\n",
    "#         xticklabels=names, grid='y', label='One Forest')\n",
    "# ppl.bar(range(results2.shape[0]), means2*100,\n",
    "#         xticklabels=names, grid='y', color='b', alpha=0.3, label='41 Forests')\n",
    "# plt.ylabel('Mean % Relative Error \\n on Test Data', fontsize=20)\n",
    "# plt.xticks(rotation='vertical', ha='center')\n",
    "# plt.legend()\n",
    "# plt.xlim(0,P.shape[1])\n",
    "# plt.show()\n"
   ]
  },
  {
   "cell_type": "markdown",
   "metadata": {},
   "source": [
    "# Does adding noise degrade predictions?"
   ]
  },
  {
   "cell_type": "code",
   "execution_count": 101,
   "metadata": {
    "collapsed": false
   },
   "outputs": [],
   "source": [
    "# from sklearn.ensemble import ExtraTreesRegressor\n",
    "# aaaaa = []\n",
    "# for j in range(P.shape[1]):\n",
    "#     Y_temp = np.zeros((len(YY_train),))\n",
    "# #     Y_temp2 = np.zeros((len(Y_test),))\n",
    "#     for i in range(len(Y_test)):\n",
    "#         Y_temp2[i]=Y_test[i][j]\n",
    "#     start_time = time.time()\n",
    "#     etr8 = ExtraTreesRegressor(n_estimators=200, n_jobs=-1)\n",
    "#     etr8.fit(X_train_noise,Y_temp)\n",
    "#     print names[j], \"Test score:\", etr8.score(X_test_noise,Y_temp2)\n",
    "#     predicted3 = etr8.predict(X_test_noise)\n",
    "#     re = []\n",
    "#     for i in range(len(Y_test)):\n",
    "#         predicted = predicted3[i]*P_std[j] + P_mean[j]\n",
    "#         true = Y_test[i][j]*P_std[j] + P_mean[j]\n",
    "#         re.append(np.abs((predicted - true)/true))\n",
    "#     aaaaa.append(re)"
   ]
  },
  {
   "cell_type": "code",
   "execution_count": 102,
   "metadata": {
    "collapsed": false
   },
   "outputs": [],
   "source": [
    "# results1 = np.array(a)\n",
    "# results2 = np.array(aaaa)\n",
    "# results3 = np.array(aaaaa)\n",
    "# means = np.ndarray(shape=(P.shape[1],))\n",
    "# stds = np.ndarray(shape=(P.shape[1],))\n",
    "# means2 = np.ndarray(shape=(P.shape[1],))\n",
    "# stds2 = np.ndarray(shape=(P.shape[1],))\n",
    "# means3 = np.ndarray(shape=(P.shape[1],))\n",
    "# stds3 = np.ndarray(shape=(P.shape[1],))\n",
    "\n",
    "# for p in range(results1.shape[0]):\n",
    "#     mean = results1[p].mean()\n",
    "#     std = results1[p].std()\n",
    "    \n",
    "#     means[p] = mean\n",
    "#     stds[p] = std/np.sqrt(results1.shape[1])\n",
    "\n",
    "# for p in range(results2.shape[0]):  \n",
    "#     mean2 = results2[p].mean()\n",
    "#     std2 = results2[p].std()\n",
    "    \n",
    "#     means2[p] = mean2\n",
    "#     stds2[p] = std2/np.sqrt(results2.shape[1])\n",
    "\n",
    "# for p in range(results3.shape[0]):  \n",
    "#     mean3 = results3[p].mean()\n",
    "#     std3 = results3[p].std()\n",
    "    \n",
    "#     means3[p] = mean3\n",
    "#     stds3[p] = std3/np.sqrt(results3.shape[1])\n",
    "# import prettyplotlib as ppl\n",
    "\n",
    "# fig = plt.figure(1, figsize=(8,5))\n",
    "# ppl.bar(range(results1.shape[0]), means1*100,\n",
    "#         xticklabels=names, grid='y',label='One Forest')\n",
    "# ppl.bar(range(results2.shape[0]), means2*100,\n",
    "#         xticklabels=names, grid='y', color='b', alpha=0.4,label='No Noise')\n",
    "# ppl.bar(range(results3.shape[0]), means3*100,\n",
    "#         xticklabels=names, grid='y', color='r', alpha=0.1, label='Added Noise')\n",
    "# plt.ylabel('Mean % Relative Error \\n on Test Data', fontsize=20)\n",
    "# plt.xticks(rotation='vertical', ha='center')\n",
    "# plt.legend()\n",
    "# plt.xlim(0,P.shape[1])\n",
    "# plt.show()"
   ]
  },
  {
   "cell_type": "code",
   "execution_count": null,
   "metadata": {
    "collapsed": true
   },
   "outputs": [],
   "source": []
  },
  {
   "cell_type": "code",
   "execution_count": null,
   "metadata": {
    "collapsed": true
   },
   "outputs": [],
   "source": []
  },
  {
   "cell_type": "code",
   "execution_count": null,
   "metadata": {
    "collapsed": true
   },
   "outputs": [],
   "source": []
  },
  {
   "cell_type": "code",
   "execution_count": null,
   "metadata": {
    "collapsed": true
   },
   "outputs": [],
   "source": []
  },
  {
   "cell_type": "code",
   "execution_count": null,
   "metadata": {
    "collapsed": true
   },
   "outputs": [],
   "source": []
  }
 ],
 "metadata": {
  "anaconda-cloud": {},
  "kernelspec": {
   "display_name": "Python [Root]",
   "language": "python",
   "name": "Python [Root]"
  },
  "language_info": {
   "codemirror_mode": {
    "name": "ipython",
    "version": 2
   },
   "file_extension": ".py",
   "mimetype": "text/x-python",
   "name": "python",
   "nbconvert_exporter": "python",
   "pygments_lexer": "ipython2",
   "version": "2.7.12"
  }
 },
 "nbformat": 4,
 "nbformat_minor": 0
}
