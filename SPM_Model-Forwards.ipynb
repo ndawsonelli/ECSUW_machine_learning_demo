{
 "cells": [
  {
   "cell_type": "markdown",
   "metadata": {},
   "source": [
    "# Import the Data and Split Into Test and Training Sets"
   ]
  },
  {
   "cell_type": "code",
   "execution_count": 1,
   "metadata": {
    "collapsed": false
   },
   "outputs": [
    {
     "name": "stdout",
     "output_type": "stream",
     "text": [
      "done\n",
      "406\n"
     ]
    }
   ],
   "source": [
    "import os\n",
    "import numpy as np\n",
    "import pandas as pd\n",
    "import time\n",
    "import matplotlib.pyplot as plt\n",
    "import random\n",
    "\n",
    "%matplotlib inline\n",
    "\n",
    "n_mult=1\n",
    "noise_level=.05\n",
    "\n",
    "directory= './Data/Local Sensitivity/'\n",
    "# directory= './Data/Local Sensitivity Expanded/'\n",
    "# directory = './Data/Global Sensitivity/'\n",
    "runs = []\n",
    "for filename in os.listdir(directory):\n",
    "    if filename.startswith('gen'):\n",
    "        run = int(filename.split('_')[2].split('.')[0])\n",
    "        runs.append(run)\n",
    "       \n",
    "count=0\n",
    "\n",
    "# set up the Pandas Dataframes\n",
    "volts=pd.DataFrame(columns=range(255),dtype=np.float64)\n",
    "times=pd.DataFrame(columns=range(255),dtype=np.float64)\n",
    "vals=pd.DataFrame(columns=range(41),dtype=np.float64)\n",
    "temp1=[]\n",
    "temp2=[]\n",
    "temp3=[]\n",
    "names=[]\n",
    "count=0\n",
    "# Iterate through the files\n",
    "for run in sorted(runs):\n",
    "    count=count+1\n",
    "    if True:\n",
    "        filename = '/gen_data_' + str(run) + '.csv'\n",
    "        data = pd.read_csv(directory + filename, sep=',')\n",
    "        temp1=[]\n",
    "        temp2=[]\n",
    "        temp3=[]\n",
    "        # parse the data\n",
    "        for column in data.columns:\n",
    "            if column.find('olts')>0:\n",
    "                temp1=np.concatenate((temp1,data[column].tolist()))\n",
    "            if column.find('ime')>0:\n",
    "                temp3=np.concatenate((temp3,data[column].tolist()))\n",
    "            if column.find('olts') + column.find('urrent') + column.find('ime') < -2:\n",
    "                if data[column][0]!=0:\n",
    "                    temp2.append(data[column][0])\n",
    "        volts.loc[run,:]=temp1\n",
    "        vals.loc[run,:]=temp2\n",
    "        times.loc[run,:]=temp3\n",
    "\n",
    "\n",
    "for column in data.columns:\n",
    "    if column.find('olts') + column.find('urrent') + column.find('ime') < -2:\n",
    "        if data[column][0]!=0:\n",
    "            names.append(column) \n",
    "\n",
    "# Split the data into 'test' and 'training' sets\n",
    "train = sorted(random.sample(range(volts.shape[0]), int(volts.shape[0]*(3.0/4))))\n",
    "test = [x for x in range(volts.shape[0]) if x not in train]\n",
    "P=vals\n",
    "P_mean = P.mean()\n",
    "P_std = P.std()\n",
    "\n",
    "# Normalize the data\n",
    "P = (P - P.mean())/P.std()\n",
    "\n",
    "times_train=times.iloc[train,:]\n",
    "Z_train = volts.iloc[train,:]\n",
    "P_train = P.iloc[train,:]\n",
    "\n",
    "times_test = times.iloc[test,:]\n",
    "Z_test = volts.iloc[test,:]\n",
    "P_test = P.iloc[test,:]\n",
    "\n",
    "# Switch X train and Y train here\n",
    "X_train = pd.DataFrame()\n",
    "Y_train = pd.DataFrame()\n",
    "\n",
    "#no noise\n",
    "# X_train_noise = pd.DataFrame()\n",
    "# X_test_noise = pd.DataFrame()\n",
    "\n",
    "X_test = pd.DataFrame()\n",
    "Y_test = pd.DataFrame()\n",
    "\n",
    "# Add noise and possibly duplicate\n",
    "for _ in range(n_mult):\n",
    "                      \n",
    "#     X_test_noise = pd.concat((X_test, Z_test + np.random.randn(Z_test.shape[0],Z_test.shape[1])*noise_level))\n",
    "#     X_train_noise = pd.concat((X_train, Z_train + np.random.randn(Z_train.shape[0],Z_train.shape[1])*noise_level))\n",
    "    \n",
    "    #switch P and Z here\n",
    "    Y_train = pd.concat((Y_train, Z_train))\n",
    "    X_train = pd.concat((X_train, P_train))\n",
    "    \n",
    "    X_test = pd.concat((X_test, P_test))  \n",
    "    Y_test = pd.concat((Y_test, Z_test))\n",
    "\n",
    "# times_train=np.array(times_train)    \n",
    "# X_train_noise = np.array(X_train_noise)\n",
    "X_train = np.array(X_train)\n",
    "Y_train = np.array(Y_train)\n",
    "\n",
    "\n",
    "# times_test=np.array(times_test)\n",
    "# X_test_noise = np.array(X_test_noise)\n",
    "X_test = np.array(X_test)\n",
    "Y_test = np.array(Y_test)\n",
    "\n",
    "\n",
    "YY_train = Y_train\n",
    "XX_train = X_train\n",
    "print('done')\n",
    "\n",
    "X_full = np.array(volts)\n",
    "Y_full = np.array(vals)\n",
    "print(count)"
   ]
  },
  {
   "cell_type": "code",
   "execution_count": 2,
   "metadata": {
    "collapsed": false
   },
   "outputs": [
    {
     "data": {
      "image/png": "[encoded data removed]",
      "text/plain": [
       "<matplotlib.figure.Figure at 0x4092f28>"
      ]
     },
     "metadata": {},
     "output_type": "display_data"
    }
   ],
   "source": [
    "y_1=[]\n",
    "for i in range(153,204):\n",
    "    y_1.append(i)\n",
    "for i in range(1):\n",
    "    plt.plot(y_1,Y_train[i][153:204])\n",
    "#     plt.plot(y_1,X_train_noise[i][153:204])\n",
    "\n",
    "plt.xlim(153,204)\n",
    "plt.show()"
   ]
  },
  {
   "cell_type": "code",
   "execution_count": 3,
   "metadata": {
    "collapsed": false
   },
   "outputs": [],
   "source": []
  },
  {
   "cell_type": "code",
   "execution_count": 3,
   "metadata": {
    "collapsed": false
   },
   "outputs": [
    {
     "name": "stdout",
     "output_type": "stream",
     "text": [
      "extra trees\n",
      "--- 1.76799988747 seconds ---\n",
      "('Test:', 0.54007817393856805, 'Train:', 0.99939563766772099)\n",
      "KNN\n",
      "--- 0.00200009346008 seconds ---\n",
      "('Test:', 0.12143041628377507, 'Train:', 1.0)\n",
      "linear\n",
      "--- 0.0199999809265 seconds ---\n",
      "('Test:', 0.35864185336303139, 'Train:', 0.38682776888238363)\n"
     ]
    }
   ],
   "source": [
    "# Running different Regression methods\n",
    "from sklearn.ensemble import ExtraTreesRegressor\n",
    "from sklearn.neighbors import KNeighborsRegressor\n",
    "from sklearn import linear_model\n",
    "\n",
    "import time\n",
    "print(\"extra trees\")\n",
    "start_time = time.time()\n",
    "etr = ExtraTreesRegressor(n_estimators=200, n_jobs=-1,max_depth=28)\n",
    "etr.fit(X_train,Y_train)\n",
    "print(\"--- %s seconds ---\" % (time.time() - start_time))\n",
    "print('Test:', etr.score(X_test,Y_test), 'Train:', etr.score(X_train,Y_train))\n",
    "start_time = time.time()\n",
    "\n",
    "print(\"KNN\")\n",
    "start_time = time.time()\n",
    "knn = KNeighborsRegressor(n_neighbors=40,weights = 'distance')\n",
    "knn.fit(X_train,Y_train)\n",
    "print(\"--- %s seconds ---\" % (time.time() - start_time))\n",
    "print('Test:', knn.score(X_test,Y_test), 'Train:', knn.score(X_train,Y_train))\n",
    "\n",
    "print(\"linear\")\n",
    "start_time = time.time()\n",
    "lin = linear_model.LinearRegression()\n",
    "lin.fit(X_train,Y_train)\n",
    "print(\"--- %s seconds ---\" % (time.time() - start_time))\n",
    "print('Test:', lin.score(X_test,Y_test), 'Train:', lin.score(X_train,Y_train))\n"
   ]
  },
  {
   "cell_type": "code",
   "execution_count": 4,
   "metadata": {
    "collapsed": false
   },
   "outputs": [
    {
     "data": {
      "image/png": "[encoded data removed]",
      "text/plain": [
       "<matplotlib.figure.Figure at 0xa01d518>"
      ]
     },
     "metadata": {},
     "output_type": "display_data"
    }
   ],
   "source": [
    "y_1=[]\n",
    "# print etr.predict(X_train[i].reshape(1,-1))[0][153:204]\n",
    "for i in range(153,204):\n",
    "    y_1.append(i)\n",
    "for i in range(50):\n",
    "    plt.plot(y_1,Y_test[i][153:204]-etr.predict(X_test[i].reshape(1,-1))[0][153:204])\n",
    "#     plt.plot(y_1,etr.predict(X_test[i].reshape(1,-1))[0][153:204])\n",
    "\n",
    "plt.xlim(153,204)\n",
    "plt.show()"
   ]
  },
  {
   "cell_type": "markdown",
   "metadata": {},
   "source": [
    "# Visualizing the Data\n",
    "## How do the different types of algorithms compare?"
   ]
  },
  {
   "cell_type": "code",
   "execution_count": 6,
   "metadata": {
    "collapsed": false,
    "scrolled": false
   },
   "outputs": [
    {
     "name": "stdout",
     "output_type": "stream",
     "text": [
      "56\n"
     ]
    },
    {
     "ename": "IndexError",
     "evalue": "index 41 is out of bounds for axis 0 with size 41",
     "output_type": "error",
     "traceback": [
      "\u001b[1;31m---------------------------------------------------------------------------\u001b[0m",
      "\u001b[1;31mIndexError\u001b[0m                                Traceback (most recent call last)",
      "\u001b[1;32m<ipython-input-6-57fac124ef2a>\u001b[0m in \u001b[0;36m<module>\u001b[1;34m()\u001b[0m\n\u001b[0;32m     54\u001b[0m     \u001b[0mstd3\u001b[0m \u001b[1;33m=\u001b[0m \u001b[0mresults3\u001b[0m\u001b[1;33m[\u001b[0m\u001b[0mp\u001b[0m\u001b[1;33m]\u001b[0m\u001b[1;33m.\u001b[0m\u001b[0mstd\u001b[0m\u001b[1;33m(\u001b[0m\u001b[1;33m)\u001b[0m\u001b[1;33m\u001b[0m\u001b[0m\n\u001b[0;32m     55\u001b[0m \u001b[1;33m\u001b[0m\u001b[0m\n\u001b[1;32m---> 56\u001b[1;33m     \u001b[0mmeans1\u001b[0m\u001b[1;33m[\u001b[0m\u001b[0mp\u001b[0m\u001b[1;33m]\u001b[0m \u001b[1;33m=\u001b[0m \u001b[0mmean1\u001b[0m\u001b[1;33m\u001b[0m\u001b[0m\n\u001b[0m\u001b[0;32m     57\u001b[0m     \u001b[0mstds1\u001b[0m\u001b[1;33m[\u001b[0m\u001b[0mp\u001b[0m\u001b[1;33m]\u001b[0m \u001b[1;33m=\u001b[0m \u001b[0mstd1\u001b[0m\u001b[1;33m/\u001b[0m\u001b[0mnp\u001b[0m\u001b[1;33m.\u001b[0m\u001b[0msqrt\u001b[0m\u001b[1;33m(\u001b[0m\u001b[0mresults1\u001b[0m\u001b[1;33m.\u001b[0m\u001b[0mshape\u001b[0m\u001b[1;33m[\u001b[0m\u001b[1;36m1\u001b[0m\u001b[1;33m]\u001b[0m\u001b[1;33m)\u001b[0m\u001b[1;33m\u001b[0m\u001b[0m\n\u001b[0;32m     58\u001b[0m     \u001b[0mmeans2\u001b[0m\u001b[1;33m[\u001b[0m\u001b[0mp\u001b[0m\u001b[1;33m]\u001b[0m \u001b[1;33m=\u001b[0m \u001b[0mmean2\u001b[0m\u001b[1;33m\u001b[0m\u001b[0m\n",
      "\u001b[1;31mIndexError\u001b[0m: index 41 is out of bounds for axis 0 with size 41"
     ]
    }
   ],
   "source": [
    "### plot all 3 on the same chart\n",
    "import prettyplotlib as ppl\n",
    "print len(data.columns)\n",
    "a = []\n",
    "aa = []\n",
    "aaa = []\n",
    "\n",
    "predicted1 = etr.predict(X_test)\n",
    "predicted2 = knn.predict(X_test)\n",
    "predicted3 = lin.predict(X_test)\n",
    "for j in range(Y_test.shape[1]):\n",
    "    re = []\n",
    "    for i in range(len(Y_test)):\n",
    "#         predicted = predicted1[i][j]*P_std[j] + P_mean[j]\n",
    "#         true = Y_test[i][j]*P_std[j] + P_mean[j]\n",
    "        predicted = predicted1[i][j]\n",
    "        true = Y_test[i][j]\n",
    "        re.append(np.abs((predicted - true)/true))\n",
    "    a.append(re)\n",
    "    re=[]\n",
    "    for i in range(len(Y_test)):\n",
    "#         predicted = predicted2[i][j]*P_std[j] + P_mean[j]\n",
    "#         true = Y_test[i][j]*P_std[j] + P_mean[j]\n",
    "        predicted = predicted2[i][j]\n",
    "        true = Y_test[i][j]\n",
    "        re.append(np.abs((predicted - true)/true))\n",
    "    aa.append(re)\n",
    "    re=[]\n",
    "    for i in range(len(Y_test)):\n",
    "#         predicted = predicted3[i][j]*P_std[j] + P_mean[j]\n",
    "#         true = Y_test[i][j]*P_std[j] + P_mean[j]\n",
    "        predicted = predicted3[i][j]\n",
    "        true = Y_test[i][j]\n",
    "        re.append(np.abs((predicted - true)/true))\n",
    "    aaa.append(re)\n",
    "    \n",
    "results1 = np.array(a)\n",
    "means1 = np.ndarray(shape=(P.shape[1],))\n",
    "stds1 = np.ndarray(shape=(P.shape[1],))\n",
    "results2 = np.array(aa)\n",
    "means2 = np.ndarray(shape=(P.shape[1],))\n",
    "stds2 = np.ndarray(shape=(P.shape[1],))\n",
    "results3 = np.array(aaa)\n",
    "means3 = np.ndarray(shape=(P.shape[1],))\n",
    "stds3 = np.ndarray(shape=(P.shape[1],))\n",
    "\n",
    "\n",
    "for p in range(results1.shape[0]):\n",
    "    mean1 = results1[p].mean()\n",
    "    std1 = results1[p].std()\n",
    "    mean2 = results2[p].mean()\n",
    "    std2 = results2[p].std()\n",
    "    mean3 = results3[p].mean()\n",
    "    std3 = results3[p].std()\n",
    "    \n",
    "    means1[p] = mean1\n",
    "    stds1[p] = std1/np.sqrt(results1.shape[1])\n",
    "    means2[p] = mean2\n",
    "    stds2[p] = std2/np.sqrt(results2.shape[1])\n",
    "    means3[p] = mean3\n",
    "    stds3[p] = std3/np.sqrt(results3.shape[1])\n",
    "fig = plt.figure(1, figsize=(8,5))\n",
    "ppl.bar(range(results1.shape[0]), means1*100,\n",
    "        xticklabels=names, grid='y', alpha=0.7,label='Random Forest') # etr\n",
    "ppl.bar(range(results2.shape[0]), means2*100, \n",
    "        grid='y', color='b', alpha=0.4,label='KNN') # knn\n",
    "# ppl.bar(range(results3.shape[0]), means3*100,\n",
    "#         grid='y', color='r', alpha=0.1, label='Linear') # lin\n",
    "plt.ylim(0,1.2)\n",
    "plt.legend()\n",
    "plt.ylabel('Mean % Relative Error \\n on Test Data', fontsize=20)\n",
    "plt.xticks(rotation='vertical', ha='center')\n",
    "plt.xlim(0,Y_train.shape[0])\n",
    "plt.show()"
   ]
  },
  {
   "cell_type": "markdown",
   "metadata": {},
   "source": [
    "### How long does it take to predict?"
   ]
  },
  {
   "cell_type": "code",
   "execution_count": 24,
   "metadata": {
    "collapsed": false
   },
   "outputs": [
    {
     "name": "stdout",
     "output_type": "stream",
     "text": [
      "prediction time: 0.220999956131\n",
      "[[  5.53889898e+02   1.76408246e-04  -2.92203163e-04   6.43070691e-03\n",
      "   -1.57649409e+01   8.21205278e-03  -1.28362599e-02   8.67361738e-16\n",
      "    1.60461922e-15   3.47106492e+00   6.75450472e+00  -2.34531414e+00\n",
      "    2.88232381e-02   2.30554555e-02  -1.43949995e-02  -1.01657900e-02\n",
      "    9.88792381e-15  -1.12757026e-15   5.78974581e-05   8.76609488e-04\n",
      "    6.93889390e-16  -3.03576608e-15   5.81637906e+00  -3.15071833e-02\n",
      "   -2.49366500e-16  -2.60208521e-16   1.79011877e-02  -1.10993361e-02\n",
      "    1.34601522e-03   6.59194921e-15  -3.81639165e-15   2.13548687e-02\n",
      "    1.32859642e-02  -2.05766451e-02  -8.98178849e-03   2.06547091e-02\n",
      "   -4.66773086e-04  -3.15071833e-03  -2.77555756e-15   1.95156391e-15\n",
      "    2.06129820e-02]]\n"
     ]
    }
   ],
   "source": [
    "import time\n",
    "temp5 = X_test[1].reshape(1,-1)\n",
    "st=time.time()\n",
    "temp4=etr.predict(temp5)\n",
    "print \"prediction time:\", (time.time()-st)\n",
    "print (temp4-Y_test[1])*100"
   ]
  },
  {
   "cell_type": "markdown",
   "metadata": {},
   "source": [
    "# What about giving each variable its own Random Forest?"
   ]
  },
  {
   "cell_type": "code",
   "execution_count": 19,
   "metadata": {
    "collapsed": false
   },
   "outputs": [
    {
     "name": "stdout",
     "output_type": "stream",
     "text": [
      "D1 Test score: -0.000638224938475\n",
      "Dsnref Test score: -0.000661999813548\n",
      "Dspref Test score: -0.00106256252017\n",
      "EaDsn Test score: -0.00115137125916\n",
      "EaDsp Test score: -2.67686319646e-05\n",
      "Eakn Test score: -0.00173028704587\n",
      "Eakp Test score: -3.47259580891e-06\n",
      "Rpn Test score: -0.00242546027788\n",
      "Rpp Test score: -0.000483890045183\n",
      "brugn Test score: -0.000770472555876\n",
      "brugp Test score: -7.36485105397e-05\n",
      "brugs Test score: -0.000407148288509\n",
      "c0 Test score: -0.00141391335039\n",
      "cpn Test score: -0.00217249774878\n",
      "cpp Test score: -0.000145260925075\n",
      "cps Test score: -0.000278833984904\n",
      "ctn Test score: -0.00455611501894\n",
      "ctp Test score: -0.000199821536943\n",
      "efn Test score: -0.00174760288873\n",
      "efp Test score: -4.10922300087e-05\n",
      "en Test score: -0.00317797283589\n",
      "ep Test score: -0.00193377110892\n",
      "es Test score: -0.000182047686253\n",
      "henv Test score: -0.00016856620348\n",
      "knref Test score: -3.17430132009e-05\n",
      "kpref Test score: -0.000427174450996\n",
      "lambdan Test score: -0.000841525284309\n",
      "lambdap Test score: -2.47449274431e-05\n",
      "lambdas Test score: -2.06564593874e-06\n",
      "ln1 Test score: -0.000240203320305\n",
      "lp Test score: -1.16843203015e-05\n",
      "ls Test score: -1.0999557043e-08\n",
      "rhon Test score: -5.82428342526e-05\n",
      "rhop Test score: -0.000421245368862\n",
      "rhos Test score: -6.22097108143e-05\n",
      "sigma Test score: -0.000179345203806\n",
      "sigman Test score: -0.00030683314361\n",
      "sigmap Test score: -0.000156727015557\n",
      "socn Test score: -0.000217730705709\n",
      "socp Test score: -0.000435885289984\n",
      "t1 Test score: -0.00096147858707\n"
     ]
    }
   ],
   "source": [
    "from sklearn.ensemble import ExtraTreesRegressor\n",
    "aaaa = []\n",
    "for j in range(P.shape[1]):\n",
    "    Y_temp = np.zeros((len(YY_train),))\n",
    "    Y_temp2 = np.zeros((len(Y_test),))\n",
    "\n",
    "    for i in range(len(Y_test)):\n",
    "        Y_temp2[i]=Y_test[i][j]\n",
    "    start_time = time.time()\n",
    "    etr7 = ExtraTreesRegressor(n_estimators=200, n_jobs=-1)\n",
    "    etr7.fit(X_train,Y_temp)\n",
    "    print names[j], \"Test score:\", etr7.score(X_test,Y_temp2)\n",
    "    predicted3 = etr7.predict(X_test)\n",
    "    re = []\n",
    "    for i in range(len(Y_test)):\n",
    "        predicted = predicted3[i]*P_std[j] + P_mean[j]\n",
    "        true = Y_test[i][j]*P_std[j] + P_mean[j]\n",
    "        re.append(np.abs((predicted - true)/true))\n",
    "    aaaa.append(re)"
   ]
  },
  {
   "cell_type": "code",
   "execution_count": null,
   "metadata": {
    "collapsed": false,
    "scrolled": false
   },
   "outputs": [
    {
     "data": {
      "image/png": "[encoded data removed]",
      "text/plain": [
       "<matplotlib.figure.Figure at 0x1214cb70>"
      ]
     },
     "metadata": {},
     "output_type": "display_data"
    }
   ],
   "source": [
    "results=np.array(a)\n",
    "results2 = np.array(aaaa)\n",
    "means = np.ndarray(shape=(P.shape[1],))\n",
    "stds = np.ndarray(shape=(P.shape[1],))\n",
    "means2 = np.ndarray(shape=(P.shape[1],))\n",
    "stds2 = np.ndarray(shape=(P.shape[1],))\n",
    "\n",
    "for p in range(results.shape[0]):\n",
    "    mean = results[p].mean()\n",
    "    std = results[p].std()\n",
    "    \n",
    "    means[p] = mean\n",
    "    stds[p] = std/np.sqrt(results.shape[1])\n",
    "\n",
    "for p in range(results2.shape[0]):  \n",
    "    mean2 = results2[p].mean()\n",
    "    std2 = results2[p].std()\n",
    "    \n",
    "    means2[p] = mean2\n",
    "    stds2[p] = std2/np.sqrt(results2.shape[1])\n",
    "import prettyplotlib as ppl\n",
    "\n",
    "fig = plt.figure(1, figsize=(8,5))\n",
    "ppl.bar(range(results.shape[0]), means*100,\n",
    "        xticklabels=names, grid='y', label='One Forest')\n",
    "ppl.bar(range(results2.shape[0]), means2*100,\n",
    "        xticklabels=names, grid='y', color='b', alpha=0.3, label='41 Forests')\n",
    "plt.ylabel('Mean % Relative Error \\n on Test Data', fontsize=20)\n",
    "plt.xticks(rotation='vertical', ha='center')\n",
    "plt.legend()\n",
    "plt.xlim(0,P.shape[1])\n",
    "plt.show()\n"
   ]
  },
  {
   "cell_type": "markdown",
   "metadata": {},
   "source": [
    "# Does adding noise degrade predictions?"
   ]
  },
  {
   "cell_type": "code",
   "execution_count": null,
   "metadata": {
    "collapsed": false
   },
   "outputs": [
    {
     "name": "stdout",
     "output_type": "stream",
     "text": [
      "D1 Test score: -0.000638224938475\n",
      "Dsnref Test score: -0.000661999813548\n",
      "Dspref Test score: -0.00106256252017\n",
      "EaDsn Test score: -0.00115137125916\n",
      "EaDsp Test score: -2.67686319646e-05\n",
      "Eakn Test score: -0.00173028704587\n",
      "Eakp Test score: -3.47259580891e-06\n",
      "Rpn Test score: -0.00242546027788\n",
      "Rpp Test score: -0.000483890045183\n",
      "brugn Test score: -0.000770472555876\n",
      "brugp Test score: -7.36485105397e-05\n",
      "brugs Test score: -0.000407148288509\n"
     ]
    }
   ],
   "source": [
    "from sklearn.ensemble import ExtraTreesRegressor\n",
    "aaaaa = []\n",
    "for j in range(P.shape[1]):\n",
    "    Y_temp = np.zeros((len(YY_train),))\n",
    "#     Y_temp2 = np.zeros((len(Y_test),))\n",
    "    for i in range(len(Y_test)):\n",
    "        Y_temp2[i]=Y_test[i][j]\n",
    "    start_time = time.time()\n",
    "    etr8 = ExtraTreesRegressor(n_estimators=200, n_jobs=-1)\n",
    "    etr8.fit(X_train_noise,Y_temp)\n",
    "    print names[j], \"Test score:\", etr8.score(X_test_noise,Y_temp2)\n",
    "    predicted3 = etr8.predict(X_test_noise)\n",
    "    re = []\n",
    "    for i in range(len(Y_test)):\n",
    "        predicted = predicted3[i]*P_std[j] + P_mean[j]\n",
    "        true = Y_test[i][j]*P_std[j] + P_mean[j]\n",
    "        re.append(np.abs((predicted - true)/true))\n",
    "    aaaaa.append(re)"
   ]
  },
  {
   "cell_type": "code",
   "execution_count": null,
   "metadata": {
    "collapsed": false
   },
   "outputs": [],
   "source": [
    "results1 = np.array(a)\n",
    "results2 = np.array(aaaa)\n",
    "results3 = np.array(aaaaa)\n",
    "means = np.ndarray(shape=(P.shape[1],))\n",
    "stds = np.ndarray(shape=(P.shape[1],))\n",
    "means2 = np.ndarray(shape=(P.shape[1],))\n",
    "stds2 = np.ndarray(shape=(P.shape[1],))\n",
    "means3 = np.ndarray(shape=(P.shape[1],))\n",
    "stds3 = np.ndarray(shape=(P.shape[1],))\n",
    "\n",
    "for p in range(results1.shape[0]):\n",
    "    mean = results1[p].mean()\n",
    "    std = results1[p].std()\n",
    "    \n",
    "    means[p] = mean\n",
    "    stds[p] = std/np.sqrt(results1.shape[1])\n",
    "\n",
    "for p in range(results2.shape[0]):  \n",
    "    mean2 = results2[p].mean()\n",
    "    std2 = results2[p].std()\n",
    "    \n",
    "    means2[p] = mean2\n",
    "    stds2[p] = std2/np.sqrt(results2.shape[1])\n",
    "\n",
    "for p in range(results3.shape[0]):  \n",
    "    mean3 = results3[p].mean()\n",
    "    std3 = results3[p].std()\n",
    "    \n",
    "    means3[p] = mean3\n",
    "    stds3[p] = std3/np.sqrt(results3.shape[1])\n",
    "import prettyplotlib as ppl\n",
    "\n",
    "fig = plt.figure(1, figsize=(8,5))\n",
    "ppl.bar(range(results1.shape[0]), means1*100,\n",
    "        xticklabels=names, grid='y',label='One Forest')\n",
    "ppl.bar(range(results2.shape[0]), means2*100,\n",
    "        xticklabels=names, grid='y', color='b', alpha=0.4,label='No Noise')\n",
    "ppl.bar(range(results3.shape[0]), means3*100,\n",
    "        xticklabels=names, grid='y', color='r', alpha=0.1, label='Added Noise')\n",
    "plt.ylabel('Mean % Relative Error \\n on Test Data', fontsize=20)\n",
    "plt.xticks(rotation='vertical', ha='center')\n",
    "plt.legend()\n",
    "plt.xlim(0,P.shape[1])\n",
    "plt.show()"
   ]
  },
  {
   "cell_type": "code",
   "execution_count": null,
   "metadata": {
    "collapsed": true
   },
   "outputs": [],
   "source": []
  },
  {
   "cell_type": "code",
   "execution_count": null,
   "metadata": {
    "collapsed": true
   },
   "outputs": [],
   "source": []
  },
  {
   "cell_type": "code",
   "execution_count": null,
   "metadata": {
    "collapsed": true
   },
   "outputs": [],
   "source": []
  },
  {
   "cell_type": "code",
   "execution_count": null,
   "metadata": {
    "collapsed": true
   },
   "outputs": [],
   "source": []
  },
  {
   "cell_type": "code",
   "execution_count": null,
   "metadata": {
    "collapsed": true
   },
   "outputs": [],
   "source": []
  }
 ],
 "metadata": {
  "anaconda-cloud": {},
  "kernelspec": {
   "display_name": "Python [Root]",
   "language": "python",
   "name": "Python [Root]"
  },
  "language_info": {
   "codemirror_mode": {
    "name": "ipython",
    "version": 2
   },
   "file_extension": ".py",
   "mimetype": "text/x-python",
   "name": "python",
   "nbconvert_exporter": "python",
   "pygments_lexer": "ipython2",
   "version": "2.7.12"
  }
 },
 "nbformat": 4,
 "nbformat_minor": 0
}
