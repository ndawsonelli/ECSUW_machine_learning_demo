{
 "cells": [
  {
   "cell_type": "code",
   "execution_count": 2,
   "metadata": {
    "collapsed": false
   },
   "outputs": [
    {
     "name": "stderr",
     "output_type": "stream",
     "text": [
      "INFO: Precompiling module FixedSizeArrays.\n",
      "INFO: Precompiling module RecipesBase.\n",
      "INFO: Precompiling module PlotUtils.\n",
      "INFO: Precompiling module PlotThemes.\n",
      "INFO: Precompiling module Showoff.\n",
      "INFO: Precompiling module FileIO.\n",
      "INFO: Precompiling module Roots.\n",
      "INFO: Precompiling module SymPy.\n",
      "INFO: Precompiling module GR.\n"
     ]
    },
    {
     "data": {
      "text/html": [
       "<div id=\"interact-js-shim\">\n",
       "    <script charset=\"utf-8\">\n",
       "(function (IPython, $, _, MathJax) {\n",
       "    $.event.special.destroyed = {\n",
       "\tremove: function(o) {\n",
       "\t    if (o.handler) {\n",
       "\t\to.handler.apply(this, arguments)\n",
       "\t    }\n",
       "\t}\n",
       "    }\n",
       "\n",
       "    var OutputArea = IPython.version >= \"4.0.0\" ? require(\"notebook/js/outputarea\").OutputArea : IPython.OutputArea;\n",
       "\n",
       "    var redrawValue = function (container, type, val) {\n",
       "\tvar selector = $(\"<div/>\");\n",
       "\tvar oa = new OutputArea(_.extend(selector, {\n",
       "\t    selector: selector,\n",
       "\t    prompt_area: true,\n",
       "\t    events: IPython.events,\n",
       "\t    keyboard_manager: IPython.keyboard_manager\n",
       "\t})); // Hack to work with IPython 2.1.0\n",
       "\n",
       "\tswitch (type) {\n",
       "\tcase \"image/png\":\n",
       "            var _src = 'data:' + type + ';base64,' + val;\n",
       "\t    $(container).find(\"img\").attr('src', _src);\n",
       "\t    break;\n",
       "\tdefault:\n",
       "\t    var toinsert = OutputArea.append_map[type].apply(\n",
       "\t\toa, [val, {}, selector]\n",
       "\t    );\n",
       "\t    $(container).empty().append(toinsert.contents());\n",
       "\t    selector.remove();\n",
       "\t}\n",
       "\tif (type === \"text/latex\" && MathJax) {\n",
       "\t    MathJax.Hub.Queue([\"Typeset\", MathJax.Hub, toinsert.get(0)]);\n",
       "\t}\n",
       "    }\n",
       "\n",
       "\n",
       "    $(document).ready(function() {\n",
       "\tfunction initComm(evt, data) {\n",
       "\t    var comm_manager = data.kernel.comm_manager;\n",
       "        //_.extend(comm_manager.targets, require(\"widgets/js/widget\"))\n",
       "\t    comm_manager.register_target(\"Signal\", function (comm) {\n",
       "            comm.on_msg(function (msg) {\n",
       "                //Widgets.log(\"message received\", msg);\n",
       "                var val = msg.content.data.value;\n",
       "                $(\".signal-\" + comm.comm_id).each(function() {\n",
       "                var type = $(this).data(\"type\");\n",
       "                if (val[type]) {\n",
       "                    redrawValue(this, type, val[type], type);\n",
       "                }\n",
       "                });\n",
       "                delete val;\n",
       "                delete msg.content.data.value;\n",
       "            });\n",
       "\t    });\n",
       "\n",
       "\t    // coordingate with Comm and redraw Signals\n",
       "\t    // XXX: Test using Reactive here to improve performance\n",
       "\t    $([IPython.events]).on(\n",
       "\t\t'output_appended.OutputArea', function (event, type, value, md, toinsert) {\n",
       "\t\t    if (md && md.reactive) {\n",
       "                // console.log(md.comm_id);\n",
       "                toinsert.addClass(\"signal-\" + md.comm_id);\n",
       "                toinsert.data(\"type\", type);\n",
       "                // Signal back indicating the mimetype required\n",
       "                var comm_manager = IPython.notebook.kernel.comm_manager;\n",
       "                var comm = comm_manager.comms[md.comm_id];\n",
       "                comm.then(function (c) {\n",
       "                    c.send({action: \"subscribe_mime\",\n",
       "                       mime: type});\n",
       "                    toinsert.bind(\"destroyed\", function() {\n",
       "                        c.send({action: \"unsubscribe_mime\",\n",
       "                               mime: type});\n",
       "                    });\n",
       "                })\n",
       "\t\t    }\n",
       "\t    });\n",
       "\t}\n",
       "\n",
       "\ttry {\n",
       "\t    // try to initialize right away. otherwise, wait on the status_started event.\n",
       "\t    initComm(undefined, IPython.notebook);\n",
       "\t} catch (e) {\n",
       "\t    $([IPython.events]).on('kernel_created.Kernel kernel_created.Session', initComm);\n",
       "\t}\n",
       "    });\n",
       "})(IPython, jQuery, _, MathJax);\n",
       "</script>\n",
       "    <script>\n",
       "        window.interactLoadedFlag = true\n",
       "       $(\"#interact-js-shim\").bind(\"destroyed\", function () {\n",
       "           if (window.interactLoadedFlag) {\n",
       "               console.warn(\"JavaScript required by Interact will be removed if you remove this cell or run using Interact more than once.\")\n",
       "           }\n",
       "       })\n",
       "       $([IPython.events]).on(\"kernel_starting.Kernel kernel_restarting.Kernel\", function () { window.interactLoadedFlag = false })\n",
       "   </script>\n",
       "</div>"
      ]
     },
     "metadata": {},
     "output_type": "display_data"
    },
    {
     "name": "stderr",
     "output_type": "stream",
     "text": [
      "WARNING: Method definition ctranspose("
     ]
    },
    {
     "data": {
      "text/html": [
       "<?xml version=\"1.0\" encoding=\"utf-8\"?>\n",
       "<svg xmlns=\"http://www.w3.org/2000/svg\" xmlns:xlink=\"http://www.w3.org/1999/xlink\" width=\"600\" height=\"400\" viewBox=\"0 0 600 400\">\n",
       "<defs>\n",
       "  <clipPath id=\"clip00\">\n",
       "    <rect x=\"0\" y=\"0\" width=\"600\" height=\"400\"/>\n",
       "  </clipPath>\n",
       "</defs>\n",
       "<polygon clip-path=\"url(#clip00)\" points=\"\n",
       "0,400 600,400 600,0 0,0 \n",
       "  \" fill=\"#ffffff\" fill-opacity=\"1\"/>\n",
       "<defs>\n",
       "  <clipPath id=\"clip01\">\n",
       "    <rect x=\"120\" y=\"0\" width=\"421\" height=\"400\"/>\n",
       "  </clipPath>\n",
       "</defs>\n",
       "<polygon clip-path=\"url(#clip00)\" points=\"\n",
       "30.6037,384.952 596.063,384.952 596.063,3.93701 30.6037,3.93701 \n",
       "  \" fill=\"#ffffff\" fill-opacity=\"1\"/>\n",
       "<defs>\n",
       "  <clipPath id=\"clip02\">\n",
       "    <rect x=\"30\" y=\"3\" width=\"566\" height=\"382\"/>\n",
       "  </clipPath>\n",
       "</defs>\n",
       "<polyline clip-path=\"url(#clip02)\" style=\"stroke:#00002d; stroke-width:0.8; stroke-opacity:0.5; fill:none\" stroke-dasharray=\"1, 2\" points=\"\n",
       "  30.6037,379.237 30.6037,9.65223 \n",
       "  \"/>\n",
       "<polyline clip-path=\"url(#clip02)\" style=\"stroke:#00002d; stroke-width:0.8; stroke-opacity:0.5; fill:none\" stroke-dasharray=\"1, 2\" points=\"\n",
       "  124.847,379.237 124.847,9.65223 \n",
       "  \"/>\n",
       "<polyline clip-path=\"url(#clip02)\" style=\"stroke:#00002d; stroke-width:0.8; stroke-opacity:0.5; fill:none\" stroke-dasharray=\"1, 2\" points=\"\n",
       "  219.09,379.237 219.09,9.65223 \n",
       "  \"/>\n",
       "<polyline clip-path=\"url(#clip02)\" style=\"stroke:#00002d; stroke-width:0.8; stroke-opacity:0.5; fill:none\" stroke-dasharray=\"1, 2\" points=\"\n",
       "  313.333,379.237 313.333,9.65223 \n",
       "  \"/>\n",
       "<polyline clip-path=\"url(#clip02)\" style=\"stroke:#00002d; stroke-width:0.8; stroke-opacity:0.5; fill:none\" stroke-dasharray=\"1, 2\" points=\"\n",
       "  407.577,379.237 407.577,9.65223 \n",
       "  \"/>\n",
       "<polyline clip-path=\"url(#clip02)\" style=\"stroke:#00002d; stroke-width:0.8; stroke-opacity:0.5; fill:none\" stroke-dasharray=\"1, 2\" points=\"\n",
       "  501.82,379.237 501.82,9.65223 \n",
       "  \"/>\n",
       "<polyline clip-path=\"url(#clip02)\" style=\"stroke:#00002d; stroke-width:0.8; stroke-opacity:0.5; fill:none\" stroke-dasharray=\"1, 2\" points=\"\n",
       "  596.063,379.237 596.063,9.65223 \n",
       "  \"/>\n",
       "<polyline clip-path=\"url(#clip02)\" style=\"stroke:#00002d; stroke-width:0.8; stroke-opacity:0.5; fill:none\" stroke-dasharray=\"1, 2\" points=\"\n",
       "  39.0856,330.521 587.581,330.521 \n",
       "  \"/>\n",
       "<polyline clip-path=\"url(#clip02)\" style=\"stroke:#00002d; stroke-width:0.8; stroke-opacity:0.5; fill:none\" stroke-dasharray=\"1, 2\" points=\"\n",
       "  39.0856,239.803 587.581,239.803 \n",
       "  \"/>\n",
       "<polyline clip-path=\"url(#clip02)\" style=\"stroke:#00002d; stroke-width:0.8; stroke-opacity:0.5; fill:none\" stroke-dasharray=\"1, 2\" points=\"\n",
       "  39.0856,149.086 587.581,149.086 \n",
       "  \"/>\n",
       "<polyline clip-path=\"url(#clip02)\" style=\"stroke:#00002d; stroke-width:0.8; stroke-opacity:0.5; fill:none\" stroke-dasharray=\"1, 2\" points=\"\n",
       "  39.0856,58.3677 587.581,58.3677 \n",
       "  \"/>\n",
       "<polyline clip-path=\"url(#clip02)\" style=\"stroke:#00002d; stroke-width:0.8; stroke-opacity:1; fill:none\" points=\"\n",
       "  30.6037,384.952 596.063,384.952 \n",
       "  \"/>\n",
       "<polyline clip-path=\"url(#clip02)\" style=\"stroke:#00002d; stroke-width:0.8; stroke-opacity:1; fill:none\" points=\"\n",
       "  30.6037,384.952 30.6037,379.237 \n",
       "  \"/>\n",
       "<polyline clip-path=\"url(#clip02)\" style=\"stroke:#00002d; stroke-width:0.8; stroke-opacity:1; fill:none\" points=\"\n",
       "  124.847,384.952 124.847,379.237 \n",
       "  \"/>\n",
       "<polyline clip-path=\"url(#clip02)\" style=\"stroke:#00002d; stroke-width:0.8; stroke-opacity:1; fill:none\" points=\"\n",
       "  219.09,384.952 219.09,379.237 \n",
       "  \"/>\n",
       "<polyline clip-path=\"url(#clip02)\" style=\"stroke:#00002d; stroke-width:0.8; stroke-opacity:1; fill:none\" points=\"\n",
       "  313.333,384.952 313.333,379.237 \n",
       "  \"/>\n",
       "<polyline clip-path=\"url(#clip02)\" style=\"stroke:#00002d; stroke-width:0.8; stroke-opacity:1; fill:none\" points=\"\n",
       "  407.577,384.952 407.577,379.237 \n",
       "  \"/>\n",
       "<polyline clip-path=\"url(#clip02)\" style=\"stroke:#00002d; stroke-width:0.8; stroke-opacity:1; fill:none\" points=\"\n",
       "  501.82,384.952 501.82,379.237 \n",
       "  \"/>\n",
       "<polyline clip-path=\"url(#clip02)\" style=\"stroke:#00002d; stroke-width:0.8; stroke-opacity:1; fill:none\" points=\"\n",
       "  596.063,384.952 596.063,379.237 \n",
       "  \"/>\n",
       "<polyline clip-path=\"url(#clip02)\" style=\"stroke:#00002d; stroke-width:0.8; stroke-opacity:1; fill:none\" points=\"\n",
       "  30.6037,384.952 30.6037,3.93701 \n",
       "  \"/>\n",
       "<polyline clip-path=\"url(#clip02)\" style=\"stroke:#00002d; stroke-width:0.8; stroke-opacity:1; fill:none\" points=\"\n",
       "  30.6037,330.521 39.0856,330.521 \n",
       "  \"/>\n",
       "<polyline clip-path=\"url(#clip02)\" style=\"stroke:#00002d; stroke-width:0.8; stroke-opacity:1; fill:none\" points=\"\n",
       "  30.6037,239.803 39.0856,239.803 \n",
       "  \"/>\n",
       "<polyline clip-path=\"url(#clip02)\" style=\"stroke:#00002d; stroke-width:0.8; stroke-opacity:1; fill:none\" points=\"\n",
       "  30.6037,149.086 39.0856,149.086 \n",
       "  \"/>\n",
       "<polyline clip-path=\"url(#clip02)\" style=\"stroke:#00002d; stroke-width:0.8; stroke-opacity:1; fill:none\" points=\"\n",
       "  30.6037,58.3677 39.0856,58.3677 \n",
       "  \"/>\n",
       "<g clip-path=\"url(#clip00)\">\n",
       "<text style=\"fill:#00002d; fill-opacity:1; font-family:Arial,Helvetica Neue,Helvetica,sans-serif; font-size:12; text-anchor:middle;\" transform=\"rotate(0, 30.6037, 396.952)\" x=\"30.6037\" y=\"396.952\">-3</text>\n",
       "</g>\n",
       "<g clip-path=\"url(#clip00)\">\n",
       "<text style=\"fill:#00002d; fill-opacity:1; font-family:Arial,Helvetica Neue,Helvetica,sans-serif; font-size:12; text-anchor:middle;\" transform=\"rotate(0, 124.847, 396.952)\" x=\"124.847\" y=\"396.952\">-2</text>\n",
       "</g>\n",
       "<g clip-path=\"url(#clip00)\">\n",
       "<text style=\"fill:#00002d; fill-opacity:1; font-family:Arial,Helvetica Neue,Helvetica,sans-serif; font-size:12; text-anchor:middle;\" transform=\"rotate(0, 219.09, 396.952)\" x=\"219.09\" y=\"396.952\">-1</text>\n",
       "</g>\n",
       "<g clip-path=\"url(#clip00)\">\n",
       "<text style=\"fill:#00002d; fill-opacity:1; font-family:Arial,Helvetica Neue,Helvetica,sans-serif; font-size:12; text-anchor:middle;\" transform=\"rotate(0, 313.333, 396.952)\" x=\"313.333\" y=\"396.952\">0</text>\n",
       "</g>\n",
       "<g clip-path=\"url(#clip00)\">\n",
       "<text style=\"fill:#00002d; fill-opacity:1; font-family:Arial,Helvetica Neue,Helvetica,sans-serif; font-size:12; text-anchor:middle;\" transform=\"rotate(0, 407.577, 396.952)\" x=\"407.577\" y=\"396.952\">1</text>\n",
       "</g>\n",
       "<g clip-path=\"url(#clip00)\">\n",
       "<text style=\"fill:#00002d; fill-opacity:1; font-family:Arial,Helvetica Neue,Helvetica,sans-serif; font-size:12; text-anchor:middle;\" transform=\"rotate(0, 501.82, 396.952)\" x=\"501.82\" y=\"396.952\">2</text>\n",
       "</g>\n",
       "<g clip-path=\"url(#clip00)\">\n",
       "<text style=\"fill:#00002d; fill-opacity:1; font-family:Arial,Helvetica Neue,Helvetica,sans-serif; font-size:12; text-anchor:middle;\" transform=\"rotate(0, 596.063, 396.952)\" x=\"596.063\" y=\"396.952\">3</text>\n",
       "</g>\n",
       "<g clip-path=\"url(#clip00)\">\n",
       "<text style=\"fill:#00002d; fill-opacity:1; font-family:Arial,Helvetica Neue,Helvetica,sans-serif; font-size:12; text-anchor:end;\" transform=\"rotate(0, 29.4037, 335.021)\" x=\"29.4037\" y=\"335.021\">-20</text>\n",
       "</g>\n",
       "<g clip-path=\"url(#clip00)\">\n",
       "<text style=\"fill:#00002d; fill-opacity:1; font-family:Arial,Helvetica Neue,Helvetica,sans-serif; font-size:12; text-anchor:end;\" transform=\"rotate(0, 29.4037, 244.303)\" x=\"29.4037\" y=\"244.303\">-10</text>\n",
       "</g>\n",
       "<g clip-path=\"url(#clip00)\">\n",
       "<text style=\"fill:#00002d; fill-opacity:1; font-family:Arial,Helvetica Neue,Helvetica,sans-serif; font-size:12; text-anchor:end;\" transform=\"rotate(0, 29.4037, 153.586)\" x=\"29.4037\" y=\"153.586\">0</text>\n",
       "</g>\n",
       "<g clip-path=\"url(#clip00)\">\n",
       "<text style=\"fill:#00002d; fill-opacity:1; font-family:Arial,Helvetica Neue,Helvetica,sans-serif; font-size:12; text-anchor:end;\" transform=\"rotate(0, 29.4037, 62.8677)\" x=\"29.4037\" y=\"62.8677\">10</text>\n",
       "</g>\n",
       "<polyline clip-path=\"url(#clip02)\" style=\"stroke:#0099ff; stroke-width:0.8; stroke-opacity:1; fill:none\" points=\"\n",
       "  30.6037,384.952 36.3154,371.505 42.0271,358.645 47.7388,346.361 53.4505,334.64 59.1622,323.471 64.8739,312.841 70.5856,302.738 76.2974,293.15 82.0091,284.065 \n",
       "  87.7208,275.471 93.4325,267.355 99.1442,259.705 104.856,252.51 110.568,245.758 116.279,239.435 121.991,233.531 127.703,228.032 133.414,222.928 139.126,218.204 \n",
       "  144.838,213.851 150.55,209.855 156.261,206.204 161.973,202.887 167.685,199.89 173.396,197.203 179.108,194.812 184.82,192.706 190.532,190.873 196.243,189.301 \n",
       "  201.955,187.976 207.667,186.888 213.378,186.024 219.09,185.373 224.802,184.921 230.514,184.657 236.225,184.568 241.937,184.644 247.649,184.87 253.36,185.236 \n",
       "  259.072,185.73 264.784,186.338 270.496,187.049 276.207,187.852 281.919,188.733 287.631,189.68 293.342,190.682 299.054,191.727 304.766,192.802 310.477,193.895 \n",
       "  316.189,194.994 321.901,196.087 327.613,197.162 333.324,198.206 339.036,199.209 344.748,200.156 350.459,201.037 356.171,201.84 361.883,202.551 367.595,203.159 \n",
       "  373.306,203.653 379.018,204.019 384.73,204.245 390.441,204.32 396.153,204.232 401.865,203.968 407.577,203.516 413.288,202.864 419,202.001 424.712,200.913 \n",
       "  430.423,199.588 436.135,198.016 441.847,196.182 447.559,194.077 453.27,191.686 458.982,188.999 464.694,186.002 470.405,182.685 476.117,179.034 481.829,175.038 \n",
       "  487.54,170.684 493.252,165.961 498.964,160.857 504.676,155.358 510.387,149.454 516.099,143.131 521.811,136.378 527.522,129.183 533.234,121.534 538.946,113.418 \n",
       "  544.658,104.824 550.369,95.7388 556.081,86.1508 561.793,76.0478 567.504,65.4177 573.216,54.2485 578.928,42.5279 584.64,30.2438 590.351,17.3843 596.063,3.93701 \n",
       "  \n",
       "  \"/>\n",
       "<polygon clip-path=\"url(#clip00)\" points=\"\n",
       "505.547,55.057 578.063,55.057 578.063,24.817 505.547,24.817 \n",
       "  \" fill=\"#ffffff\" fill-opacity=\"1\"/>\n",
       "<polyline clip-path=\"url(#clip00)\" style=\"stroke:#00002d; stroke-width:0.8; stroke-opacity:1; fill:none\" points=\"\n",
       "  505.547,55.057 578.063,55.057 578.063,24.817 505.547,24.817 505.547,55.057 \n",
       "  \"/>\n",
       "<polyline clip-path=\"url(#clip00)\" style=\"stroke:#0099ff; stroke-width:0.8; stroke-opacity:1; fill:none\" points=\"\n",
       "  511.547,39.937 547.547,39.937 \n",
       "  \"/>\n",
       "<g clip-path=\"url(#clip00)\">\n",
       "<text style=\"fill:#00002d; fill-opacity:1; font-family:Arial,Helvetica Neue,Helvetica,sans-serif; font-size:12; text-anchor:start;\" transform=\"rotate(0, 553.547, 44.437)\" x=\"553.547\" y=\"44.437\">y1</text>\n",
       "</g>\n",
       "</svg>\n"
      ]
     },
     "execution_count": 2,
     "metadata": {},
     "output_type": "execute_result"
    },
    {
     "name": "stderr",
     "output_type": "stream",
     "text": [
      "Function) in module Calculus at C:\\Users\\Neal\\.julia\\v0.5\\Calculus\\src\\derivative.jl:26 overwritten in module MTH229 at C:\\Users\\Neal\\.julia\\v0.5\\MTH229\\src\\MTH229.jl:42.\n",
      "WARNING: Method definition meth(Any, Any, Any) in module MTH229 at C:\\Users\\Neal\\.julia\\v0.5\\MTH229\\src\\MTH229.jl:154 overwritten at C:\\Users\\Neal\\.julia\\v0.5\\MTH229\\src\\MTH229.jl:156.\n",
      "WARNING: Method definition meth(Any, Any, Any) in module MTH229 at C:\\Users\\Neal\\.julia\\v0.5\\MTH229\\src\\MTH229.jl:156 overwritten at C:\\Users\\Neal\\.julia\\v0.5\\MTH229\\src\\MTH229.jl:158.\n",
      "WARNING: Method definition meth(Any, Any, Any) in module MTH229 at C:\\Users\\Neal\\.julia\\v0.5\\MTH229\\src\\MTH229.jl:158 overwritten at C:\\Users\\Neal\\.julia\\v0.5\\MTH229\\src\\MTH229.jl:160.\n",
      "WARNING: Method definition f(Any) in module Main at In[1]:1 overwritten at In[2]:2.\n"
     ]
    }
   ],
   "source": [
    "using MTH229\n",
    "f(x) = x^3 - 2x - 5\n",
    "plot(f, -3, 3)"
   ]
  },
  {
   "cell_type": "code",
   "execution_count": 4,
   "metadata": {
    "collapsed": false
   },
   "outputs": [
    {
     "name": "stderr",
     "output_type": "stream",
     "text": [
      "WARNING: Method definition fp(Any) in module Main at In[3]:1"
     ]
    },
    {
     "data": {
      "text/plain": [
       "(2.1,0.06100000000000083)"
      ]
     },
     "execution_count": 4,
     "metadata": {},
     "output_type": "execute_result"
    },
    {
     "name": "stderr",
     "output_type": "stream",
     "text": [
      " overwritten at In[4]:1.\n"
     ]
    }
   ],
   "source": [
    "fp(x) = 3x^2 - 2\n",
    "x = 2\t\t\t\t# starting value, x_0\n",
    "x = x - f(x)/fp(x)\t\t# new value, x_1\n",
    "x, f(x)"
   ]
  },
  {
   "cell_type": "code",
   "execution_count": 5,
   "metadata": {
    "collapsed": false
   },
   "outputs": [
    {
     "data": {
      "text/plain": [
       "nm (generic function with 1 method)"
      ]
     },
     "execution_count": 5,
     "metadata": {},
     "output_type": "execute_result"
    }
   ],
   "source": [
    "function nm(f, fp, x)\n",
    "\t xnew, xold = x, Inf\n",
    "\t fn, fo = f(xnew), Inf\n",
    "\t \n",
    "\t tol = 1e-14\n",
    "\t ctr = 1\n",
    "\n",
    "\t while (ctr < 100) && (abs(xnew - xold) > tol) && ( abs(fn - fo) > tol )\n",
    "\t   x = xnew - f(xnew)/fp(xnew) # update step\n",
    "\t   xnew, xold = x, xnew\n",
    "           fn, fo = f(xnew), fn\n",
    "\t   ctr = ctr + 1\n",
    "\t end\n",
    "\n",
    "\t if ctr == 100\n",
    "\t    error(\"Did not converge in 100 steps\")\n",
    "         else\n",
    "\t   xnew, ctr\n",
    "         end \n",
    "end"
   ]
  },
  {
   "cell_type": "code",
   "execution_count": 6,
   "metadata": {
    "collapsed": false
   },
   "outputs": [
    {
     "name": "stderr",
     "output_type": "stream",
     "text": [
      "WARNING: Method definition f(Any)"
     ]
    },
    {
     "data": {
      "text/plain": [
       "(0.20163967572340466,6)"
      ]
     },
     "execution_count": 6,
     "metadata": {},
     "output_type": "execute_result"
    },
    {
     "name": "stderr",
     "output_type": "stream",
     "text": [
      " in module Main at In[2]:2 overwritten at In[6]:1.\n",
      "WARNING: Method definition fp(Any) in module Main at In[4]:1 overwritten at In[6]:2.\n"
     ]
    }
   ],
   "source": [
    "f(x) = x^3 - 5x + 1\n",
    "fp(x) = 3x^2 - 5\n",
    "xstar, ctr = nm(f, fp, 0)\t# takes 6 step"
   ]
  },
  {
   "cell_type": "code",
   "execution_count": 9,
   "metadata": {
    "collapsed": false
   },
   "outputs": [
    {
     "data": {
      "text/plain": [
       "BenchmarkTools.Trial: \n",
       "  memory estimate:  1.06 kb\n",
       "  allocs estimate:  67\n",
       "  --------------\n",
       "  minimum time:     1.026 μs (0.00% GC)\n",
       "  median time:      1.120 μs (0.00% GC)\n",
       "  mean time:        1.279 μs (4.40% GC)\n",
       "  maximum time:     150.177 μs (97.11% GC)\n",
       "  --------------\n",
       "  samples:          10000\n",
       "  evals/sample:     10\n",
       "  time tolerance:   5.00%\n",
       "  memory tolerance: 1.00%"
      ]
     },
     "execution_count": 9,
     "metadata": {},
     "output_type": "execute_result"
    }
   ],
   "source": [
    "using BenchmarkTools\n",
    "@benchmark nm(f,fp,0)"
   ]
  },
  {
   "cell_type": "code",
   "execution_count": 16,
   "metadata": {
    "collapsed": false
   },
   "outputs": [
    {
     "name": "stderr",
     "output_type": "stream",
     "text": [
      "WARNING: Method definition f1(Array{"
     ]
    },
    {
     "data": {
      "text/plain": [
       "5-element Array{Float64,1}:\n",
       " 0.946897\n",
       " 0.867724\n",
       " 1.02408 \n",
       " 1.44253 \n",
       " 1.43279 "
      ]
     },
     "execution_count": 16,
     "metadata": {},
     "output_type": "execute_result"
    },
    {
     "name": "stderr",
     "output_type": "stream",
     "text": [
      "T<:Any, 1}) in module Main at In[15]:2 overwritten at In[16]:2.\n"
     ]
    }
   ],
   "source": [
    "using ForwardDiff\n",
    "f1(x::Vector) = sum(sin, x) + prod(tan, x) * sum(sqrt, x);\n",
    "# f2(x::Vector) =\n",
    "x = rand(5) # small size for example's sake\n",
    "g = x -> ForwardDiff.gradient(f1, x); # g = ∇f\n",
    "g(x)\n",
    "\n"
   ]
  },
  {
   "cell_type": "code",
   "execution_count": 17,
   "metadata": {
    "collapsed": false
   },
   "outputs": [
    {
     "data": {
      "text/plain": [
       "BenchmarkTools.Trial: \n",
       "  memory estimate:  4.41 kb\n",
       "  allocs estimate:  97\n",
       "  --------------\n",
       "  minimum time:     17.261 μs (0.00% GC)\n",
       "  median time:      18.661 μs (0.00% GC)\n",
       "  mean time:        21.069 μs (4.66% GC)\n",
       "  maximum time:     4.992 ms (98.84% GC)\n",
       "  --------------\n",
       "  samples:          10000\n",
       "  evals/sample:     1\n",
       "  time tolerance:   5.00%\n",
       "  memory tolerance: 1.00%"
      ]
     },
     "execution_count": 17,
     "metadata": {},
     "output_type": "execute_result"
    }
   ],
   "source": [
    "@benchmark g(x)"
   ]
  },
  {
   "cell_type": "markdown",
   "metadata": {},
   "source": [
    "# Euler Forwards"
   ]
  },
  {
   "cell_type": "code",
   "execution_count": 20,
   "metadata": {
    "collapsed": false
   },
   "outputs": [
    {
     "data": {
      "text/plain": [
       "demo (generic function with 2 methods)"
      ]
     },
     "execution_count": 20,
     "metadata": {},
     "output_type": "execute_result"
    }
   ],
   "source": [
    "#y[1]=y[0]+h*y'[0]\n",
    "#for a system of 2 equations\n",
    "#eq 1: dy1/dt = -y1^2\n",
    "#eq 2: dy2/dt = y1^2+y2\n",
    "function demo(y::Vector)\n",
    "    # extract components of the y vector\n",
    "    (y1, y2) = y\n",
    "    \n",
    "    #system of diff eqs:\n",
    "    dy1 = -y1^2\n",
    "    dy2 = y1^2-y2\n",
    "    \n",
    "    #return the derivatives as a vector\n",
    "    [dy1,dy2]\n",
    "end\n",
    "\n",
    "    "
   ]
  },
  {
   "cell_type": "code",
   "execution_count": 34,
   "metadata": {
    "collapsed": false
   },
   "outputs": [
    {
     "name": "stdout",
     "output_type": "stream",
     "text": [
      "[1.01,-0.01,1.0202,-0.020301,1.03061,-0.0309121,1.04123,-0.0418428,1.05207,-0.0531028,1.06314,-0.0647024,1.07444,-0.0766521,1.08599,-0.0889629,1.09778,-0.101646,1.10983,-0.114714,1.12215,-0.128178,1.13474,-0.142052,1.14762,-0.156349,1.16079,-0.171083,1.17426,-0.186268,1.18805,-0.20192,1.20217,-0.218054,1.21662,-0.234686,1.23142,-0.251835,1.24658,-0.269517,1.26212,-0.287752,1.27805,-0.306559,1.29439,-0.325959,1.31114,-0.345973,1.32833,-0.366624,1.34598,-0.387934,1.36409,-0.40993,1.3827,-0.432637,1.40182,-0.456082,1.42147,-0.480294,1.44168,-0.505303,1.46246,-0.53114,1.48385,-0.55784,1.50587,-0.585436,1.52854,-0.613967,1.55191,-0.643471,1.57599,-0.67399,1.60083,-0.705567,1.62646,-0.73825,1.65291,-0.772086,1.68023,-0.807128,1.70846,-0.843431,1.73765,-0.881054,1.76785,-0.920059,1.7991,-0.960512,1.83147,-1.00248,1.86501,-1.04605,1.89979,-1.0913,1.93588,-1.1383,1.97336,-1.18716,2.0123,-1.23797,2.0528,-1.29085,2.09494,-1.34589,2.13882,-1.40324,2.18457,-1.46302,2.23229,-1.52537,2.28212,-1.59046,2.3342,-1.65844,2.38869,-1.72951,2.44575,-1.80387,2.50557,-1.88172,2.56834,-1.96332,2.63431,-2.04891,2.7037,-2.1388,2.7768,-2.23329,2.85391,-2.33273,2.93536,-2.4375,3.02152,-2.54804,3.11282,-2.66482,3.20971,-2.78836,3.31274,-2.91927,3.42248,-3.0582,3.53961,-3.20592,3.6649,-3.36327,3.79921,-3.53121,3.94356,-3.71087,4.09907,-3.90349,4.2671,-4.11055,4.44918,-4.33374,4.64713,-4.57502,4.86309,-4.83673,5.09958,-5.1216,5.35964,-5.43287,5.6469,-5.77446,5.96577,-6.15107,6.32168,-6.56849,6.72131,-7.03381,7.17307,-7.55591,7.6876,-8.146,8.27859,-8.81845,8.96394,-9.59199,9.76747,-10.4914,10.7215,-11.5504,11.871,-12.8154,13.2802,-14.3527,15.0439,-16.2599,17.307,-18.6857,20.3024,-21.8679,24.4242,-26.2084,30.3897,-32.4359]"
     ]
    }
   ],
   "source": [
    "starty = [1.0,0.0] # initial conditions\n",
    "h=0.01 # step size\n",
    "# next point\n",
    "\n",
    "yold=[1.0,0.0]\n",
    "ploty=Float64[]\n",
    "for i=1:100\n",
    "    ynew=yold-h*demo(yold)\n",
    "    yold=ynew\n",
    "    append!(ploty,yold)\n",
    "#     print(yold)\n",
    "end\n",
    "\n",
    "print(ploty)"
   ]
  },
  {
   "cell_type": "code",
   "execution_count": null,
   "metadata": {
    "collapsed": true
   },
   "outputs": [],
   "source": []
  },
  {
   "cell_type": "code",
   "execution_count": null,
   "metadata": {
    "collapsed": true
   },
   "outputs": [],
   "source": []
  }
 ],
 "metadata": {
  "kernelspec": {
   "display_name": "Julia 0.5.0",
   "language": "julia",
   "name": "julia-0.5"
  },
  "language_info": {
   "file_extension": ".jl",
   "mimetype": "application/julia",
   "name": "julia",
   "version": "0.5.0"
  }
 },
 "nbformat": 4,
 "nbformat_minor": 0
}
