{
 "cells": [
  {
   "cell_type": "code",
   "execution_count": 26,
   "metadata": {
    "collapsed": false
   },
   "outputs": [
    {
     "data": {
      "text/plain": [
       "1.1411200080598671"
      ]
     },
     "execution_count": 26,
     "metadata": {},
     "output_type": "execute_result"
    }
   ],
   "source": [
    "1 + sin(3)"
   ]
  },
  {
   "cell_type": "code",
   "execution_count": 27,
   "metadata": {
    "collapsed": false
   },
   "outputs": [
    {
     "data": {
      "text/plain": [
       "randmatstat (generic function with 1 method)"
      ]
     },
     "execution_count": 27,
     "metadata": {},
     "output_type": "execute_result"
    }
   ],
   "source": [
    "function mandel(z)\n",
    "    c = z\n",
    "    maxiter = 80\n",
    "    for n = 1:maxiter\n",
    "        if abs(z) > 2\n",
    "            return n-1\n",
    "        end\n",
    "        z = z^2 + c\n",
    "    end\n",
    "    return maxiter\n",
    "end\n",
    "function randmatstat(t)\n",
    "    n = 5\n",
    "    v = zeros(t)\n",
    "    w = zeros(t)\n",
    "    for i = 1:t\n",
    "        a = randn(n,n)\n",
    "        b = randn(n,n)\n",
    "        c = randn(n,n)\n",
    "        d = randn(n,n)\n",
    "        P = [a b c d]\n",
    "        Q = [a b; c d]\n",
    "        v[i] = trace((P.'*P)^4)\n",
    "        w[i] = trace((Q.'*Q)^4)\n",
    "    end\n",
    "    std(v)/mean(v), std(w)/mean(w)\n",
    "end"
   ]
  },
  {
   "cell_type": "code",
   "execution_count": 28,
   "metadata": {
    "collapsed": false
   },
   "outputs": [
    {
     "name": "stdout",
     "output_type": "stream",
     "text": [
      "  0.049440 seconds (12.85 k allocations: 593.629 KB)\n"
     ]
    },
    {
     "data": {
      "text/plain": [
       "0.004613700584725256"
      ]
     },
     "execution_count": 28,
     "metadata": {},
     "output_type": "execute_result"
    }
   ],
   "source": [
    "#function gets compiled and takes a little while to run\n",
    "y = randn(10_000)\n",
    "@time mean(y)"
   ]
  },
  {
   "cell_type": "code",
   "execution_count": 29,
   "metadata": {
    "collapsed": false
   },
   "outputs": [
    {
     "name": "stdout",
     "output_type": "stream",
     "text": [
      "  0.000011 seconds (5 allocations: 176 bytes)\n"
     ]
    },
    {
     "data": {
      "text/plain": [
       "0.004613700584725256"
      ]
     },
     "execution_count": 29,
     "metadata": {},
     "output_type": "execute_result"
    }
   ],
   "source": [
    "#compiled function is run\n",
    "@time mean(y)"
   ]
  },
  {
   "cell_type": "code",
   "execution_count": 30,
   "metadata": {
    "collapsed": false
   },
   "outputs": [
    {
     "name": "stdout",
     "output_type": "stream",
     "text": [
      "\n",
      "; Function Attrs: uwtable\n",
      "define i64 @julia_f_72463(i64) #0 {\n",
      "top:\n",
      "  %1 = mul i64 %0, %0\n",
      "  ret i64 %1\n",
      "}\n"
     ]
    }
   ],
   "source": [
    "f(x) = x^2\n",
    "@code_llvm f(1)"
   ]
  },
  {
   "cell_type": "code",
   "execution_count": 31,
   "metadata": {
    "collapsed": false
   },
   "outputs": [
    {
     "name": "stderr",
     "output_type": "stream",
     "text": [
      "WARNING: Method definition pisum() in module Main at In[1]:2 overwritten at In[31]:2.\n"
     ]
    },
    {
     "data": {
      "text/plain": [
       "pisum (generic function with 1 method)"
      ]
     },
     "execution_count": 31,
     "metadata": {},
     "output_type": "execute_result"
    }
   ],
   "source": [
    "function pisum()\n",
    "    sum = 0.0\n",
    "    for j = 1:500\n",
    "        sum = 0.0\n",
    "        for k = 1:10000\n",
    "            sum += 1.0/(k*k)\n",
    "        end\n",
    "        end\n",
    "    sum\n",
    "end"
   ]
  },
  {
   "cell_type": "code",
   "execution_count": 32,
   "metadata": {
    "collapsed": false
   },
   "outputs": [
    {
     "name": "stdout",
     "output_type": "stream",
     "text": [
      "  0.020514 seconds (2.99 k allocations: 132.645 KB)\n"
     ]
    },
    {
     "data": {
      "text/plain": [
       "1.6448340718480652"
      ]
     },
     "execution_count": 32,
     "metadata": {},
     "output_type": "execute_result"
    }
   ],
   "source": [
    "@time pisum()"
   ]
  },
  {
   "cell_type": "code",
   "execution_count": 33,
   "metadata": {
    "collapsed": false
   },
   "outputs": [
    {
     "name": "stdout",
     "output_type": "stream",
     "text": [
      "  0.009595 seconds\n",
      "  0.011005 seconds\n",
      "  0.010631 seconds\n",
      "  0.009806 seconds\n",
      "  0.009277 seconds\n",
      "  0.011191 seconds\n",
      "  0.009968 seconds\n",
      "  0.010041 seconds\n",
      "  0.010573 seconds\n",
      "  0.009435 seconds\n",
      "  0.009150 seconds\n",
      "  0.009059 seconds\n",
      "  0.009117 seconds\n",
      "  0.009068 seconds\n",
      "  0.010425 seconds\n",
      "  0.009880 seconds\n",
      "  0.008770 seconds\n",
      "  0.008747 seconds\n",
      "  0.008579 seconds\n",
      "  0.008387 seconds\n"
     ]
    }
   ],
   "source": [
    "for i=1:20\n",
    "    @time pisum()\n",
    "end"
   ]
  },
  {
   "cell_type": "code",
   "execution_count": 34,
   "metadata": {
    "collapsed": false
   },
   "outputs": [
    {
     "name": "stdout",
     "output_type": "stream",
     "text": [
      "  0.000061 seconds (9 allocations: 16.078 KB)\n"
     ]
    },
    {
     "data": {
      "text/plain": [
       "1000-element Array{Float64,1}:\n",
       " 0.661495\n",
       " 0.9086  \n",
       " 0.578748\n",
       " 0.619851\n",
       " 0.837107\n",
       " 0.88333 \n",
       " 0.416333\n",
       " 0.420275\n",
       " 0.796288\n",
       " 0.13521 \n",
       " 0.670368\n",
       " 0.870134\n",
       " 0.576303\n",
       " ⋮       \n",
       " 0.979232\n",
       " 0.962158\n",
       " 0.272277\n",
       " 0.520128\n",
       " 0.640126\n",
       " 0.973987\n",
       " 0.765721\n",
       " 0.545822\n",
       " 0.399406\n",
       " 0.108523\n",
       " 0.597233\n",
       " 0.332953"
      ]
     },
     "execution_count": 34,
     "metadata": {},
     "output_type": "execute_result"
    }
   ],
   "source": [
    "@time sqrt(rand(1000))"
   ]
  },
  {
   "cell_type": "code",
   "execution_count": 35,
   "metadata": {
    "collapsed": false
   },
   "outputs": [
    {
     "name": "stderr",
     "output_type": "stream",
     "text": [
      "WARNING: Method definition testfunc() in module Main at In[18]:3 overwritten"
     ]
    },
    {
     "data": {
      "text/plain": [
       "1×1000 Array{Float64,2}:\n",
       " 0.287446  0.289105  0.290176  0.286923  …  0.28822  0.289859  0.289913"
      ]
     },
     "execution_count": 35,
     "metadata": {},
     "output_type": "execute_result"
    },
    {
     "name": "stderr",
     "output_type": "stream",
     "text": [
      " at In[35]:3.\n"
     ]
    }
   ],
   "source": [
    "using Base.Profile\n",
    "function testfunc()\n",
    "    x = rand(10000, 1000)\n",
    "    y = std(x, 1)\n",
    "    return y\n",
    "end\n",
    "@profile testfunc()"
   ]
  },
  {
   "cell_type": "code",
   "execution_count": 36,
   "metadata": {
    "collapsed": false
   },
   "outputs": [
    {
     "name": "stdout",
     "output_type": "stream",
     "text": [
      "  0.095714 seconds (82 allocations: 76.314 MB, 13.86% gc time)\n"
     ]
    },
    {
     "data": {
      "text/plain": [
       "1×1000 Array{Float64,2}:\n",
       " 0.289467  0.289755  0.288726  0.290358  …  0.288852  0.290064  0.288435"
      ]
     },
     "execution_count": 36,
     "metadata": {},
     "output_type": "execute_result"
    }
   ],
   "source": [
    "@time testfunc()"
   ]
  },
  {
   "cell_type": "code",
   "execution_count": 37,
   "metadata": {
    "collapsed": false
   },
   "outputs": [
    {
     "data": {
      "text/plain": [
       "1×1000 Array{Float64,2}:\n",
       " 0.289294  0.286641  0.289894  0.287498  …  0.286679  0.29005  0.288758"
      ]
     },
     "execution_count": 37,
     "metadata": {},
     "output_type": "execute_result"
    }
   ],
   "source": [
    "Profile.clear()\n",
    "@profile testfunc()"
   ]
  },
  {
   "cell_type": "code",
   "execution_count": 38,
   "metadata": {
    "collapsed": false
   },
   "outputs": [
    {
     "name": "stdout",
     "output_type": "stream",
     "text": [
      "22 .\\task.jl:360; (::IJulia.##9#15)()\n",
      " 22 ...IJulia\\src\\eventloop.jl:8; eventloop(::ZMQ.Socket)\n",
      "  22 ...rc\\execute_request.jl:169; execute_request(::ZMQ.Socket, ::I...\n",
      "   22 .\\loading.jl:441; include_string(::String, ::String)\n",
      "    22 .\\<missing>:?; anonymous\n",
      "     22 .\\profile.jl:16; macro expansion;\n",
      "      18 .\\In[35]:3; testfunc;\n",
      "       17 .\\random.jl:362; rand!(::MersenneTwister, ::Arr...\n",
      "        17 .\\dSFMT.jl:84; dsfmt_fill_array_close_open!(:...\n",
      "       1  .\\random.jl:230; rand;\n",
      "        1 .\\random.jl:229; rand;\n",
      "         1 .\\random.jl:297; rand;\n",
      "          1 .\\random.jl:300; rand;\n",
      "      4  .\\In[35]:4; testfunc;\n",
      "       4 .\\<missing>:0; (::Base.#kw##var)(::Array{Any,1}...\n",
      "        4 .\\statistics.jl:180; #var#954(::Bool, ::Void, ::Fun...\n",
      "         2 .\\<missing>:0; (::Base.#kw##varm)(::Array{Any...\n",
      "          2 .\\<missing>:0; (::Base.#kw##varm!)(::Array{An...\n",
      "           2 .\\statistics.jl:154; #varm!#951(::Bool, ::Functio...\n",
      "            2 .\\statistics.jl:113; centralize_sumabs2!(::Array...\n",
      "             1 .\\reduce.jl:110; mapreduce_impl(::Base.##948...\n",
      "              1 .\\reduce.jl:111; mapreduce_impl(::Base.##94...\n",
      "               1 .\\reduce.jl:110; mapreduce_impl(::Base.##94...\n",
      "                1 .\\reduce.jl:111; mapreduce_impl(::Base.##9...\n",
      "                 1 .\\reduce.jl:102; mapreduce_impl(::Base.##...\n",
      "                  1 .\\simdloop.jl:73; macro expansion\n",
      "                   1 .\\reduce.jl:103; macro expansion\n",
      "             1 .\\reduce.jl:111; mapreduce_impl(::Base.##948...\n",
      "              1 .\\reduce.jl:111; mapreduce_impl(::Base.##94...\n",
      "               1 .\\reduce.jl:111; mapreduce_impl(::Base.##94...\n",
      "                1 .\\reduce.jl:111; mapreduce_impl(::Base.##9...\n",
      "                 1 .\\reduce.jl:102; mapreduce_impl(::Base.##...\n",
      "                  1 .\\simdloop.jl:73; macro expansion\n",
      "                   1 .\\reduce.jl:103; macro expansion\n",
      "         2 .\\statistics.jl:49; mean(::Array{Float64,2}, ::Int64)\n",
      "          2 .\\statistics.jl:31; mean!\n",
      "           2 .\\<missing>:0; (::Base.#kw##sum!)(::Array{An...\n",
      "            2 .\\<missing>:0; (::Base.#kw##sum!)(::Array{An...\n",
      "             2 .\\reducedim.jl:299; #sum!#531(::Bool, ::Functio...\n",
      "              2 .\\reducedim.jl:222; mapreducedim!\n",
      "               2 .\\reducedim.jl:193; _mapreducedim!(::Base.#ide...\n",
      "                1 .\\reduce.jl:110; mapreduce_impl(::Base.#id...\n",
      "                 1 .\\reduce.jl:110; mapreduce_impl(::Base.#i...\n",
      "                  1 .\\reduce.jl:111; mapreduce_impl(::Base.#i...\n",
      "                   1 .\\reduce.jl:110; mapreduce_impl(::Base.#...\n",
      "                    1 .\\reduce.jl:102; mapreduce_impl(::Base.#...\n",
      "                     1 .\\simdloop.jl:71; macro expansion\n",
      "                1 .\\reduce.jl:111; mapreduce_impl(::Base.#id...\n",
      "                 1 .\\reduce.jl:110; mapreduce_impl(::Base.#i...\n",
      "                  1 .\\reduce.jl:111; mapreduce_impl(::Base.#i...\n",
      "                   1 .\\reduce.jl:111; mapreduce_impl(::Base.#...\n",
      "                    1 .\\reduce.jl:102; mapreduce_impl(::Base.#...\n",
      "                     1 .\\simdloop.jl:73; macro expansion\n",
      "                      1 .\\reduce.jl:104; macro expansion\n",
      "1  .\\task.jl:191; task_done_hook(::Task)\n",
      " 1 .\\event.jl:147; wait()\n",
      "  1 .\\libuv.jl:82; process_events(::Bool)\n"
     ]
    }
   ],
   "source": [
    "Profile.print()"
   ]
  },
  {
   "cell_type": "code",
   "execution_count": 39,
   "metadata": {
    "collapsed": false
   },
   "outputs": [
    {
     "data": {
      "text/plain": [
       "1.2246467991473532e-16"
      ]
     },
     "execution_count": 39,
     "metadata": {},
     "output_type": "execute_result"
    }
   ],
   "source": [
    "using PyCall\n",
    "@pyimport math\n",
    "\n",
    "math.sin(math.pi)"
   ]
  },
  {
   "cell_type": "code",
   "execution_count": 41,
   "metadata": {
    "collapsed": false
   },
   "outputs": [
    {
     "data": {
      "text/plain": [
       "5-element Array{Int64,1}:\n",
       " 1\n",
       " 2\n",
       " 3\n",
       " 4\n",
       " 5"
      ]
     },
     "execution_count": 41,
     "metadata": {},
     "output_type": "execute_result"
    }
   ],
   "source": [
    "[x for x=1:5]"
   ]
  },
  {
   "cell_type": "code",
   "execution_count": null,
   "metadata": {
    "collapsed": true
   },
   "outputs": [],
   "source": [
    "#solving using euler forwards\n",
    "#dy1/dt=-y1^2\n",
    "#dy2/dt=y1^2-y2\n",
    "\n",
    "#Euler forwards\n",
    "#y_k+1=y_k+h*(dy/dx @ k)\n",
    "\n"
   ]
  },
  {
   "cell_type": "code",
   "execution_count": 43,
   "metadata": {
    "collapsed": false
   },
   "outputs": [
    {
     "name": "stderr",
     "output_type": "stream",
     "text": [
      "WARNING: Method definition trunc(Any)"
     ]
    },
    {
     "data": {
      "text/plain": [
       "2.5"
      ]
     },
     "execution_count": 43,
     "metadata": {},
     "output_type": "execute_result"
    },
    {
     "name": "stderr",
     "output_type": "stream",
     "text": [
      " in module Main at In[42]:3 overwritten at In[43]:3.\n"
     ]
    }
   ],
   "source": [
    "#Type-stability (this function intype unstable because 0 is an int but 2.5 is a float)\n",
    "function trunc(x)\n",
    "    if x < 0\n",
    "        return 0\n",
    "    else\n",
    "        return x\n",
    "    end\n",
    "end\n",
    "trunc(-1)\n",
    "trunc(-2.5)\n",
    "trunc(2.5)"
   ]
  },
  {
   "cell_type": "code",
   "execution_count": 44,
   "metadata": {
    "collapsed": false
   },
   "outputs": [
    {
     "data": {
      "text/plain": [
       "0"
      ]
     },
     "execution_count": 44,
     "metadata": {},
     "output_type": "execute_result"
    }
   ],
   "source": [
    "trunc(-1)"
   ]
  },
  {
   "cell_type": "code",
   "execution_count": 45,
   "metadata": {
    "collapsed": false
   },
   "outputs": [
    {
     "data": {
      "text/plain": [
       "Int64"
      ]
     },
     "execution_count": 45,
     "metadata": {},
     "output_type": "execute_result"
    }
   ],
   "source": [
    "typeof(trunc(-1))"
   ]
  },
  {
   "cell_type": "code",
   "execution_count": 46,
   "metadata": {
    "collapsed": false
   },
   "outputs": [
    {
     "data": {
      "text/plain": [
       "0.0"
      ]
     },
     "execution_count": 46,
     "metadata": {},
     "output_type": "execute_result"
    }
   ],
   "source": [
    "#make it type stable:\n",
    "function trunc_fixed(x)\n",
    "    if x < 0\n",
    "        return zero(x)\n",
    "    else\n",
    "        return x\n",
    "    end\n",
    "end\n",
    "trunc_fixed(-2.5)"
   ]
  },
  {
   "cell_type": "code",
   "execution_count": 51,
   "metadata": {
    "collapsed": false
   },
   "outputs": [
    {
     "name": "stdout",
     "output_type": "stream",
     "text": [
      "  0.000004 seconds (4 allocations: 160 bytes)\n"
     ]
    },
    {
     "data": {
      "text/plain": [
       "0"
      ]
     },
     "execution_count": 51,
     "metadata": {},
     "output_type": "execute_result"
    }
   ],
   "source": [
    "#@benchmark trunc(2.5)\n",
    "@time trunc(-2.5)"
   ]
  },
  {
   "cell_type": "code",
   "execution_count": 52,
   "metadata": {
    "collapsed": false
   },
   "outputs": [
    {
     "name": "stdout",
     "output_type": "stream",
     "text": [
      "  0.000004 seconds (5 allocations: 176 bytes)\n"
     ]
    },
    {
     "data": {
      "text/plain": [
       "0.0"
      ]
     },
     "execution_count": 52,
     "metadata": {},
     "output_type": "execute_result"
    }
   ],
   "source": [
    "@time trunc_fixed(-2.5)"
   ]
  },
  {
   "cell_type": "code",
   "execution_count": 54,
   "metadata": {
    "collapsed": false
   },
   "outputs": [
    {
     "name": "stdout",
     "output_type": "stream",
     "text": [
      "Variables:\n",
      "  #self#::#trunc\n",
      "  x::Float64\n",
      "  fy::Float64\n",
      "\n",
      "Body:\n",
      "  begin \n",
      "      # meta: location float.jl < 332\n",
      "      fy::Float64 = (Base.box)(Float64,(Base.sitofp)(Float64,0))\n",
      "      # meta: pop location\n",
      "      unless (Base.box)(Base.Bool,(Base.or_int)((Base.lt_float)(x::Float64,fy::Float64)::Bool,(Base.box)(Base.Bool,(Base.and_int)((Base.box)(Base.Bool,(Base.and_int)((Base.eq_float)(x::Float64,fy::Float64)::Bool,(Base.lt_float)(fy::Float64,9.223372036854776e18)::Bool)),(Base.slt_int)((Base.box)(Int64,(Base.fptosi)(Int64,fy::Float64)),0)::Bool)))) goto 7 # line 4:\n",
      "      return 0\n",
      "      7:  # line 6:\n",
      "      return x::Float64\n",
      "  end::UNION{FLOAT64,INT64}\n"
     ]
    }
   ],
   "source": [
    "@code_warntype trunc(2.5)\n",
    "#@code_llvm length can hint at complexity and type-incorrectness\n",
    "#@code_native to see the assembly instructions"
   ]
  },
  {
   "cell_type": "code",
   "execution_count": 55,
   "metadata": {
    "collapsed": false
   },
   "outputs": [
    {
     "data": {
      "text/plain": [
       "sumsqrtn (generic function with 1 method)"
      ]
     },
     "execution_count": 55,
     "metadata": {},
     "output_type": "execute_result"
    }
   ],
   "source": [
    "#type-stability in loop functions, and not changing type during the loop\n",
    "function sumsqrtn(n)\n",
    "    r = 0\n",
    "    for i = 1:n\n",
    "        r = r + sqrt(i)\n",
    "    end\n",
    "    return r\n",
    "end\n",
    "#r starts as Int64 and then becomes Float64"
   ]
  },
  {
   "cell_type": "code",
   "execution_count": 56,
   "metadata": {
    "collapsed": false
   },
   "outputs": [
    {
     "name": "stdout",
     "output_type": "stream",
     "text": [
      "Variables:\n",
      "  #self#::#sumsqrtn\n",
      "  n::Int64\n",
      "  r::ANY\n",
      "  #temp#@_4::Int64\n",
      "  i::Int64\n",
      "  #temp#@_6::LambdaInfo\n",
      "  #temp#@_7::Float64\n",
      "\n",
      "Body:\n",
      "  begin \n",
      "      r::ANY = 0 # line 4:\n",
      "      SSAValue(2) = (Base.select_value)((Base.sle_int)(1,n::Int64)::Bool,n::Int64,(Base.box)(Int64,(Base.sub_int)(1,1)))::Int64\n",
      "      #temp#@_4::Int64 = 1\n",
      "      5: \n",
      "      unless (Base.box)(Base.Bool,(Base.not_int)((#temp#@_4::Int64 === (Base.box)(Int64,(Base.add_int)(SSAValue(2),1)))::Bool)) goto 30\n",
      "      SSAValue(3) = #temp#@_4::Int64\n",
      "      SSAValue(4) = (Base.box)(Int64,(Base.add_int)(#temp#@_4::Int64,1))\n",
      "      i::Int64 = SSAValue(3)\n",
      "      #temp#@_4::Int64 = SSAValue(4) # line 5:\n",
      "      unless (Core.isa)(r::UNION{FLOAT64,INT64},Float64)::ANY goto 15\n",
      "      #temp#@_6::LambdaInfo = LambdaInfo for +(::Float64, ::Float64)\n",
      "      goto 24\n",
      "      15: \n",
      "      unless (Core.isa)(r::UNION{FLOAT64,INT64},Int64)::ANY goto 19\n",
      "      #temp#@_6::LambdaInfo = LambdaInfo for +(::Int64, ::Float64)\n",
      "      goto 24\n",
      "      19: \n",
      "      goto 21\n",
      "      21: \n",
      "      #temp#@_7::Float64 = (r::UNION{FLOAT64,INT64} + (Base.Math.box)(Base.Math.Float64,(Base.Math.sqrt_llvm)((Base.box)(Float64,(Base.sitofp)(Float64,i::Int64))))::Float64)::Float64\n",
      "      goto 26\n",
      "      24: \n",
      "      #temp#@_7::Float64 = $(Expr(:invoke, :(#temp#@_6), :(Main.+), :(r::Union{Float64,Int64}), :((Base.Math.box)(Base.Math.Float64,(Base.Math.sqrt_llvm)((Base.box)(Float64,(Base.sitofp)(Float64,i))))::Float64)))\n",
      "      26: \n",
      "      r::ANY = #temp#@_7::Float64\n",
      "      28: \n",
      "      goto 5\n",
      "      30:  # line 7:\n",
      "      return r::UNION{FLOAT64,INT64}\n",
      "  end::UNION{FLOAT64,INT64}\n"
     ]
    }
   ],
   "source": [
    "#get @benchmark by using Pkg.clone(\"https://github.com/johnmyleswhite/Benchmarks.jl.git\") \n",
    "@code_warntype sumsqrtn(5)"
   ]
  },
  {
   "cell_type": "code",
   "execution_count": 57,
   "metadata": {
    "collapsed": false
   },
   "outputs": [
    {
     "data": {
      "text/plain": [
       "string_zeros (generic function with 1 method)"
      ]
     },
     "execution_count": 57,
     "metadata": {},
     "output_type": "execute_result"
    }
   ],
   "source": [
    "#Shitty string classifying function... thing?\n",
    "function string_zeros(s::AbstractString)\n",
    "    x = Array(s==\"Int64\"?Int64:Float64, 1_000_000)\n",
    "    for i in 1:length(x)\n",
    "        x[i] = 0\n",
    "    end\n",
    "    return x\n",
    "end\n",
    "#@benchmark string_zeros"
   ]
  },
  {
   "cell_type": "code",
   "execution_count": 58,
   "metadata": {
    "collapsed": false
   },
   "outputs": [
    {
     "data": {
      "text/plain": [
       "fill_zeros (generic function with 1 method)"
      ]
     },
     "execution_count": 58,
     "metadata": {},
     "output_type": "execute_result"
    }
   ],
   "source": [
    "#better way - separtae the type classification and the looping:\n",
    "function string_zeros_stable(s::AbstractString)\n",
    "    x = Array(s==\"Int64\"?Int64:Float64, 1_000_000)\n",
    "    return fill_zeros(x)\n",
    "end\n",
    "function fill_zeros(x)\n",
    "    for i in 1:length(x)\n",
    "        x[i] = 0\n",
    "    end\n",
    "    return x\n",
    "end\n",
    "#10x speed improvement from correcting type shittiness"
   ]
  },
  {
   "cell_type": "code",
   "execution_count": 60,
   "metadata": {
    "collapsed": false
   },
   "outputs": [
    {
     "data": {
      "text/plain": [
       "10-element Array{Number,1}:\n",
       "  1\n",
       "  2\n",
       "  3\n",
       "  4\n",
       "  5\n",
       "  6\n",
       "  7\n",
       "  8\n",
       "  9\n",
       " 10"
      ]
     },
     "execution_count": 60,
     "metadata": {},
     "output_type": "execute_result"
    }
   ],
   "source": [
    "#when storing data, you need to implement a concrete type\n",
    "a = Int64[1, 2, 3, 4, 5, 6, 7, 8, 9, 10]\n",
    "b = Number[1,2,3,4,5,6,7,8,9,10]"
   ]
  },
  {
   "cell_type": "code",
   "execution_count": 61,
   "metadata": {
    "collapsed": false
   },
   "outputs": [
    {
     "data": {
      "text/plain": [
       "arr_sumsqr (generic function with 1 method)"
      ]
     },
     "execution_count": 61,
     "metadata": {},
     "output_type": "execute_result"
    }
   ],
   "source": [
    "function arr_sumsqr{T <: Number}(x::Array{T})\n",
    "    r = zero(T)\n",
    "    for i = 1:length(x)\n",
    "        r = r + x[i] ^ 2\n",
    "    end\n",
    "    return r\n",
    "end\n",
    "#calling the int array is 10x faster than the number array because the type is specified\n",
    "#what about floats?\n",
    "#allegedly due to using \"number\" storing only pointers to the values in memory which messes up the speed "
   ]
  },
  {
   "cell_type": "code",
   "execution_count": 62,
   "metadata": {
    "collapsed": true
   },
   "outputs": [],
   "source": [
    "#composite types?\n",
    "immutable Point #bad\n",
    "    x\n",
    "    y\n",
    "end\n",
    "immutable ConcretePoint #good\n",
    "    x::Float64\n",
    "    y::Float64\n",
    "end\n",
    "#however, this loses flexibility - what if we wanted Float32 or Float16?\n",
    "#enter: parametric composites\n",
    "function ParametricPoint{T <: AbstractFloat}\n",
    "    x::T\n",
    "    y::T\n",
    "end"
   ]
  },
  {
   "cell_type": "markdown",
   "metadata": {},
   "source": [
    "## Functions and Macros"
   ]
  },
  {
   "cell_type": "markdown",
   "metadata": {},
   "source": [
    "#### In Julia, the function is the primary unit of a code structure. \n",
    "Idiomatic Julia code\n",
    "consists of many small functions that are defined with different types of arguments.\n",
    "In general, the overhead of a function call in Julia is very small, and, with type\n",
    "specialization, the compiled version of the function is very efficient. In this chapter,\n",
    "we will look at some of the techniques that Julia uses to make function calls very fast.\n",
    "We will also look at some limitations that are worth keeping in mind for the fastest\n",
    "code. Finally, we will look at some situations where moving code out of functions\n",
    "and into other structures, such as macros and staged functions, allows code to be\n",
    "faster and more efficient: <br>\n",
    "•  Using globals <br>\n",
    "•  Inlining <br>\n",
    "•  Closures and anonymous functions <br>\n",
    "•  Using macros for performance <br>\n",
    "•  Using generated functions <br>\n",
    "•  Using named parameters"
   ]
  },
  {
   "cell_type": "code",
   "execution_count": 106,
   "metadata": {
    "collapsed": false
   },
   "outputs": [
    {
     "name": "stderr",
     "output_type": "stream",
     "text": [
      "WARNING: Method definition pow_array(Array{Float64, "
     ]
    },
    {
     "ename": "LoadError",
     "evalue": "LoadError: UndefVarError: @benchmark not defined\nwhile loading In[106], in expression starting on line 11",
     "output_type": "error",
     "traceback": [
      "LoadError: UndefVarError: @benchmark not defined\nwhile loading In[106], in expression starting on line 11",
      ""
     ]
    },
    {
     "name": "stderr",
     "output_type": "stream",
     "text": [
      "1}) in module Main at In[64]:4 overwritten at In[106]:4.\n"
     ]
    }
   ],
   "source": [
    "#case against using global variables:\n",
    "p = 2\n",
    "function pow_array(x::Vector{Float64})\n",
    "    s = 0.0\n",
    "    for y in x\n",
    "        s = s + y^p\n",
    "    end\n",
    "    return s\n",
    "end\n",
    "t=rand(100000)\n",
    "@benchmark pow_array(t)"
   ]
  },
  {
   "cell_type": "code",
   "execution_count": 65,
   "metadata": {
    "collapsed": false
   },
   "outputs": [
    {
     "data": {
      "text/plain": [
       "100000-element Array{Float64,1}:\n",
       " 0.217476 \n",
       " 0.751278 \n",
       " 0.39579  \n",
       " 0.809247 \n",
       " 0.86508  \n",
       " 0.0675987\n",
       " 0.806126 \n",
       " 0.390359 \n",
       " 0.404186 \n",
       " 0.638529 \n",
       " 0.473985 \n",
       " 0.290488 \n",
       " 0.555576 \n",
       " ⋮        \n",
       " 0.829439 \n",
       " 0.562956 \n",
       " 0.649135 \n",
       " 0.936815 \n",
       " 0.739775 \n",
       " 0.276935 \n",
       " 0.0691017\n",
       " 0.154212 \n",
       " 0.226635 \n",
       " 0.940531 \n",
       " 0.0497168\n",
       " 0.417485 "
      ]
     },
     "execution_count": 65,
     "metadata": {},
     "output_type": "execute_result"
    }
   ],
   "source": [
    "#Fixing performance issues: call the global as a const\n",
    "const p2 = 2 # const allows for the value to change, but not the type. It is fixed as an Int64\n",
    "function pow_array2(x::Vector{Float64})\n",
    "    s = 0.0\n",
    "    for y in x\n",
    "        s = s + y^p2\n",
    "    end\n",
    "    return s\n",
    "end\n",
    "t=rand(100000)\n",
    "#@benchmark pow_array2(t)"
   ]
  },
  {
   "cell_type": "markdown",
   "metadata": {},
   "source": [
    "# Inlining"
   ]
  },
  {
   "cell_type": "code",
   "execution_count": 66,
   "metadata": {
    "collapsed": false
   },
   "outputs": [
    {
     "name": "stderr",
     "output_type": "stream",
     "text": [
      "WARNING: Method definition trunc(Any)"
     ]
    },
    {
     "data": {
      "text/plain": [
       "sqrt_sin (generic function with 1 method)"
      ]
     },
     "execution_count": 66,
     "metadata": {},
     "output_type": "execute_result"
    },
    {
     "name": "stderr",
     "output_type": "stream",
     "text": [
      " in module Main at In[43]:3 overwritten at In[66]:1.\n"
     ]
    }
   ],
   "source": [
    "trunc(x) = x < 0 ? zero(x) : x\n",
    "function sqrt_sin(x)\n",
    "    y = trunc(x)\n",
    "    return sin(sqrt(y)+1)\n",
    "end"
   ]
  },
  {
   "cell_type": "code",
   "execution_count": 67,
   "metadata": {
    "collapsed": false
   },
   "outputs": [
    {
     "data": {
      "text/plain": [
       "LambdaInfo for sqrt_sin(::Int64)\n",
       ":(begin \n",
       "        # meta: location In[66] trunc 1\n",
       "        unless (Base.slt_int)(x,0)::Bool goto 5\n",
       "        #temp# = 0\n",
       "        goto 7\n",
       "        5: \n",
       "        #temp# = x\n",
       "        7: \n",
       "        # meta: pop location\n",
       "        y = #temp# # line 4:\n",
       "        return $(Expr(:invoke, LambdaInfo for sin(::Float64), :(Main.sin), :((Base.box)(Base.Float64,(Base.add_float)((Base.Math.box)(Base.Math.Float64,(Base.Math.sqrt_llvm)((Base.box)(Float64,(Base.sitofp)(Float64,y))))::Float64,(Base.box)(Float64,(Base.sitofp)(Float64,1)))))))\n",
       "    end::Float64)"
      ]
     },
     "execution_count": 67,
     "metadata": {},
     "output_type": "execute_result"
    }
   ],
   "source": [
    "@code_typed sqrt_sin(1)"
   ]
  },
  {
   "cell_type": "code",
   "execution_count": 72,
   "metadata": {
    "collapsed": false
   },
   "outputs": [
    {
     "name": "stderr",
     "output_type": "stream",
     "text": [
      "WARNING: Method definition f(Any) in module Main at In[68]:2"
     ]
    },
    {
     "data": {
      "text/plain": [
       "g (generic function with 1 method)"
      ]
     },
     "execution_count": 72,
     "metadata": {},
     "output_type": "execute_result"
    },
    {
     "name": "stderr",
     "output_type": "stream",
     "text": [
      " overwritten at In[72]:2.\n"
     ]
    }
   ],
   "source": [
    "function f(x)\n",
    "    a=x*5\n",
    "    b=a+3\n",
    "    c=a-4\n",
    "    d=b/c\n",
    "end\n",
    "g(x) = f(2*x)"
   ]
  },
  {
   "cell_type": "code",
   "execution_count": 69,
   "metadata": {
    "collapsed": false
   },
   "outputs": [
    {
     "data": {
      "text/plain": [
       "f_inline (generic function with 1 method)"
      ]
     },
     "execution_count": 69,
     "metadata": {},
     "output_type": "execute_result"
    }
   ],
   "source": [
    "@inline function f_inline(x)\n",
    "    a=x*5\n",
    "    b=a+3\n",
    "    c=a-4\n",
    "    d=b/c\n",
    "end"
   ]
  },
  {
   "cell_type": "code",
   "execution_count": 70,
   "metadata": {
    "collapsed": false
   },
   "outputs": [
    {
     "data": {
      "text/plain": [
       "g_inline (generic function with 1 method)"
      ]
     },
     "execution_count": 70,
     "metadata": {},
     "output_type": "execute_result"
    }
   ],
   "source": [
    "g_inline(x) = f_inline(2*x)"
   ]
  },
  {
   "cell_type": "code",
   "execution_count": 71,
   "metadata": {
    "collapsed": false
   },
   "outputs": [
    {
     "name": "stdout",
     "output_type": "stream",
     "text": [
      "\n",
      "; Function Attrs: uwtable\n",
      "define double @julia_g_inline_73022(i64) #0 {\n",
      "top:\n",
      "  %1 = mul i64 %0, 10\n",
      "  %2 = add i64 %1, 3\n",
      "  %3 = add i64 %1, -4\n",
      "  %4 = sitofp i64 %2 to double\n",
      "  %5 = sitofp i64 %3 to double\n",
      "  %6 = fdiv double %4, %5\n",
      "  ret double %6\n",
      "}\n"
     ]
    }
   ],
   "source": [
    " @code_llvm g_inline(3)\n"
   ]
  },
  {
   "cell_type": "code",
   "execution_count": 73,
   "metadata": {
    "collapsed": false
   },
   "outputs": [
    {
     "ename": "LoadError",
     "evalue": "LoadError: expression is not a function call, or is too complex for @code_llvm to analyze; break it down to simpler parts if possible\nwhile loading In[73], in expression starting on line 1",
     "output_type": "error",
     "traceback": [
      "LoadError: expression is not a function call, or is too complex for @code_llvm to analyze; break it down to simpler parts if possible\nwhile loading In[73], in expression starting on line 1",
      "",
      " in error(::String) at .\\error.jl:21"
     ]
    }
   ],
   "source": [
    "@code_llvm g_inline(3)#command line -inline=no can be helpful for debugging but makes code much slower\n"
   ]
  },
  {
   "cell_type": "markdown",
   "metadata": {},
   "source": [
    "# Macros vs Functions:\n",
    "### Functions compile and then run at runtime, but macros can do some calculations when they are compiled, further speeding up the operation at runtime\n",
    "#### A macro is a code that can be used to write Julia code [p59]\n"
   ]
  },
  {
   "cell_type": "code",
   "execution_count": 107,
   "metadata": {
    "collapsed": false
   },
   "outputs": [
    {
     "name": "stderr",
     "output_type": "stream",
     "text": [
      "WARNING: Method definition poly_naive"
     ]
    },
    {
     "ename": "LoadError",
     "evalue": "LoadError: UndefVarError: @benchmark not defined\nwhile loading In[107], in expression starting on line 13",
     "output_type": "error",
     "traceback": [
      "LoadError: UndefVarError: @benchmark not defined\nwhile loading In[107], in expression starting on line 13",
      ""
     ]
    },
    {
     "name": "stderr",
     "output_type": "stream",
     "text": [
      "(Any, Any...) in module Main at In[75]:3 overwritten at In[107]:3.\n",
      "WARNING: Method definition f_naive(Any) in module Main at In[75]:9 overwritten at In[107]:9.\n"
     ]
    }
   ],
   "source": [
    "#naive and simple implementation for generating a power series:\n",
    "function poly_naive(x, a...)\n",
    "    p=zero(x)\n",
    "    for i = 1:length(a)\n",
    "        p = p + a[i] * x^(i-1)\n",
    "    end\n",
    "    return p\n",
    "end\n",
    "f_naive(x) = poly_naive(x, 1,2,3,4,5)\n",
    "f_naive(3.5)\n",
    "#takes 160 ns, which might sound fast, but a 2.4ghz processor can perform 10,000 calculations in that time.\n",
    "#floating-point exponentiation is slow, so can we speed it up?\n",
    "@benchmark f_naive(3.5)"
   ]
  },
  {
   "cell_type": "code",
   "execution_count": 77,
   "metadata": {
    "collapsed": false
   },
   "outputs": [
    {
     "name": "stderr",
     "output_type": "stream",
     "text": [
      "WARNING: Method definition poly_horner(Any, Any..."
     ]
    },
    {
     "data": {
      "text/plain": [
       "966.5625"
      ]
     },
     "execution_count": 77,
     "metadata": {},
     "output_type": "execute_result"
    },
    {
     "name": "stderr",
     "output_type": "stream",
     "text": [
      ") in module Main at In[76]:3 overwritten at In[77]:3.\n"
     ]
    }
   ],
   "source": [
    "#horner's method exchanges exponentiation for a series of multiplication\n",
    "#offers a 4x improvement in speed over exponentiation\n",
    "function poly_horner(x, a...)\n",
    "    b=zero(x)\n",
    "    for i = length(a):-1:1\n",
    "    b = a[i] + b * x\n",
    "    end\n",
    "    return b\n",
    "end\n",
    "f_horner(x) = poly_horner(x, 1,2,3,4,5)\n",
    "f_horner(3.5)\n",
    "#@benchmark f_horner(3.5)"
   ]
  },
  {
   "cell_type": "code",
   "execution_count": null,
   "metadata": {
    "collapsed": true
   },
   "outputs": [],
   "source": [
    "#can it be made better with macros?\n",
    "#horner macro\n",
    "# because the values of the polynomials are constant (1,2,3,..) they can be expressed like this:\n",
    "# muladd(x,muladd(x,muladd(x,muladd(x,5,4),3),2),1)\n",
    "# but that is tedious for every polynomial we might want.\n",
    "# this gives a 10x improvement over using horner's method\n",
    "macro horner(x, p...)\n",
    "    ex = esc(p[end])\n",
    "    for i = length(p)-1:-1:1\n",
    "        ex = :(muladd(t, $ex, $(esc(p[i]))))\n",
    "    end\n",
    "    Expr(:block, :(t = $(esc(x))), ex)\n",
    "end\n",
    "f_horner_macro(x) = @horner(x, 1,2,3,4,5)\n",
    "f_horner_macro(3.5)\n",
    "#@benchmark f_horner_macro(3.5)\n"
   ]
  },
  {
   "cell_type": "markdown",
   "metadata": {},
   "source": [
    "# Generated Functions\n",
    "\n",
    "Macros run very early in the compilers process when there is no information about\n",
    "how the program might execute. The inputs to a macro are, therefore, simply symbols\n",
    "and expressions—the textual tokens that make up a program. Given that a lot of\n",
    "Julia's powers come from its type system, it may be useful to have something such\n",
    "as macros—code that generates code—at a point where the compiler has inferred the\n",
    "types of the variables and function arguments in the program. Generated functions\n",
    "(also sometimes called staged functions) fulfill this need"
   ]
  },
  {
   "cell_type": "code",
   "execution_count": 81,
   "metadata": {
    "collapsed": false
   },
   "outputs": [
    {
     "data": {
      "text/plain": [
       "250"
      ]
     },
     "execution_count": 81,
     "metadata": {},
     "output_type": "execute_result"
    }
   ],
   "source": [
    "#example: find the No. of cellscells in a matrix\n",
    "function prod_dim{T, N}(x::Array{T, N})\n",
    "    s = 1\n",
    "    for i = 1:N\n",
    "        s = s * size(x, i)\n",
    "    end\n",
    "    return s\n",
    "end\n",
    "prod_dim(rand(10,5,5))"
   ]
  },
  {
   "cell_type": "code",
   "execution_count": 82,
   "metadata": {
    "collapsed": false
   },
   "outputs": [
    {
     "data": {
      "text/plain": [
       "250"
      ]
     },
     "execution_count": 82,
     "metadata": {},
     "output_type": "execute_result"
    }
   ],
   "source": [
    "@generated function prod_dim_gen_impl{T, N}(x::Array{T, N})\n",
    "    ex = :(1)\n",
    "    for i = 1:N\n",
    "        ex = :(size(x, $i) * $ex)\n",
    "    end\n",
    "    return ex\n",
    "end\n",
    "prod_dim_gen_impl(rand(10,5,5))\n",
    "# This code performs what is known as loop unrolling, which removes loops and replaces them with calculations.\n",
    "# for the sweet sweet performance gains"
   ]
  },
  {
   "cell_type": "markdown",
   "metadata": {},
   "source": [
    "# Named parameters and how they make your code suck"
   ]
  },
  {
   "cell_type": "code",
   "execution_count": 85,
   "metadata": {
    "collapsed": false
   },
   "outputs": [
    {
     "name": "stdout",
     "output_type": "stream",
     "text": [
      "  0.021307 seconds (100.00 k allocations: 10.681 MB, 17.32% gc time)\n",
      "  0.001298 seconds\n"
     ]
    },
    {
     "name": "stderr",
     "output_type": "stream",
     "text": [
      "WARNING: Method definition named_param(Any) in module Main at In[84]:1 overwritten at In[85]:1.\n",
      "WARNING: Method definition #named_param(Array{Any, 1}, Main.#named_param, Any) in module Main overwritten.\n",
      "WARNING: Method definition pos_param(Any, Any, Any) in module Main at In[84]:2 overwritten at In[85]:2.\n"
     ]
    }
   ],
   "source": [
    "named_param(x; y=1, z=1) = x^y + x^z\n",
    "pos_param(x,y,z) = x^y + x^z\n",
    "@time for i in 1:100000;named_param(4; y=2, z=3);end\n",
    "@time for i in 1:100000;pos_param(4, 2, 3);end"
   ]
  },
  {
   "cell_type": "markdown",
   "metadata": {},
   "source": [
    "# Fast Numbers in Julia"
   ]
  },
  {
   "cell_type": "code",
   "execution_count": 86,
   "metadata": {
    "collapsed": false
   },
   "outputs": [
    {
     "data": {
      "text/plain": [
       "true"
      ]
     },
     "execution_count": 86,
     "metadata": {},
     "output_type": "execute_result"
    }
   ],
   "source": [
    "isbits(Int64)"
   ]
  },
  {
   "cell_type": "code",
   "execution_count": 88,
   "metadata": {
    "collapsed": false
   },
   "outputs": [
    {
     "data": {
      "text/plain": [
       "false"
      ]
     },
     "execution_count": 88,
     "metadata": {},
     "output_type": "execute_result"
    }
   ],
   "source": [
    "isbits(String)"
   ]
  },
  {
   "cell_type": "code",
   "execution_count": 90,
   "metadata": {
    "collapsed": false
   },
   "outputs": [
    {
     "name": "stdout",
     "output_type": "stream",
     "text": [
      "\t.text\n",
      "Filename: In[90]\n",
      "\tpushq\t%rbp\n",
      "\tmovq\t%rsp, %rbp\n",
      "Source line: 1\n",
      "\tleaq\t(%rcx,%rdx), %rax\n",
      "\tpopq\t%rbp\n",
      "\tretq\n",
      "\tnopw\t(%rax,%rax)\n"
     ]
    },
    {
     "name": "stderr",
     "output_type": "stream",
     "text": [
      "WARNING: Method definition myadd(Any, Any) in module Main at In[89]:1 overwritten at In[90]:1.\n"
     ]
    }
   ],
   "source": [
    "myadd(x, y) = x + y\n",
    "@code_native myadd(1,2)"
   ]
  },
  {
   "cell_type": "code",
   "execution_count": 93,
   "metadata": {
    "collapsed": false
   },
   "outputs": [
    {
     "data": {
      "text/plain": [
       "18446744073709551616"
      ]
     },
     "execution_count": 93,
     "metadata": {},
     "output_type": "execute_result"
    }
   ],
   "source": [
    "big(2)^64 # allows for numbers larger than the normal amount, however they are much slower than int64"
   ]
  },
  {
   "cell_type": "code",
   "execution_count": 94,
   "metadata": {
    "collapsed": false
   },
   "outputs": [
    {
     "data": {
      "text/plain": [
       "sum_diff_fast (generic function with 1 method)"
      ]
     },
     "execution_count": 94,
     "metadata": {},
     "output_type": "execute_result"
    }
   ],
   "source": [
    "function sum_diff(x)\n",
    "    n = length(x); d = 1/(n-1)\n",
    "    s = zero(eltype(x))\n",
    "    s = s + (x[2] - x[1]) / d\n",
    "    for i = 2:length(x)-1\n",
    "        s = s + (x[i+1] - x[i+1]) / (2*d)\n",
    "    end\n",
    "    s = s + (x[n] - x[n-1])/d\n",
    "end\n",
    "function sum_diff_fast(x)\n",
    "    n=length(x); d = 1/(n-1)\n",
    "    s = zero(eltype(x))\n",
    "    @fastmath s = s + (x[2] - x[1]) / d\n",
    "    @fastmath for i = 2:n-1\n",
    "        s = s + (x[i+1] - x[i+1]) / (2*d)\n",
    "    end\n",
    "    @fastmath s = s + (x[n] - x[n-1])/d\n",
    "end\n",
    "#fastmath ~ 2.5x faster than normal one"
   ]
  },
  {
   "cell_type": "code",
   "execution_count": 95,
   "metadata": {
    "collapsed": false
   },
   "outputs": [
    {
     "data": {
      "text/plain": [
       "-0.20768628854369808"
      ]
     },
     "execution_count": 95,
     "metadata": {},
     "output_type": "execute_result"
    }
   ],
   "source": [
    "t=rand(2000);\n",
    "sum_diff(t)"
   ]
  },
  {
   "cell_type": "code",
   "execution_count": 96,
   "metadata": {
    "collapsed": false
   },
   "outputs": [
    {
     "data": {
      "text/plain": [
       "-0.20768628854366344"
      ]
     },
     "execution_count": 96,
     "metadata": {},
     "output_type": "execute_result"
    }
   ],
   "source": [
    "sum_diff_fast(t)"
   ]
  },
  {
   "cell_type": "code",
   "execution_count": 97,
   "metadata": {
    "collapsed": false
   },
   "outputs": [
    {
     "data": {
      "text/plain": [
       "0.0"
      ]
     },
     "execution_count": 97,
     "metadata": {},
     "output_type": "execute_result"
    }
   ],
   "source": [
    "sum([1 1e-100 -1])"
   ]
  },
  {
   "cell_type": "code",
   "execution_count": 99,
   "metadata": {
    "collapsed": false
   },
   "outputs": [
    {
     "data": {
      "text/plain": [
       "1.0e-100"
      ]
     },
     "execution_count": 99,
     "metadata": {},
     "output_type": "execute_result"
    }
   ],
   "source": [
    "sum_kbn([1 1e-100 -1])"
   ]
  },
  {
   "cell_type": "code",
   "execution_count": 100,
   "metadata": {
    "collapsed": false
   },
   "outputs": [
    {
     "data": {
      "text/plain": [
       "false"
      ]
     },
     "execution_count": 100,
     "metadata": {},
     "output_type": "execute_result"
    }
   ],
   "source": [
    "issubnormal(1.0)"
   ]
  },
  {
   "cell_type": "code",
   "execution_count": 101,
   "metadata": {
    "collapsed": false
   },
   "outputs": [
    {
     "data": {
      "text/plain": [
       "true"
      ]
     },
     "execution_count": 101,
     "metadata": {},
     "output_type": "execute_result"
    }
   ],
   "source": [
    "issubnormal(1e-308)"
   ]
  },
  {
   "cell_type": "code",
   "execution_count": 102,
   "metadata": {
    "collapsed": true
   },
   "outputs": [],
   "source": [
    "#subnormal numbers cause a significant slowdown, sometimes by up to 100x\n",
    "#set_zero_subnormals(true)"
   ]
  },
  {
   "cell_type": "code",
   "execution_count": 105,
   "metadata": {
    "collapsed": false
   },
   "outputs": [
    {
     "name": "stderr",
     "output_type": "stream",
     "text": [
      "INFO: Precompiling module Cairo.\n"
     ]
    },
    {
     "ename": "LoadError",
     "evalue": "LoadError: UndefVarError: ˆ2 not defined\nwhile loading In[105], in expression starting on line 13",
     "output_type": "error",
     "traceback": [
      "LoadError: UndefVarError: ˆ2 not defined\nwhile loading In[105], in expression starting on line 13",
      "",
      " in f(::Float64, ::Array{Float64,1}) at .\\In[105]:7",
      " in hinit(::#f, ::Array{Float64,1}, ::Float64, ::Float64, ::Int64, ::Float64, ::Float64) at C:\\Users\\Neal\\.julia\\v0.5\\ODE\\src\\ODE.jl:70",
      " in #ode23s#13(::Float64, ::Float64, ::Void, ::Symbol, ::Base.LinAlg.#norm, ::Float64, ::Float64, ::Float64, ::ODE.#ode23s, ::#f, ::Array{Float64,1}, ::Array{Float64,1}) at C:\\Users\\Neal\\.julia\\v0.5\\ODE\\src\\ODE.jl:259",
      " in ode23s(::Function, ::Array{Float64,1}, ::Array{Float64,1}) at C:\\Users\\Neal\\.julia\\v0.5\\ODE\\src\\ODE.jl:239"
     ]
    }
   ],
   "source": [
    "using ODE\n",
    "using Winston\n",
    "function f(t, y)\n",
    "    mu = 2.5\n",
    "    ydot = similar(y)\n",
    "    ydot[1] = y[2]\n",
    "    ydot[2] = mu*(1-y[1]ˆ2)*y[2]-y[1]\n",
    "    ydot\n",
    "end\n",
    "\n",
    "t = [0:.1:10.0;]\n",
    "y0 = [1.0, 3.0]\n",
    "t,y=ODE.ode23s(f, y0, t)\n",
    "y1 = [ a[1] for a in y] # Rearranging the output,\n",
    "y2 = [ a[2] for a in y] # more convenient\n",
    "plot(float(y1),float(y2))"
   ]
  },
  {
   "cell_type": "code",
   "execution_count": null,
   "metadata": {
    "collapsed": true
   },
   "outputs": [],
   "source": []
  }
 ],
 "metadata": {
  "anaconda-cloud": {},
  "kernelspec": {
   "display_name": "Julia 0.5.0",
   "language": "julia",
   "name": "julia-0.5"
  },
  "language_info": {
   "file_extension": ".jl",
   "mimetype": "application/julia",
   "name": "julia",
   "version": "0.5.0"
  }
 },
 "nbformat": 4,
 "nbformat_minor": 0
}
