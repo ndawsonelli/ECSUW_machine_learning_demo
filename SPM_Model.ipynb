{
 "cells": [
  {
   "cell_type": "markdown",
   "metadata": {},
   "source": [
    "# Import the Data and Split Into Test and Training Sets"
   ]
  },
  {
   "cell_type": "code",
   "execution_count": 1,
   "metadata": {
    "collapsed": false
   },
   "outputs": [
    {
     "name": "stdout",
     "output_type": "stream",
     "text": [
      "done\n",
      "406\n"
     ]
    }
   ],
   "source": [
    "import os\n",
    "import numpy as np\n",
    "import pandas as pd\n",
    "import time\n",
    "import matplotlib.pyplot as plt\n",
    "import random\n",
    "\n",
    "%matplotlib inline\n",
    "\n",
    "n_mult=1\n",
    "noise_level=.05\n",
    "\n",
    "directory= './Data/Local Sensitivity/'\n",
    "# directory= './Data/Local Sensitivity Expanded/'\n",
    "# directory = './Data/Global Sensitivity/'\n",
    "runs = []\n",
    "for filename in os.listdir(directory):\n",
    "    if filename.startswith('gen'):\n",
    "        run = int(filename.split('_')[2].split('.')[0])\n",
    "        runs.append(run)\n",
    "       \n",
    "count=0\n",
    "\n",
    "# set up the Pandas Dataframes\n",
    "volts=pd.DataFrame(columns=range(255),dtype=np.float64)\n",
    "times=pd.DataFrame(columns=range(255),dtype=np.float64)\n",
    "vals=pd.DataFrame(columns=range(41),dtype=np.float64)\n",
    "temp1=[]\n",
    "temp2=[]\n",
    "temp3=[]\n",
    "names=[]\n",
    "count=0\n",
    "# Iterate through the files\n",
    "for run in sorted(runs):\n",
    "    count=count+1\n",
    "    if True:\n",
    "        filename = '/gen_data_' + str(run) + '.csv'\n",
    "        data = pd.read_csv(directory + filename, sep=',')\n",
    "        temp1=[]\n",
    "        temp2=[]\n",
    "        temp3=[]\n",
    "        # parse the data\n",
    "        for column in data.columns:\n",
    "            if column.find('olts')>0:\n",
    "                temp1=np.concatenate((temp1,data[column].tolist()))\n",
    "            if column.find('ime')>0:\n",
    "                temp3=np.concatenate((temp3,data[column].tolist()))\n",
    "            if column.find('olts') + column.find('urrent') + column.find('ime') < -2:\n",
    "                if data[column][0]!=0:\n",
    "                    temp2.append(data[column][0])\n",
    "        volts.loc[run,:]=temp1\n",
    "        vals.loc[run,:]=temp2\n",
    "        times.loc[run,:]=temp3\n",
    "\n",
    "\n",
    "for column in data.columns:\n",
    "    if column.find('olts') + column.find('urrent') + column.find('ime') < -2:\n",
    "        if data[column][0]!=0:\n",
    "            names.append(column) \n",
    "\n",
    "# Split the data into 'test' and 'training' sets\n",
    "train = sorted(random.sample(range(volts.shape[0]), int(volts.shape[0]*(3.0/4))))\n",
    "test = [x for x in range(volts.shape[0]) if x not in train]\n",
    "P=vals\n",
    "P_mean = P.mean()\n",
    "P_std = P.std()\n",
    "\n",
    "# Normalize the data\n",
    "P = (P - P.mean())/P.std()\n",
    "\n",
    "times_train=times.iloc[train,:]\n",
    "Z_train = volts.iloc[train,:]\n",
    "P_train = P.iloc[train,:]\n",
    "\n",
    "times_test = times.iloc[test,:]\n",
    "Z_test = volts.iloc[test,:]\n",
    "P_test = P.iloc[test,:]\n",
    "\n",
    "X_train = pd.DataFrame()\n",
    "Y_train = pd.DataFrame()\n",
    "\n",
    "X_train_noise = pd.DataFrame()\n",
    "X_test_noise = pd.DataFrame()\n",
    "\n",
    "X_test = pd.DataFrame()\n",
    "Y_test = pd.DataFrame()\n",
    "\n",
    "# Add noise and possibly duplicate\n",
    "for _ in range(n_mult):\n",
    "                      \n",
    "    X_test_noise = pd.concat((X_test, Z_test + np.random.randn(Z_test.shape[0],Z_test.shape[1])*noise_level))\n",
    "    X_train_noise = pd.concat((X_train, Z_train + np.random.randn(Z_train.shape[0],Z_train.shape[1])*noise_level))\n",
    "    \n",
    "    Y_train = pd.concat((Y_train, P_train))\n",
    "    X_train = pd.concat((X_train, Z_train))\n",
    "    \n",
    "    X_test = pd.concat((X_test, Z_test))  \n",
    "    Y_test = pd.concat((Y_test, P_test))\n",
    "\n",
    "times_train=np.array(times_train)    \n",
    "X_train_noise = np.array(X_train_noise)\n",
    "X_train = np.array(X_train)\n",
    "Y_train = np.array(Y_train)\n",
    "\n",
    "\n",
    "times_test=np.array(times_test)\n",
    "X_test_noise = np.array(X_test_noise)\n",
    "X_test = np.array(X_test)\n",
    "Y_test = np.array(Y_test)\n",
    "\n",
    "\n",
    "YY_train = Y_train\n",
    "XX_train = X_train\n",
    "print('done')\n",
    "\n",
    "X_full = np.array(volts)\n",
    "Y_full = np.array(vals)\n",
    "print(count)"
   ]
  },
  {
   "cell_type": "code",
   "execution_count": 6,
   "metadata": {
    "collapsed": false
   },
   "outputs": [
    {
     "data": {
      "image/png": "[encoded data removed]",
      "text/plain": [
       "<matplotlib.figure.Figure at 0x114629b0>"
      ]
     },
     "metadata": {},
     "output_type": "display_data"
    }
   ],
   "source": [
    "y_1=[]\n",
    "for i in range(153,204):\n",
    "    y_1.append(i)\n",
    "for i in range(len(X_train)):\n",
    "    plt.plot(y_1,X_train[i][153:204])\n",
    "#     plt.plot(y_1,X_train_noise[i][153:204])\n",
    "\n",
    "plt.xlim(153,204)\n",
    "plt.show()"
   ]
  },
  {
   "cell_type": "code",
   "execution_count": 3,
   "metadata": {
    "collapsed": false
   },
   "outputs": [],
   "source": []
  },
  {
   "cell_type": "code",
   "execution_count": 3,
   "metadata": {
    "collapsed": false
   },
   "outputs": [
    {
     "name": "stdout",
     "output_type": "stream",
     "text": [
      "extra trees\n",
      "--- 1.93300008774 seconds ---\n",
      "('Test:', -0.029824631334624721, 'Train:', 0.40403803326737925)\n",
      "KNN\n",
      "--- 0.00600004196167 seconds ---\n",
      "('Test:', -0.054099643045576185, 'Train:', 0.38534461932930886)\n",
      "linear\n",
      "--- 0.0410001277924 seconds ---\n",
      "('Test:', -1.196990877980613e+25, 'Train:', 0.38294227960452765)\n"
     ]
    }
   ],
   "source": [
    "# Running different Regression methods\n",
    "from sklearn.ensemble import ExtraTreesRegressor\n",
    "from sklearn.neighbors import KNeighborsRegressor\n",
    "from sklearn import linear_model\n",
    "\n",
    "import time\n",
    "print(\"extra trees\")\n",
    "start_time = time.time()\n",
    "etr = ExtraTreesRegressor(n_estimators=200, n_jobs=-1,max_depth=22)\n",
    "etr.fit(X_train,Y_train)\n",
    "print(\"--- %s seconds ---\" % (time.time() - start_time))\n",
    "print('Test:', etr.score(X_test,Y_test), 'Train:', etr.score(X_train,Y_train))\n",
    "start_time = time.time()\n",
    "\n",
    "print(\"KNN\")\n",
    "start_time = time.time()\n",
    "knn = KNeighborsRegressor(n_neighbors=40,weights = 'distance')\n",
    "knn.fit(X_train,Y_train)\n",
    "print(\"--- %s seconds ---\" % (time.time() - start_time))\n",
    "print('Test:', knn.score(X_test,Y_test), 'Train:', knn.score(X_train,Y_train))\n",
    "\n",
    "print(\"linear\")\n",
    "start_time = time.time()\n",
    "lin = linear_model.LinearRegression()\n",
    "lin.fit(X_train,Y_train)\n",
    "print(\"--- %s seconds ---\" % (time.time() - start_time))\n",
    "print('Test:', lin.score(X_test,Y_test), 'Train:', lin.score(X_train,Y_train))\n"
   ]
  },
  {
   "cell_type": "code",
   "execution_count": 5,
   "metadata": {
    "collapsed": false
   },
   "outputs": [
    {
     "name": "stdout",
     "output_type": "stream",
     "text": [
      "Automatically created module for IPython interactive environment\n",
      "# Tuning hyper-parameters for precision\n",
      "\n",
      "Best parameters set found on development set:\n",
      "\n",
      "{'kernel': 'rbf', 'C': 10, 'gamma': 0.001}\n",
      "\n",
      "Grid scores on development set:\n",
      "\n",
      "0.986 (+/-0.016) for {'kernel': 'rbf', 'C': 1, 'gamma': 0.001}\n",
      "0.959 (+/-0.029) for {'kernel': 'rbf', 'C': 1, 'gamma': 0.0001}\n",
      "0.988 (+/-0.017) for {'kernel': 'rbf', 'C': 10, 'gamma': 0.001}\n",
      "0.982 (+/-0.026) for {'kernel': 'rbf', 'C': 10, 'gamma': 0.0001}\n",
      "0.988 (+/-0.017) for {'kernel': 'rbf', 'C': 100, 'gamma': 0.001}\n",
      "0.982 (+/-0.025) for {'kernel': 'rbf', 'C': 100, 'gamma': 0.0001}\n",
      "0.988 (+/-0.017) for {'kernel': 'rbf', 'C': 1000, 'gamma': 0.001}\n",
      "0.982 (+/-0.025) for {'kernel': 'rbf', 'C': 1000, 'gamma': 0.0001}\n",
      "0.975 (+/-0.014) for {'kernel': 'linear', 'C': 1}\n",
      "0.975 (+/-0.014) for {'kernel': 'linear', 'C': 10}\n",
      "0.975 (+/-0.014) for {'kernel': 'linear', 'C': 100}\n",
      "0.975 (+/-0.014) for {'kernel': 'linear', 'C': 1000}\n",
      "\n",
      "Detailed classification report:\n",
      "\n",
      "The model is trained on the full development set.\n",
      "The scores are computed on the full evaluation set.\n",
      "\n",
      "             precision    recall  f1-score   support\n",
      "\n",
      "          0       1.00      1.00      1.00        89\n",
      "          1       0.97      1.00      0.98        90\n",
      "          2       0.99      0.98      0.98        92\n",
      "          3       1.00      0.99      0.99        93\n",
      "          4       1.00      1.00      1.00        76\n",
      "          5       0.99      0.98      0.99       108\n",
      "          6       0.99      1.00      0.99        89\n",
      "          7       0.99      1.00      0.99        78\n",
      "          8       1.00      0.98      0.99        92\n",
      "          9       0.99      0.99      0.99        92\n",
      "\n",
      "avg / total       0.99      0.99      0.99       899\n",
      "\n",
      "\n",
      "# Tuning hyper-parameters for recall\n",
      "\n",
      "Best parameters set found on development set:\n",
      "\n",
      "{'kernel': 'rbf', 'C': 10, 'gamma': 0.001}\n",
      "\n",
      "Grid scores on development set:\n",
      "\n",
      "0.986 (+/-0.019) for {'kernel': 'rbf', 'C': 1, 'gamma': 0.001}\n",
      "0.957 (+/-0.029) for {'kernel': 'rbf', 'C': 1, 'gamma': 0.0001}\n",
      "0.987 (+/-0.019) for {'kernel': 'rbf', 'C': 10, 'gamma': 0.001}\n",
      "0.981 (+/-0.028) for {'kernel': 'rbf', 'C': 10, 'gamma': 0.0001}\n",
      "0.987 (+/-0.019) for {'kernel': 'rbf', 'C': 100, 'gamma': 0.001}\n",
      "0.981 (+/-0.026) for {'kernel': 'rbf', 'C': 100, 'gamma': 0.0001}\n",
      "0.987 (+/-0.019) for {'kernel': 'rbf', 'C': 1000, 'gamma': 0.001}\n",
      "0.981 (+/-0.026) for {'kernel': 'rbf', 'C': 1000, 'gamma': 0.0001}\n",
      "0.972 (+/-0.012) for {'kernel': 'linear', 'C': 1}\n",
      "0.972 (+/-0.012) for {'kernel': 'linear', 'C': 10}\n",
      "0.972 (+/-0.012) for {'kernel': 'linear', 'C': 100}\n",
      "0.972 (+/-0.012) for {'kernel': 'linear', 'C': 1000}\n",
      "\n",
      "Detailed classification report:\n",
      "\n",
      "The model is trained on the full development set.\n",
      "The scores are computed on the full evaluation set.\n",
      "\n",
      "             precision    recall  f1-score   support\n",
      "\n",
      "          0       1.00      1.00      1.00        89\n",
      "          1       0.97      1.00      0.98        90\n",
      "          2       0.99      0.98      0.98        92\n",
      "          3       1.00      0.99      0.99        93\n",
      "          4       1.00      1.00      1.00        76\n",
      "          5       0.99      0.98      0.99       108\n",
      "          6       0.99      1.00      0.99        89\n",
      "          7       0.99      1.00      0.99        78\n",
      "          8       1.00      0.98      0.99        92\n",
      "          9       0.99      0.99      0.99        92\n",
      "\n",
      "avg / total       0.99      0.99      0.99       899\n",
      "\n",
      "\n"
     ]
    }
   ],
   "source": [
    "from __future__ import print_function\n",
    "\n",
    "from sklearn import datasets\n",
    "from sklearn.model_selection import train_test_split\n",
    "from sklearn.model_selection import GridSearchCV\n",
    "from sklearn.metrics import classification_report\n",
    "from sklearn.svm import SVC\n",
    "\n",
    "print(__doc__)\n",
    "\n",
    "# Loading the Digits dataset\n",
    "digits = datasets.load_digits()\n",
    "\n",
    "# To apply an classifier on this data, we need to flatten the image, to\n",
    "# turn the data in a (samples, feature) matrix:\n",
    "n_samples = len(digits.images)\n",
    "X = digits.images.reshape((n_samples, -1))\n",
    "y = digits.target\n",
    "\n",
    "# Split the dataset in two equal parts\n",
    "X_train, X_test, y_train, y_test = train_test_split(\n",
    "    X, y, test_size=0.5, random_state=0)\n",
    "\n",
    "# Set the parameters by cross-validation\n",
    "tuned_parameters = [{'kernel': ['rbf'], 'gamma': [1e-3, 1e-4],\n",
    "                     'C': [1, 10, 100, 1000]},\n",
    "                    {'kernel': ['linear'], 'C': [1, 10, 100, 1000]}]\n",
    "\n",
    "scores = ['precision', 'recall']\n",
    "\n",
    "for score in scores:\n",
    "    print(\"# Tuning hyper-parameters for %s\" % score)\n",
    "    print()\n",
    "\n",
    "    clf = GridSearchCV(SVC(C=1), tuned_parameters, cv=5,\n",
    "                       scoring='%s_macro' % score)\n",
    "    clf.fit(X_train, y_train)\n",
    "\n",
    "    print(\"Best parameters set found on development set:\")\n",
    "    print()\n",
    "    print(clf.best_params_)\n",
    "    print()\n",
    "    print(\"Grid scores on development set:\")\n",
    "    print()\n",
    "    means = clf.cv_results_['mean_test_score']\n",
    "    stds = clf.cv_results_['std_test_score']\n",
    "    for mean, std, params in zip(means, stds, clf.cv_results_['params']):\n",
    "        print(\"%0.3f (+/-%0.03f) for %r\"\n",
    "              % (mean, std * 2, params))\n",
    "    print()\n",
    "\n",
    "    print(\"Detailed classification report:\")\n",
    "    print()\n",
    "    print(\"The model is trained on the full development set.\")\n",
    "    print(\"The scores are computed on the full evaluation set.\")\n",
    "    print()\n",
    "    y_true, y_pred = y_test, clf.predict(X_test)\n",
    "    print(classification_report(y_true, y_pred))\n",
    "    print()\n",
    "\n",
    "# Note the problem is too easy: the hyperparameter plateau is too flat and the\n",
    "# output model is the same for precision and recall with ties in quality."
   ]
  },
  {
   "cell_type": "markdown",
   "metadata": {},
   "source": [
    "### Learn about Hyperparameters"
   ]
  },
  {
   "cell_type": "code",
   "execution_count": 5,
   "metadata": {
    "collapsed": false
   },
   "outputs": [
    {
     "data": {
      "text/plain": [
       "{'bootstrap': False,\n",
       " 'criterion': 'mse',\n",
       " 'max_depth': 22,\n",
       " 'max_features': 'auto',\n",
       " 'max_leaf_nodes': None,\n",
       " 'min_samples_leaf': 1,\n",
       " 'min_samples_split': 2,\n",
       " 'min_weight_fraction_leaf': 0.0,\n",
       " 'n_estimators': 200,\n",
       " 'n_jobs': -1,\n",
       " 'oob_score': False,\n",
       " 'random_state': None,\n",
       " 'verbose': 0,\n",
       " 'warm_start': False}"
      ]
     },
     "execution_count": 5,
     "metadata": {},
     "output_type": "execute_result"
    }
   ],
   "source": [
    "#list hyperparameters\n",
    "etr.get_params()"
   ]
  },
  {
   "cell_type": "markdown",
   "metadata": {},
   "source": [
    "# Visualizing the Data\n",
    "## How do the different types of algorithms compare?"
   ]
  },
  {
   "cell_type": "code",
   "execution_count": 4,
   "metadata": {
    "collapsed": false,
    "scrolled": false
   },
   "outputs": [
    {
     "name": "stdout",
     "output_type": "stream",
     "text": [
      "56\n"
     ]
    },
    {
     "data": {
      "image/png": "[encoded data removed]",
      "text/plain": [
       "<matplotlib.figure.Figure at 0xa047a20>"
      ]
     },
     "metadata": {},
     "output_type": "display_data"
    }
   ],
   "source": [
    "### plot all 3 on the same chart\n",
    "import prettyplotlib as ppl\n",
    "print len(data.columns)\n",
    "a = []\n",
    "aa = []\n",
    "aaa = []\n",
    "\n",
    "predicted1 = etr.predict(X_test)\n",
    "predicted2 = knn.predict(X_test)\n",
    "predicted3 = lin.predict(X_test)\n",
    "for j in range(Y_test.shape[1]):\n",
    "    re = []\n",
    "    for i in range(len(Y_test)):\n",
    "        predicted = predicted1[i][j]*P_std[j] + P_mean[j]\n",
    "        true = Y_test[i][j]*P_std[j] + P_mean[j]\n",
    "        re.append(np.abs((predicted - true)/true))\n",
    "    a.append(re)\n",
    "    re=[]\n",
    "    for i in range(len(Y_test)):\n",
    "        predicted = predicted2[i][j]*P_std[j] + P_mean[j]\n",
    "        true = Y_test[i][j]*P_std[j] + P_mean[j]\n",
    "        re.append(np.abs((predicted - true)/true))\n",
    "    aa.append(re)\n",
    "    re=[]\n",
    "    for i in range(len(Y_test)):\n",
    "        predicted = predicted3[i][j]*P_std[j] + P_mean[j]\n",
    "        true = Y_test[i][j]*P_std[j] + P_mean[j]\n",
    "        re.append(np.abs((predicted - true)/true))\n",
    "    aaa.append(re)\n",
    "    \n",
    "results1 = np.array(a)\n",
    "means1 = np.ndarray(shape=(P.shape[1],))\n",
    "stds1 = np.ndarray(shape=(P.shape[1],))\n",
    "results2 = np.array(aa)\n",
    "means2 = np.ndarray(shape=(P.shape[1],))\n",
    "stds2 = np.ndarray(shape=(P.shape[1],))\n",
    "results3 = np.array(aaa)\n",
    "means3 = np.ndarray(shape=(P.shape[1],))\n",
    "stds3 = np.ndarray(shape=(P.shape[1],))\n",
    "\n",
    "\n",
    "for p in range(results1.shape[0]):\n",
    "    mean1 = results1[p].mean()\n",
    "    std1 = results1[p].std()\n",
    "    mean2 = results2[p].mean()\n",
    "    std2 = results2[p].std()\n",
    "    mean3 = results3[p].mean()\n",
    "    std3 = results3[p].std()\n",
    "    \n",
    "    means1[p] = mean1\n",
    "    stds1[p] = std1/np.sqrt(results1.shape[1])\n",
    "    means2[p] = mean2\n",
    "    stds2[p] = std2/np.sqrt(results2.shape[1])\n",
    "    means3[p] = mean3\n",
    "    stds3[p] = std3/np.sqrt(results3.shape[1])\n",
    "fig = plt.figure(1, figsize=(8,5))\n",
    "ppl.bar(range(results1.shape[0]), means1*100,\n",
    "        xticklabels=names, grid='y', alpha=0.7,label='Random Forest') # etr\n",
    "ppl.bar(range(results2.shape[0]), means2*100, \n",
    "        grid='y', color='b', alpha=0.4,label='KNN') # knn\n",
    "# ppl.bar(range(results3.shape[0]), means3*100,\n",
    "#         grid='y', color='r', alpha=0.1, label='Linear') # lin\n",
    "plt.ylim(0,1.2)\n",
    "plt.legend()\n",
    "plt.ylabel('Mean % Relative Error \\n on Test Data', fontsize=20)\n",
    "plt.xticks(rotation='vertical', ha='center')\n",
    "plt.xlim(0,41)\n",
    "plt.show()"
   ]
  },
  {
   "cell_type": "markdown",
   "metadata": {},
   "source": [
    "### How long does it take to predict?"
   ]
  },
  {
   "cell_type": "code",
   "execution_count": 24,
   "metadata": {
    "collapsed": false
   },
   "outputs": [
    {
     "name": "stdout",
     "output_type": "stream",
     "text": [
      "prediction time: 0.220999956131\n",
      "[[  5.53889898e+02   1.76408246e-04  -2.92203163e-04   6.43070691e-03\n",
      "   -1.57649409e+01   8.21205278e-03  -1.28362599e-02   8.67361738e-16\n",
      "    1.60461922e-15   3.47106492e+00   6.75450472e+00  -2.34531414e+00\n",
      "    2.88232381e-02   2.30554555e-02  -1.43949995e-02  -1.01657900e-02\n",
      "    9.88792381e-15  -1.12757026e-15   5.78974581e-05   8.76609488e-04\n",
      "    6.93889390e-16  -3.03576608e-15   5.81637906e+00  -3.15071833e-02\n",
      "   -2.49366500e-16  -2.60208521e-16   1.79011877e-02  -1.10993361e-02\n",
      "    1.34601522e-03   6.59194921e-15  -3.81639165e-15   2.13548687e-02\n",
      "    1.32859642e-02  -2.05766451e-02  -8.98178849e-03   2.06547091e-02\n",
      "   -4.66773086e-04  -3.15071833e-03  -2.77555756e-15   1.95156391e-15\n",
      "    2.06129820e-02]]\n"
     ]
    }
   ],
   "source": [
    "import time\n",
    "temp5 = X_test[1].reshape(1,-1)\n",
    "st=time.time()\n",
    "temp4=etr.predict(temp5)\n",
    "print \"prediction time:\", (time.time()-st)\n",
    "print (temp4-Y_test[1])*100"
   ]
  },
  {
   "cell_type": "markdown",
   "metadata": {},
   "source": [
    "# What about giving each variable its own Random Forest?"
   ]
  },
  {
   "cell_type": "code",
   "execution_count": 19,
   "metadata": {
    "collapsed": false
   },
   "outputs": [
    {
     "name": "stdout",
     "output_type": "stream",
     "text": [
      "D1 Test score: -0.000638224938475\n",
      "Dsnref Test score: -0.000661999813548\n",
      "Dspref Test score: -0.00106256252017\n",
      "EaDsn Test score: -0.00115137125916\n",
      "EaDsp Test score: -2.67686319646e-05\n",
      "Eakn Test score: -0.00173028704587\n",
      "Eakp Test score: -3.47259580891e-06\n",
      "Rpn Test score: -0.00242546027788\n",
      "Rpp Test score: -0.000483890045183\n",
      "brugn Test score: -0.000770472555876\n",
      "brugp Test score: -7.36485105397e-05\n",
      "brugs Test score: -0.000407148288509\n",
      "c0 Test score: -0.00141391335039\n",
      "cpn Test score: -0.00217249774878\n",
      "cpp Test score: -0.000145260925075\n",
      "cps Test score: -0.000278833984904\n",
      "ctn Test score: -0.00455611501894\n",
      "ctp Test score: -0.000199821536943\n",
      "efn Test score: -0.00174760288873\n",
      "efp Test score: -4.10922300087e-05\n",
      "en Test score: -0.00317797283589\n",
      "ep Test score: -0.00193377110892\n",
      "es Test score: -0.000182047686253\n",
      "henv Test score: -0.00016856620348\n",
      "knref Test score: -3.17430132009e-05\n",
      "kpref Test score: -0.000427174450996\n",
      "lambdan Test score: -0.000841525284309\n",
      "lambdap Test score: -2.47449274431e-05\n",
      "lambdas Test score: -2.06564593874e-06\n",
      "ln1 Test score: -0.000240203320305\n",
      "lp Test score: -1.16843203015e-05\n",
      "ls Test score: -1.0999557043e-08\n",
      "rhon Test score: -5.82428342526e-05\n",
      "rhop Test score: -0.000421245368862\n",
      "rhos Test score: -6.22097108143e-05\n",
      "sigma Test score: -0.000179345203806\n",
      "sigman Test score: -0.00030683314361\n",
      "sigmap Test score: -0.000156727015557\n",
      "socn Test score: -0.000217730705709\n",
      "socp Test score: -0.000435885289984\n",
      "t1 Test score: -0.00096147858707\n"
     ]
    }
   ],
   "source": [
    "from sklearn.ensemble import ExtraTreesRegressor\n",
    "aaaa = []\n",
    "for j in range(P.shape[1]):\n",
    "    Y_temp = np.zeros((len(YY_train),))\n",
    "    Y_temp2 = np.zeros((len(Y_test),))\n",
    "\n",
    "    for i in range(len(Y_test)):\n",
    "        Y_temp2[i]=Y_test[i][j]\n",
    "    start_time = time.time()\n",
    "    etr7 = ExtraTreesRegressor(n_estimators=200, n_jobs=-1)\n",
    "    etr7.fit(X_train,Y_temp)\n",
    "    print names[j], \"Test score:\", etr7.score(X_test,Y_temp2)\n",
    "    predicted3 = etr7.predict(X_test)\n",
    "    re = []\n",
    "    for i in range(len(Y_test)):\n",
    "        predicted = predicted3[i]*P_std[j] + P_mean[j]\n",
    "        true = Y_test[i][j]*P_std[j] + P_mean[j]\n",
    "        re.append(np.abs((predicted - true)/true))\n",
    "    aaaa.append(re)"
   ]
  },
  {
   "cell_type": "code",
   "execution_count": null,
   "metadata": {
    "collapsed": false,
    "scrolled": false
   },
   "outputs": [
    {
     "data": {
      "image/png": "[encoded data removed]",
      "text/plain": [
       "<matplotlib.figure.Figure at 0x1214cb70>"
      ]
     },
     "metadata": {},
     "output_type": "display_data"
    }
   ],
   "source": [
    "results=np.array(a)\n",
    "results2 = np.array(aaaa)\n",
    "means = np.ndarray(shape=(P.shape[1],))\n",
    "stds = np.ndarray(shape=(P.shape[1],))\n",
    "means2 = np.ndarray(shape=(P.shape[1],))\n",
    "stds2 = np.ndarray(shape=(P.shape[1],))\n",
    "\n",
    "for p in range(results.shape[0]):\n",
    "    mean = results[p].mean()\n",
    "    std = results[p].std()\n",
    "    \n",
    "    means[p] = mean\n",
    "    stds[p] = std/np.sqrt(results.shape[1])\n",
    "\n",
    "for p in range(results2.shape[0]):  \n",
    "    mean2 = results2[p].mean()\n",
    "    std2 = results2[p].std()\n",
    "    \n",
    "    means2[p] = mean2\n",
    "    stds2[p] = std2/np.sqrt(results2.shape[1])\n",
    "import prettyplotlib as ppl\n",
    "\n",
    "fig = plt.figure(1, figsize=(8,5))\n",
    "ppl.bar(range(results.shape[0]), means*100,\n",
    "        xticklabels=names, grid='y', label='One Forest')\n",
    "ppl.bar(range(results2.shape[0]), means2*100,\n",
    "        xticklabels=names, grid='y', color='b', alpha=0.3, label='41 Forests')\n",
    "plt.ylabel('Mean % Relative Error \\n on Test Data', fontsize=20)\n",
    "plt.xticks(rotation='vertical', ha='center')\n",
    "plt.legend()\n",
    "plt.xlim(0,P.shape[1])\n",
    "plt.show()\n"
   ]
  },
  {
   "cell_type": "markdown",
   "metadata": {},
   "source": [
    "# Does adding noise degrade predictions?"
   ]
  },
  {
   "cell_type": "code",
   "execution_count": null,
   "metadata": {
    "collapsed": false
   },
   "outputs": [
    {
     "name": "stdout",
     "output_type": "stream",
     "text": [
      "D1 Test score: -0.000638224938475\n",
      "Dsnref Test score: -0.000661999813548\n",
      "Dspref Test score: -0.00106256252017\n",
      "EaDsn Test score: -0.00115137125916\n",
      "EaDsp Test score: -2.67686319646e-05\n",
      "Eakn Test score: -0.00173028704587\n",
      "Eakp Test score: -3.47259580891e-06\n",
      "Rpn Test score: -0.00242546027788\n",
      "Rpp Test score: -0.000483890045183\n",
      "brugn Test score: -0.000770472555876\n",
      "brugp Test score: -7.36485105397e-05\n",
      "brugs Test score: -0.000407148288509\n"
     ]
    }
   ],
   "source": [
    "from sklearn.ensemble import ExtraTreesRegressor\n",
    "aaaaa = []\n",
    "for j in range(P.shape[1]):\n",
    "    Y_temp = np.zeros((len(YY_train),))\n",
    "#     Y_temp2 = np.zeros((len(Y_test),))\n",
    "    for i in range(len(Y_test)):\n",
    "        Y_temp2[i]=Y_test[i][j]\n",
    "    start_time = time.time()\n",
    "    etr8 = ExtraTreesRegressor(n_estimators=200, n_jobs=-1)\n",
    "    etr8.fit(X_train_noise,Y_temp)\n",
    "    print names[j], \"Test score:\", etr8.score(X_test_noise,Y_temp2)\n",
    "    predicted3 = etr8.predict(X_test_noise)\n",
    "    re = []\n",
    "    for i in range(len(Y_test)):\n",
    "        predicted = predicted3[i]*P_std[j] + P_mean[j]\n",
    "        true = Y_test[i][j]*P_std[j] + P_mean[j]\n",
    "        re.append(np.abs((predicted - true)/true))\n",
    "    aaaaa.append(re)"
   ]
  },
  {
   "cell_type": "code",
   "execution_count": null,
   "metadata": {
    "collapsed": false
   },
   "outputs": [],
   "source": [
    "results1 = np.array(a)\n",
    "results2 = np.array(aaaa)\n",
    "results3 = np.array(aaaaa)\n",
    "means = np.ndarray(shape=(P.shape[1],))\n",
    "stds = np.ndarray(shape=(P.shape[1],))\n",
    "means2 = np.ndarray(shape=(P.shape[1],))\n",
    "stds2 = np.ndarray(shape=(P.shape[1],))\n",
    "means3 = np.ndarray(shape=(P.shape[1],))\n",
    "stds3 = np.ndarray(shape=(P.shape[1],))\n",
    "\n",
    "for p in range(results1.shape[0]):\n",
    "    mean = results1[p].mean()\n",
    "    std = results1[p].std()\n",
    "    \n",
    "    means[p] = mean\n",
    "    stds[p] = std/np.sqrt(results1.shape[1])\n",
    "\n",
    "for p in range(results2.shape[0]):  \n",
    "    mean2 = results2[p].mean()\n",
    "    std2 = results2[p].std()\n",
    "    \n",
    "    means2[p] = mean2\n",
    "    stds2[p] = std2/np.sqrt(results2.shape[1])\n",
    "\n",
    "for p in range(results3.shape[0]):  \n",
    "    mean3 = results3[p].mean()\n",
    "    std3 = results3[p].std()\n",
    "    \n",
    "    means3[p] = mean3\n",
    "    stds3[p] = std3/np.sqrt(results3.shape[1])\n",
    "import prettyplotlib as ppl\n",
    "\n",
    "fig = plt.figure(1, figsize=(8,5))\n",
    "ppl.bar(range(results1.shape[0]), means1*100,\n",
    "        xticklabels=names, grid='y',label='One Forest')\n",
    "ppl.bar(range(results2.shape[0]), means2*100,\n",
    "        xticklabels=names, grid='y', color='b', alpha=0.4,label='No Noise')\n",
    "ppl.bar(range(results3.shape[0]), means3*100,\n",
    "        xticklabels=names, grid='y', color='r', alpha=0.1, label='Added Noise')\n",
    "plt.ylabel('Mean % Relative Error \\n on Test Data', fontsize=20)\n",
    "plt.xticks(rotation='vertical', ha='center')\n",
    "plt.legend()\n",
    "plt.xlim(0,P.shape[1])\n",
    "plt.show()"
   ]
  },
  {
   "cell_type": "code",
   "execution_count": null,
   "metadata": {
    "collapsed": true
   },
   "outputs": [],
   "source": []
  },
  {
   "cell_type": "code",
   "execution_count": null,
   "metadata": {
    "collapsed": true
   },
   "outputs": [],
   "source": []
  },
  {
   "cell_type": "code",
   "execution_count": null,
   "metadata": {
    "collapsed": true
   },
   "outputs": [],
   "source": []
  },
  {
   "cell_type": "code",
   "execution_count": null,
   "metadata": {
    "collapsed": true
   },
   "outputs": [],
   "source": []
  },
  {
   "cell_type": "code",
   "execution_count": null,
   "metadata": {
    "collapsed": true
   },
   "outputs": [],
   "source": []
  }
 ],
 "metadata": {
  "anaconda-cloud": {},
  "kernelspec": {
   "display_name": "Python [Root]",
   "language": "python",
   "name": "Python [Root]"
  },
  "language_info": {
   "codemirror_mode": {
    "name": "ipython",
    "version": 2
   },
   "file_extension": ".py",
   "mimetype": "text/x-python",
   "name": "python",
   "nbconvert_exporter": "python",
   "pygments_lexer": "ipython2",
   "version": "2.7.12"
  }
 },
 "nbformat": 4,
 "nbformat_minor": 0
}
